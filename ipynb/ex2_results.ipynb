{
 "cells": [
  {
   "cell_type": "markdown",
   "metadata": {
    "collapsed": true
   },
   "source": [
    "A notebook to process experimental results of ex2_prob_params.py. p(reject) as problem parameters are varied."
   ]
  },
  {
   "cell_type": "code",
   "execution_count": null,
   "metadata": {
    "collapsed": false
   },
   "outputs": [],
   "source": [
    "%load_ext autoreload\n",
    "%autoreload 2\n",
    "%matplotlib inline\n",
    "#%config InlineBackend.figure_format = 'svg'\n",
    "#%config InlineBackend.figure_format = 'pdf'\n",
    "\n",
    "import numpy as np\n",
    "\n",
    "import matplotlib\n",
    "import matplotlib.pyplot as plt\n",
    "import kgof.data as data\n",
    "import kgof.glo as glo\n",
    "import kgof.goftest as gof\n",
    "import kgof.kernel as kernel\n",
    "import kgof.plot as plot\n",
    "import kgof.util as util\n",
    "\n",
    "import scipy.stats as stats"
   ]
  },
  {
   "cell_type": "code",
   "execution_count": null,
   "metadata": {
    "collapsed": false
   },
   "outputs": [],
   "source": [
    "# font options\n",
    "font = {\n",
    "    #'family' : 'normal',\n",
    "    #'weight' : 'bold',\n",
    "    'size'   : 18\n",
    "}\n",
    "\n",
    "plt.rc('font', **font)\n",
    "plt.rc('lines', linewidth=2)\n",
    "matplotlib.rcParams['pdf.fonttype'] = 42\n",
    "matplotlib.rcParams['ps.fonttype'] = 42"
   ]
  },
  {
   "cell_type": "code",
   "execution_count": null,
   "metadata": {
    "collapsed": true
   },
   "outputs": [],
   "source": [
    "def load_plot_vs_params(fname, xlabel='Problem parameter', show_legend=True):\n",
    "    func_xvalues = lambda agg_results: agg_results['prob_params']\n",
    "    ex = 2\n",
    "    def func_title(agg_results):\n",
    "        repeats, _, n_methods = agg_results['job_results'].shape\n",
    "        alpha = agg_results['alpha']\n",
    "        test_size = (1.0 - agg_results['tr_proportion'])*agg_results['sample_size']\n",
    "        title = '%s. %d trials. test size: %d. $\\\\alpha$ = %.2g.'%\\\n",
    "            ( agg_results['prob_label'], repeats, test_size, alpha)\n",
    "        return title\n",
    "    #plt.figure(figsize=(10,5))\n",
    "    results = plot.plot_prob_reject(\n",
    "        ex, fname, func_xvalues, xlabel, func_title=func_title)\n",
    "    \n",
    "    plt.title('')\n",
    "    plt.gca().legend(loc='best').set_visible(show_legend)\n",
    "    #plt.grid(True)\n",
    "        \n",
    "    return results\n",
    "\n",
    "\n",
    "def load_runtime_vs_params(fname, xlabel='Problem parameter', \n",
    "                      show_legend=True, xscale='linear', yscale='log'):\n",
    "    func_xvalues = lambda agg_results: agg_results['prob_params']\n",
    "    ex = 2\n",
    "    def func_title(agg_results):\n",
    "        repeats, _, n_methods = agg_results['job_results'].shape\n",
    "        alpha = agg_results['alpha']\n",
    "        title = '%s. %d trials. $\\\\alpha$ = %.2g.'%\\\n",
    "            ( agg_results['prob_label'], repeats, alpha)\n",
    "        return title\n",
    "    \n",
    "    #plt.figure(figsize=(10,6))\n",
    "    \n",
    "    results = plot.plot_runtime(ex, fname,  \n",
    "                                func_xvalues, xlabel=xlabel, func_title=func_title)\n",
    "    \n",
    "    plt.title('')\n",
    "    plt.gca().legend(loc='best').set_visible(show_legend)\n",
    "    #plt.grid(True)\n",
    "    if xscale is not None:\n",
    "        plt.xscale(xscale)\n",
    "    if yscale is not None:\n",
    "        plt.yscale(yscale)\n",
    "        \n",
    "    return results\n"
   ]
  },
  {
   "cell_type": "code",
   "execution_count": null,
   "metadata": {
    "collapsed": false,
    "scrolled": true
   },
   "outputs": [],
   "source": [
    "# Gaussian mean difference. Fix dimension. Vary the mean\n",
    "#gmd_fname = 'ex2-gmd_d10_ms-me5_n1000_rs100_pmi0.000_pma0.600_a0.050_trp0.50.p'\n",
    "gmd_fname = 'ex2-gmd_d10_ms-me6_n1000_rs100_pmi0.000_pma0.150_a0.050_trp0.50.p'\n",
    "gmd_results = load_plot_vs_params(gmd_fname, xlabel='mean', show_legend=True)\n",
    "print 'd=10, n=1000'\n",
    "#plt.ylim([0.03, 0.1])\n",
    "#plt.savefig(bsg_fname.replace('.p', '.pdf', 1), bbox_inches='tight')"
   ]
  },
  {
   "cell_type": "markdown",
   "metadata": {},
   "source": [
    "$$p(x) = \\mathcal{N}(0, I) \\\\\n",
    "q(x) = \\mathcal{N}((1,0,\\ldots), I)$$"
   ]
  },
  {
   "cell_type": "code",
   "execution_count": null,
   "metadata": {
    "collapsed": false,
    "scrolled": true
   },
   "outputs": [],
   "source": [
    "# Gaussian increasing variance\n",
    "gvinc_d1_fname = 'ex2-gvinc_d1-me6_n1000_rs100_pmi1.000_pma2.500_a0.050_trp0.50.p'\n",
    "gvinc_d1_results = load_plot_vs_params(gvinc_d1_fname, xlabel='$\\mathbb{V}_{x\\sim q}[x]$', \n",
    "    show_legend=False)\n",
    "plt.title('d=1')\n",
    "# plt.ylim([0.02, 0.08])\n",
    "# plt.xlim([0, 4])\n",
    "#plt.legend(bbox_to_anchor=(1.70, 1.05))\n",
    "#plt.savefig(gsign_fname.replace('.p', '.pdf', 1), bbox_inches='tight')"
   ]
  },
  {
   "cell_type": "markdown",
   "metadata": {},
   "source": [
    "$$p(x)=\\mathcal{N}(0, 1) \\\\\n",
    "q(x)=\\mathcal{N}(0, v)$$"
   ]
  },
  {
   "cell_type": "code",
   "execution_count": null,
   "metadata": {
    "collapsed": false,
    "scrolled": true
   },
   "outputs": [],
   "source": [
    "# Gaussian increasing variance\n",
    "gvinc_d5_fname = 'ex2-gvinc_d5-me6_n1000_rs100_pmi1.000_pma2.500_a0.050_trp0.50.p'\n",
    "gvinc_d5_results = load_plot_vs_params(gvinc_d5_fname, xlabel='$\\mathbb{V}_{x\\sim q}[x]$', \n",
    "    show_legend=False)\n",
    "plt.title('d=5')\n",
    "# plt.ylim([0.02, 0.08])\n",
    "# plt.xlim([0, 4])\n",
    "#plt.legend(bbox_to_anchor=(1.70, 1.05))\n",
    "#plt.savefig(gsign_fname.replace('.p', '.pdf', 1), bbox_inches='tight')"
   ]
  },
  {
   "cell_type": "markdown",
   "metadata": {},
   "source": [
    "$$p(x)=\\mathcal{N}(0, I) \\\\\n",
    "q(x)=\\mathcal{N}(0, vI)$$"
   ]
  },
  {
   "cell_type": "code",
   "execution_count": null,
   "metadata": {
    "collapsed": false
   },
   "outputs": [],
   "source": [
    "# Gaussian variance diffenece (GVD)\n",
    "gvd_fname = 'ex2-gvd-me6_n1000_rs100_pmi1.000_pma15.000_a0.050_trp0.50.p'\n",
    "gvd_results = load_plot_vs_params(gvd_fname, xlabel='$d$', show_legend=False)"
   ]
  },
  {
   "cell_type": "markdown",
   "metadata": {},
   "source": [
    "$$p(x)=\\mathcal{N}(0, I) \\\\\n",
    "q(x)=\\mathcal{N}(0, (2,1,1,\\ldots))$$"
   ]
  },
  {
   "cell_type": "code",
   "execution_count": null,
   "metadata": {
    "collapsed": false
   },
   "outputs": [],
   "source": [
    "# Gauss-Bernoulli RBM\n",
    "gb_rbm_fname = 'ex2-gbrbm_dx50_dh10-me6_n1000_rs100_pmi0.000_pma0.003_a0.050_trp0.50.p'\n",
    "gb_rbm_results = load_plot_vs_params(gb_rbm_fname, xlabel='Perturbation variance (to B)', \n",
    "                                     show_legend=True)\n",
    "# plt.xlim([-0.1, -0.2])"
   ]
  },
  {
   "cell_type": "code",
   "execution_count": null,
   "metadata": {
    "collapsed": false
   },
   "outputs": [],
   "source": [
    "# p: Gaussian, q: Laplace. Vary d\n",
    "glaplace_fname = 'ex2-glaplace-me6_n1000_rs100_pmi1.000_pma15.000_a0.050_trp0.50.p'\n",
    "glaplace_results = load_plot_vs_params(glaplace_fname, xlabel='$d$', show_legend=False)"
   ]
  },
  {
   "cell_type": "markdown",
   "metadata": {},
   "source": [
    "$$p(x)=\\mathcal{N}(0, 1) \\\\\n",
    "q(x)=\\mathrm{Laplace}(0, 1/\\sqrt{2})$$\n",
    "\n",
    "q has the same unit variance as p."
   ]
  },
  {
   "cell_type": "markdown",
   "metadata": {
    "collapsed": true
   },
   "source": [
    "## Examine result files"
   ]
  },
  {
   "cell_type": "code",
   "execution_count": null,
   "metadata": {
    "collapsed": true
   },
   "outputs": [],
   "source": [
    "fname = 'ex2-gvinc_d1-me4_n500_rs50_pmi1.000_pma4.000_a0.050_trp0.50.p'\n",
    "fpath = glo.ex_result_file(2, fname)\n",
    "results = glo.pickle_load(fpath)"
   ]
  },
  {
   "cell_type": "code",
   "execution_count": null,
   "metadata": {
    "collapsed": false
   },
   "outputs": [],
   "source": [
    "job_results = results['job_results']\n",
    "trial = 1\n",
    "# #params x #methods numpy array\n",
    "params_methods = job_results[trial]\n",
    "method_ind = 2\n",
    "param_ind = 0\n",
    "trial_result = params_methods[param_ind, method_ind]\n",
    "trial_result"
   ]
  },
  {
   "cell_type": "code",
   "execution_count": null,
   "metadata": {
    "collapsed": false
   },
   "outputs": [],
   "source": [
    "ds = data.DSIsotropicNormal(np.zeros(1), 1)\n",
    "te = ds.sample(n=200, seed=2)\n",
    "fssd_opt = trial_result['goftest']\n",
    "fssd_opt.perform_test(te)"
   ]
  },
  {
   "cell_type": "code",
   "execution_count": null,
   "metadata": {
    "collapsed": false
   },
   "outputs": [],
   "source": [
    "fssd_opt.get_H1_mean_variance(te)"
   ]
  },
  {
   "cell_type": "code",
   "execution_count": null,
   "metadata": {
    "collapsed": false
   },
   "outputs": [],
   "source": [
    "fssd_opt.k.sigma2"
   ]
  },
  {
   "cell_type": "code",
   "execution_count": null,
   "metadata": {
    "collapsed": true
   },
   "outputs": [],
   "source": []
  },
  {
   "cell_type": "code",
   "execution_count": null,
   "metadata": {
    "collapsed": true
   },
   "outputs": [],
   "source": []
  }
 ],
 "metadata": {
  "kernelspec": {
   "display_name": "Python [Root]",
   "language": "python",
   "name": "Python [Root]"
  },
  "language_info": {
   "codemirror_mode": {
    "name": "ipython",
    "version": 2
   },
   "file_extension": ".py",
   "mimetype": "text/x-python",
   "name": "python",
   "nbconvert_exporter": "python",
   "pygments_lexer": "ipython2",
   "version": "2.7.12"
  }
 },
 "nbformat": 4,
 "nbformat_minor": 0
}
