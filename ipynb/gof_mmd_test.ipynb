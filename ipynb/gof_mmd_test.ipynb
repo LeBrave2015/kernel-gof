{
 "cells": [
  {
   "cell_type": "markdown",
   "metadata": {},
   "source": [
    "A notebook to test and demonstrate the `MMD test` of Gretton et al., 2012 used as a goodness-of-fit test. Require the ability to sample from the density `p`."
   ]
  },
  {
   "cell_type": "code",
   "execution_count": null,
   "metadata": {
    "collapsed": false
   },
   "outputs": [],
   "source": [
    "%load_ext autoreload\n",
    "%autoreload 2\n",
    "%matplotlib inline\n",
    "#%config InlineBackend.figure_format = 'svg'\n",
    "#%config InlineBackend.figure_format = 'pdf'\n",
    "\n",
    "import freqopttest.tst as tst\n",
    "import kgof\n",
    "import kgof.data as data\n",
    "import kgof.density as density\n",
    "import kgof.goftest as gof\n",
    "import kgof.mmd as mgof\n",
    "import kgof.kernel as ker\n",
    "import kgof.util as util\n",
    "import matplotlib\n",
    "import matplotlib.pyplot as plt\n",
    "import numpy as np\n",
    "import scipy.stats as stats"
   ]
  },
  {
   "cell_type": "code",
   "execution_count": null,
   "metadata": {
    "collapsed": true
   },
   "outputs": [],
   "source": [
    "# font options\n",
    "font = {\n",
    "    #'family' : 'normal',\n",
    "    #'weight' : 'bold',\n",
    "    'size'   : 16\n",
    "}\n",
    "\n",
    "plt.rc('font', **font)\n",
    "plt.rc('lines', linewidth=2)\n",
    "matplotlib.rcParams['pdf.fonttype'] = 42\n",
    "matplotlib.rcParams['ps.fonttype'] = 42"
   ]
  },
  {
   "cell_type": "markdown",
   "metadata": {},
   "source": [
    "## MMD test (as a goodness-of-fit test)"
   ]
  },
  {
   "cell_type": "code",
   "execution_count": null,
   "metadata": {
    "collapsed": true
   },
   "outputs": [],
   "source": [
    "# true p\n",
    "seed = 20\n",
    "d = 1\n",
    "# sample\n",
    "n = 400\n",
    "alpha = 0.05\n",
    "\n",
    "mean = np.zeros(d)\n",
    "variance = 1"
   ]
  },
  {
   "cell_type": "code",
   "execution_count": null,
   "metadata": {
    "collapsed": false
   },
   "outputs": [],
   "source": [
    "p = density.IsotropicNormal(mean, variance)\n",
    "q_mean = mean.copy()\n",
    "q_variance = variance\n",
    "# q_mean[0] = 1\n",
    "\n",
    "ds = data.DSIsotropicNormal(q_mean, q_variance+1)\n",
    "# q_means = np.array([ [0], [0]])\n",
    "# q_variances = np.array([0.01, 1])\n",
    "# ds = data.DSIsoGaussianMixture(q_means, q_variances, pmix=[0.2, 0.8])"
   ]
  },
  {
   "cell_type": "code",
   "execution_count": null,
   "metadata": {
    "collapsed": false
   },
   "outputs": [],
   "source": [
    "# Test\n",
    "dat = ds.sample(n, seed=seed+2)\n",
    "X = dat.data()\n",
    "# Use median heuristic to determine the Gaussian kernel width\n",
    "sig2 = util.meddistance(X, subsample=1000)**2\n",
    "k = ker.KGauss(sig2)\n"
   ]
  },
  {
   "cell_type": "code",
   "execution_count": null,
   "metadata": {
    "collapsed": false,
    "scrolled": true
   },
   "outputs": [],
   "source": [
    "mmd_test = mgof.QuadMMDGof(p, k, n_permute=400, alpha=alpha, seed=seed)\n",
    "mmd_result = mmd_test.perform_test(dat)\n",
    "mmd_result"
   ]
  },
  {
   "cell_type": "code",
   "execution_count": null,
   "metadata": {
    "collapsed": false
   },
   "outputs": [],
   "source": [
    "print 'Reject H0?: {0}'.format(mmd_result['h0_rejected'])\n",
    "\n",
    "sim_stats = mmd_result['list_permuted_mmd2']\n",
    "stat = mmd_result['test_stat']\n",
    "unif_weights = np.ones_like(sim_stats)/float(len(sim_stats))\n",
    "plt.hist(sim_stats, label='Simulated', weights=unif_weights)\n",
    "plt.plot([stat, stat], [0, 0], 'r*', markersize=30, label='Stat')\n",
    "plt.legend(loc='best')\n"
   ]
  },
  {
   "cell_type": "markdown",
   "metadata": {
    "collapsed": true
   },
   "source": [
    "## MMD test with parameter search"
   ]
  },
  {
   "cell_type": "code",
   "execution_count": null,
   "metadata": {
    "collapsed": false,
    "scrolled": false
   },
   "outputs": [],
   "source": [
    "mmd_opt = mgof.QuadMMDGofOpt(p, n_permute=400, alpha=alpha, seed=seed)\n",
    "mmd_opt_result = mmd_opt.perform_test(dat, tr_proportion=0.2)\n",
    "mmd_opt_result"
   ]
  },
  {
   "cell_type": "code",
   "execution_count": null,
   "metadata": {
    "collapsed": true
   },
   "outputs": [],
   "source": []
  },
  {
   "cell_type": "code",
   "execution_count": null,
   "metadata": {
    "collapsed": true
   },
   "outputs": [],
   "source": []
  }
 ],
 "metadata": {
  "kernelspec": {
   "display_name": "Python 2",
   "language": "python",
   "name": "python2"
  },
  "language_info": {
   "codemirror_mode": {
    "name": "ipython",
    "version": 2
   },
   "file_extension": ".py",
   "mimetype": "text/x-python",
   "name": "python",
   "nbconvert_exporter": "python",
   "pygments_lexer": "ipython2",
   "version": "2.7.13"
  }
 },
 "nbformat": 4,
 "nbformat_minor": 0
}
