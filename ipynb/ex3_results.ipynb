{
 "cells": [
  {
   "cell_type": "markdown",
   "metadata": {
    "collapsed": true
   },
   "source": [
    "A notebook to process experimental results of ex2_prob_params.py. p(reject) as problem parameters are varied."
   ]
  },
  {
   "cell_type": "code",
   "execution_count": null,
   "metadata": {
    "collapsed": false
   },
   "outputs": [],
   "source": [
    "%load_ext autoreload\n",
    "%autoreload 2\n",
    "%matplotlib inline\n",
    "#%config InlineBackend.figure_format = 'svg'\n",
    "#%config InlineBackend.figure_format = 'pdf'\n",
    "\n",
    "import numpy as np\n",
    "\n",
    "import matplotlib\n",
    "import matplotlib.pyplot as plt\n",
    "import kgof.data as data\n",
    "import kgof.glo as glo\n",
    "import kgof.goftest as gof\n",
    "import kgof.kernel as kernel\n",
    "import kgof.plot as plot\n",
    "import kgof.util as util\n",
    "\n",
    "import scipy.stats as stats"
   ]
  },
  {
   "cell_type": "code",
   "execution_count": null,
   "metadata": {
    "collapsed": false
   },
   "outputs": [],
   "source": [
    "# font options\n",
    "font = {\n",
    "    #'family' : 'normal',\n",
    "    #'weight' : 'bold',\n",
    "    'size'   : 18\n",
    "}\n",
    "\n",
    "plt.rc('font', **font)\n",
    "plt.rc('lines', linewidth=2)\n",
    "matplotlib.rcParams['pdf.fonttype'] = 42\n",
    "matplotlib.rcParams['ps.fonttype'] = 42"
   ]
  },
  {
   "cell_type": "code",
   "execution_count": null,
   "metadata": {
    "collapsed": true
   },
   "outputs": [],
   "source": [
    "def load_plot_vs_Js(fname, show_legend=True, xscale='log', yscale='linear'):\n",
    "    \"\"\"\n",
    "    J = number of test locations.\n",
    "    \"\"\"\n",
    "    func_xvalues = lambda agg_results: agg_results['Js']\n",
    "    ex = 3\n",
    "    def func_title(agg_results):\n",
    "        repeats, _, n_methods = agg_results['job_results'].shape\n",
    "        alpha = agg_results['alpha']\n",
    "        test_size = (1.0 - agg_results['tr_proportion'])*agg_results['sample_size']\n",
    "        title = '%s. %d trials. test size: %d. $\\\\alpha$ = %.2g.'%\\\n",
    "            ( agg_results['prob_label'], repeats, test_size, alpha)\n",
    "        return title\n",
    "    #plt.figure(figsize=(10,5))\n",
    "    results = plot.plot_prob_reject(\n",
    "        ex, fname, func_xvalues, '', func_title=func_title)\n",
    "    \n",
    "    plt.title('')\n",
    "    \n",
    "    if xscale is not None:\n",
    "        plt.xscale(xscale)\n",
    "    if yscale is not None:\n",
    "        plt.yscale(yscale)\n",
    "    \n",
    "    plt.xlabel('$J$')\n",
    "    if show_legend:\n",
    "        plt.gca().legend(loc='best').set_visible(show_legend)\n",
    "        plt.legend(bbox_to_anchor=(1.70, 1.05))\n",
    "        \n",
    "    #plt.grid(True)\n",
    "        \n",
    "    return results\n",
    "\n",
    "\n",
    "def load_runtime_vs_Js(fname, xlabel='$J$ parameter', \n",
    "                      show_legend=True, xscale='linear', yscale='log'):\n",
    "    func_xvalues = lambda agg_results: agg_results['Js']\n",
    "    ex = 2\n",
    "    def func_title(agg_results):\n",
    "        repeats, _, n_methods = agg_results['job_results'].shape\n",
    "        alpha = agg_results['alpha']\n",
    "        title = '%s. %d trials. $\\\\alpha$ = %.2g.'%\\\n",
    "            ( agg_results['prob_label'], repeats, alpha)\n",
    "        return title\n",
    "    \n",
    "    #plt.figure(figsize=(10,6))\n",
    "    \n",
    "    results = plot.plot_runtime(ex, fname,  \n",
    "                                func_xvalues, xlabel=xlabel, func_title=func_title)\n",
    "    \n",
    "    plt.title('')\n",
    "    plt.gca().legend(loc='best').set_visible(show_legend)\n",
    "    \n",
    "    #plt.grid(True)\n",
    "    if xscale is not None:\n",
    "        plt.xscale(xscale)\n",
    "    if yscale is not None:\n",
    "        plt.yscale(yscale)\n",
    "        \n",
    "    return results\n"
   ]
  },
  {
   "cell_type": "code",
   "execution_count": null,
   "metadata": {
    "collapsed": false
   },
   "outputs": [],
   "source": [
    "# Same Gaussian\n",
    "sg5_fname = \"ex3-sg5-me3_n1000_rs50_Jmi1_Jma16_a0.050_trp0.50.p\"\n",
    "sg5_results = load_plot_vs_Js(sg5_fname, show_legend=True)"
   ]
  },
  {
   "cell_type": "markdown",
   "metadata": {},
   "source": [
    "$$p(x)=\\mathcal{N}(0, I) \\\\\n",
    "q(x)=\\mathcal{N}(0, I)$$"
   ]
  },
  {
   "cell_type": "code",
   "execution_count": null,
   "metadata": {
    "collapsed": false,
    "scrolled": true
   },
   "outputs": [],
   "source": [
    "# Gaussian variance difference. \n",
    "gvd5_fname = 'ex3-gvd5-me3_n1000_rs50_Jmi1_Jma16_a0.050_trp0.50.p'\n",
    "gvd5_results = load_plot_vs_Js(gvd5_fname, show_legend=True)\n",
    "#plt.ylim([0.03, 0.1])\n",
    "#plt.savefig(bsg_fname.replace('.p', '.pdf', 1), bbox_inches='tight')"
   ]
  },
  {
   "cell_type": "markdown",
   "metadata": {},
   "source": [
    "$$p(x)=\\mathcal{N}(0, I) \\\\\n",
    "q(x)=\\mathcal{N}(0, \\mathrm{diag}(2,1,1,\\ldots))$$"
   ]
  },
  {
   "cell_type": "code",
   "execution_count": null,
   "metadata": {
    "collapsed": false
   },
   "outputs": [],
   "source": [
    "# Gaussian mean difference\n",
    "gmd5_fname = 'ex3-gmd5-me3_n1000_rs50_Jmi1_Jma16_a0.050_trp0.50.p'\n",
    "gmd5_results = load_plot_vs_Js(gmd5_fname, show_legend=True)"
   ]
  },
  {
   "cell_type": "markdown",
   "metadata": {},
   "source": [
    "$$p(x) = \\mathcal{N}(0, I) \\\\\n",
    "q(x) = \\mathcal{N}((1,0,\\ldots), I)$$"
   ]
  },
  {
   "cell_type": "code",
   "execution_count": null,
   "metadata": {
    "collapsed": false,
    "scrolled": false
   },
   "outputs": [],
   "source": [
    "# Gauss-Bernoulli RBM. H0 case\n",
    "rbm_h0_fname = 'ex3-gbrbm_dx50_dh10_v0-me3_n1000_rs50_Jmi1_Jma16_a0.050_trp0.50.p'\n",
    "rbm_h0_results = load_plot_vs_Js(rbm_h0_fname, show_legend=True)\n"
   ]
  },
  {
   "cell_type": "code",
   "execution_count": null,
   "metadata": {
    "collapsed": false
   },
   "outputs": [],
   "source": [
    "# Gauss-Bernoulli RBM. H1 case\n",
    "rbm_h1_fname = 'ex3-gbrbm_dx50_dh10_v1em3-me3_n1000_rs50_Jmi1_Jma16_a0.050_trp0.50.p'\n",
    "rbm_h1_results = load_plot_vs_Js(rbm_h1_fname, show_legend=True)"
   ]
  },
  {
   "cell_type": "code",
   "execution_count": null,
   "metadata": {
    "collapsed": true
   },
   "outputs": [],
   "source": []
  },
  {
   "cell_type": "code",
   "execution_count": null,
   "metadata": {
    "collapsed": true
   },
   "outputs": [],
   "source": []
  },
  {
   "cell_type": "code",
   "execution_count": null,
   "metadata": {
    "collapsed": true
   },
   "outputs": [],
   "source": []
  },
  {
   "cell_type": "code",
   "execution_count": null,
   "metadata": {
    "collapsed": true
   },
   "outputs": [],
   "source": []
  },
  {
   "cell_type": "code",
   "execution_count": null,
   "metadata": {
    "collapsed": true
   },
   "outputs": [],
   "source": []
  },
  {
   "cell_type": "code",
   "execution_count": null,
   "metadata": {
    "collapsed": true
   },
   "outputs": [],
   "source": []
  },
  {
   "cell_type": "code",
   "execution_count": null,
   "metadata": {
    "collapsed": true
   },
   "outputs": [],
   "source": []
  },
  {
   "cell_type": "code",
   "execution_count": null,
   "metadata": {
    "collapsed": true
   },
   "outputs": [],
   "source": []
  }
 ],
 "metadata": {
  "kernelspec": {
   "display_name": "Python [Root]",
   "language": "python",
   "name": "Python [Root]"
  },
  "language_info": {
   "codemirror_mode": {
    "name": "ipython",
    "version": 2
   },
   "file_extension": ".py",
   "mimetype": "text/x-python",
   "name": "python",
   "nbconvert_exporter": "python",
   "pygments_lexer": "ipython2",
   "version": "2.7.12"
  }
 },
 "nbformat": 4,
 "nbformat_minor": 0
}
