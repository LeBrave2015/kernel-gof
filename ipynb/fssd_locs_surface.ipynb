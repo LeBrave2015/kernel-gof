{
 "cells": [
  {
   "cell_type": "markdown",
   "metadata": {},
   "source": [
    "Plot the Stein witness function, and the mean/std objective as a function of the test locations."
   ]
  },
  {
   "cell_type": "code",
   "execution_count": null,
   "metadata": {
    "collapsed": false
   },
   "outputs": [],
   "source": [
    "%load_ext autoreload\n",
    "%autoreload 2\n",
    "%matplotlib inline\n",
    "#%config InlineBackend.figure_format = 'svg'\n",
    "#%config InlineBackend.figure_format = 'pdf'\n",
    "\n",
    "import kgof\n",
    "import kgof.data as data\n",
    "import kgof.density as density\n",
    "import kgof.goftest as gof\n",
    "import kgof.kernel as kernel\n",
    "import kgof.util as util\n",
    "import matplotlib\n",
    "import matplotlib.pyplot as plt\n",
    "import autograd.numpy as np\n",
    "import scipy.stats as stats"
   ]
  },
  {
   "cell_type": "code",
   "execution_count": null,
   "metadata": {
    "collapsed": true
   },
   "outputs": [],
   "source": [
    "# font options\n",
    "font = {\n",
    "    #'family' : 'normal',\n",
    "    #'weight' : 'bold',\n",
    "    'size'   : 18\n",
    "}\n",
    "\n",
    "plt.rc('font', **font)\n",
    "plt.rc('lines', linewidth=2)\n",
    "matplotlib.rcParams['pdf.fonttype'] = 42\n",
    "matplotlib.rcParams['ps.fonttype'] = 42"
   ]
  },
  {
   "cell_type": "markdown",
   "metadata": {},
   "source": [
    "## Stein witness function"
   ]
  },
  {
   "cell_type": "code",
   "execution_count": null,
   "metadata": {
    "collapsed": true
   },
   "outputs": [],
   "source": [
    "def generic_contourf(p, dat, k, func, title=None):\n",
    "    \"\"\"\n",
    "    func: (p, dat, k, V) |-> value. A function computing the values to plot.\n",
    "    \"\"\"\n",
    "    # should be an n x 2 matrix. 2d data.\n",
    "    X = dat.data()\n",
    "    max0, max1 = np.max(X, 0)\n",
    "    min0, min1 = np.min(X, 0)\n",
    "    \n",
    "    #sd1, sd2 = np.std(XY, 0)\n",
    "    sd0, sd1 = ((max0-min0)*0.4, (max1-min1)*0.4)\n",
    "    # form a test location grid to try \n",
    "    nd0 = 50\n",
    "    nd1 = 50\n",
    "    loc0_cands = np.linspace(min0-sd0/2, max0+sd0/2, nd0)\n",
    "    loc1_cands = np.linspace(min1-sd1/2, max1+sd1/2, nd1)\n",
    "    lloc0, lloc1 = np.meshgrid(loc0_cands, loc1_cands)\n",
    "    # nd1 x nd0 x 2\n",
    "    loc3d = np.dstack((lloc0, lloc1))\n",
    "    # #candidates x 2\n",
    "    all_loc2s = np.reshape(loc3d, (-1, 2) )\n",
    "\n",
    "    # all_locs = #candidates x J x 2\n",
    "    #all_locs = np.array( [np.vstack((c, loc1)) for c in all_loc2s] )\n",
    "    \n",
    "    # evaluate the function on each candidate T on the grid. Size = (#candidates, )\n",
    "    stat_grid = np.array([func(p, dat, k, np.array([T])) for T in all_loc2s])\n",
    "    stat_grid = np.reshape(stat_grid, (nd1, nd0) )\n",
    "\n",
    "    den_grid = np.exp(p.log_normalized_den(all_loc2s))\n",
    "    den_grid = np.reshape(den_grid, (nd1, nd0))\n",
    "    #ax = fig.gca(projection='3d')\n",
    "    #ax.plot_surface(lloc1, lloc2, stat_grid, rstride=8, cstride=8, alpha=0.3)\n",
    "    #cset = ax.contourf(lloc1, lloc2, stat_grid, zdir='z', offset=0, cmap=cm.coolwarm)\n",
    "    plt.figure(figsize=(10, 6))\n",
    "    # Plot the unnormalized density\n",
    "    CS = plt.contour(\n",
    "        lloc0, lloc1, den_grid, alpha=0.6, \n",
    "        #colors=('#500000', '#900000', '#d00000'),\n",
    "        #colors=plt.cm.Blues(3),\n",
    "    )\n",
    "    #plt.clabel(CS, fontsize=12, inline=1, fmt='%1.1f', colors='k')\n",
    "    plt.contourf(lloc0, lloc1, stat_grid, cmap=plt.cm.Greys, alpha=0.7)\n",
    "    \n",
    "    #plt.gca().get_xaxis().set_visible(False)\n",
    "    #plt.gca().get_yaxis().set_visible(False)\n",
    "    #plt.axis('off')\n",
    "    #plt.colorbar()\n",
    "\n",
    "    max_stat = np.max(stat_grid)\n",
    "    #plt.xlabel('')\n",
    "    #plt.ylabel('')\n",
    "    n = X.shape[0]\n",
    "    if title is not None:\n",
    "        pass\n",
    "        #plt.title(title)\n",
    "    #ax.view_init(elev=max_stat*2, azim=90)\n",
    "\n",
    "    # plot the data\n",
    "    plt.plot(X[:, 0], X[:, 1], '.m', markeredgecolor='m', markersize=4, alpha=0.8)\n",
    "    #plt.xlabel('$X$')\n",
    "    #plt.ylabelel('$Y$')\n",
    "    \n",
    "    # return the locations V\n",
    "    \n",
    "    max_ind = np.argmax(stat_grid.reshape(-1))\n",
    "    V = all_loc2s[max_ind]\n",
    "    print 'V: %s'%V\n",
    "    \n",
    "    # put a star at the highest location\n",
    "    plt.plot(V[0], V[1], 'r*', markersize=25)\n",
    "    return V\n",
    " \n",
    "def func_fssd(p, dat, k, V):\n",
    "    \"\"\"\n",
    "    Return the value of FSSD test statistic.\n",
    "    \"\"\"\n",
    "    fssd = gof.FSSD(p, k, V, alpha=0.01, n_simulate=1000, seed=11)\n",
    "    return fssd.compute_stat(dat)"
   ]
  },
  {
   "cell_type": "code",
   "execution_count": null,
   "metadata": {
    "collapsed": true
   },
   "outputs": [],
   "source": [
    "# true p\n",
    "seed = 15\n",
    "d = 2\n",
    "mean = np.zeros(d)\n",
    "variance = 1\n",
    "isonorm = density.IsotropicNormal(mean, variance)"
   ]
  },
  {
   "cell_type": "code",
   "execution_count": null,
   "metadata": {
    "collapsed": true
   },
   "outputs": [],
   "source": [
    "# sample\n",
    "n = 800\n",
    "\n",
    "# only one dimension of the mean is shifted\n",
    "#draw_mean = mean + np.hstack((1, np.zeros(d-1)))\n",
    "draw_mean = mean + 1\n",
    "draw_variance = variance + 0\n",
    "X = util.randn(n, d, seed=seed+3)*np.sqrt(draw_variance) + draw_mean\n",
    "dat = data.Data(X)"
   ]
  },
  {
   "cell_type": "code",
   "execution_count": null,
   "metadata": {
    "collapsed": false,
    "scrolled": true
   },
   "outputs": [],
   "source": [
    "# Kernel\n",
    "sig2 = util.meddistance(X, subsample=1000)**2\n",
    "k = kernel.KGauss(sig2)\n",
    "\n",
    "# Test\n",
    "J = 1\n",
    "alpha = 0.01\n",
    "\n",
    "# random test locations\n",
    "V = util.fit_gaussian_draw(X, J, seed=seed+1)\n",
    "fssd = gof.FSSD(isonorm, k, V, alpha=alpha, n_simulate=2000, seed=2)\n",
    "fssd.perform_test(dat)"
   ]
  },
  {
   "cell_type": "code",
   "execution_count": null,
   "metadata": {
    "collapsed": true
   },
   "outputs": [],
   "source": [
    "p = isonorm"
   ]
  },
  {
   "cell_type": "code",
   "execution_count": null,
   "metadata": {
    "collapsed": false,
    "scrolled": false
   },
   "outputs": [],
   "source": [
    "generic_contourf(p, dat, k, func_fssd)\n",
    "plt.title('FSSD Statistic')\n",
    "plt.colorbar()\n",
    "plt.grid()"
   ]
  },
  {
   "cell_type": "code",
   "execution_count": null,
   "metadata": {
    "collapsed": false,
    "scrolled": false
   },
   "outputs": [],
   "source": [
    "def func_fssd_power_criterion(p, dat, k, V):\n",
    "    \"\"\"\n",
    "    Return the value of the power criterion of FSSD.\n",
    "    \"\"\"\n",
    "    return gof.FSSD.power_criterion(p, dat, k, V)\n",
    "    \n",
    "generic_contourf(p, dat, k, func_fssd_power_criterion)\n",
    "plt.title('mean/std')\n",
    "plt.colorbar()\n",
    "plt.grid()"
   ]
  },
  {
   "cell_type": "code",
   "execution_count": null,
   "metadata": {
    "collapsed": false,
    "scrolled": false
   },
   "outputs": [],
   "source": [
    "def func_fssd_ustat_std(p, dat, k, V):\n",
    "    \"\"\"\n",
    "    Return the standard deviation of the U-statistic\n",
    "    \"\"\"\n",
    "    fssd = gof.FSSD(p, k, V, alpha=0.01, n_simulate=1000, seed=11)\n",
    "    X = dat.data()\n",
    "    fea_tensor = fssd.feature_tensor(X)\n",
    "    _, variance = gof.FSSD.ustat_h1_mean_variance(fea_tensor, return_variance=True)\n",
    "    return np.sqrt(variance)\n",
    "    \n",
    "generic_contourf(p, dat, k, func_fssd_ustat_std)\n",
    "plt.title('U-statistic standard deviation')\n",
    "plt.colorbar()\n",
    "plt.grid()"
   ]
  },
  {
   "cell_type": "code",
   "execution_count": null,
   "metadata": {
    "collapsed": true
   },
   "outputs": [],
   "source": []
  },
  {
   "cell_type": "code",
   "execution_count": null,
   "metadata": {
    "collapsed": true
   },
   "outputs": [],
   "source": []
  },
  {
   "cell_type": "code",
   "execution_count": null,
   "metadata": {
    "collapsed": true
   },
   "outputs": [],
   "source": []
  },
  {
   "cell_type": "code",
   "execution_count": null,
   "metadata": {
    "collapsed": true
   },
   "outputs": [],
   "source": []
  },
  {
   "cell_type": "code",
   "execution_count": null,
   "metadata": {
    "collapsed": true
   },
   "outputs": [],
   "source": []
  },
  {
   "cell_type": "code",
   "execution_count": null,
   "metadata": {
    "collapsed": true
   },
   "outputs": [],
   "source": []
  },
  {
   "cell_type": "code",
   "execution_count": null,
   "metadata": {
    "collapsed": true
   },
   "outputs": [],
   "source": []
  },
  {
   "cell_type": "code",
   "execution_count": null,
   "metadata": {
    "collapsed": true
   },
   "outputs": [],
   "source": []
  },
  {
   "cell_type": "code",
   "execution_count": null,
   "metadata": {
    "collapsed": true
   },
   "outputs": [],
   "source": []
  },
  {
   "cell_type": "code",
   "execution_count": null,
   "metadata": {
    "collapsed": true
   },
   "outputs": [],
   "source": []
  }
 ],
 "metadata": {
  "kernelspec": {
   "display_name": "Python [Root]",
   "language": "python",
   "name": "Python [Root]"
  },
  "language_info": {
   "codemirror_mode": {
    "name": "ipython",
    "version": 2
   },
   "file_extension": ".py",
   "mimetype": "text/x-python",
   "name": "python",
   "nbconvert_exporter": "python",
   "pygments_lexer": "ipython2",
   "version": "2.7.12"
  }
 },
 "nbformat": 4,
 "nbformat_minor": 0
}
