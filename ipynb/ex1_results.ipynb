{
 "cells": [
  {
   "cell_type": "markdown",
   "metadata": {
    "collapsed": true
   },
   "source": [
    "A notebook to process experimental results of ex1_vary_n.py. p(reject) as problem sample size increases."
   ]
  },
  {
   "cell_type": "code",
   "execution_count": null,
   "metadata": {
    "collapsed": false
   },
   "outputs": [],
   "source": [
    "%load_ext autoreload\n",
    "%autoreload 2\n",
    "%matplotlib inline\n",
    "#%config InlineBackend.figure_format = 'svg'\n",
    "#%config InlineBackend.figure_format = 'pdf'\n",
    "\n",
    "import numpy as np\n",
    "\n",
    "import matplotlib\n",
    "import matplotlib.pyplot as plt\n",
    "import kgof.data as data\n",
    "import kgof.glo as glo\n",
    "import kgof.goftest as gof\n",
    "import kgof.kernel as kernel\n",
    "import kgof.plot as plot\n",
    "import kgof.util as util\n",
    "\n",
    "import scipy.stats as stats"
   ]
  },
  {
   "cell_type": "code",
   "execution_count": null,
   "metadata": {
    "collapsed": false
   },
   "outputs": [],
   "source": [
    "import kgof.plot\n",
    "kgof.plot.set_default_matplotlib_options()"
   ]
  },
  {
   "cell_type": "code",
   "execution_count": null,
   "metadata": {
    "collapsed": true
   },
   "outputs": [],
   "source": [
    "def load_plot_vs_ns(fname, show_legend=True, xscale='linear', yscale='linear'):\n",
    "    \"\"\"\n",
    "    ns = sample sizes\n",
    "    \"\"\"\n",
    "    func_xvalues = lambda agg_results: agg_results['ns']\n",
    "    ex = 1\n",
    "    def func_title(agg_results):\n",
    "        repeats, _, n_methods = agg_results['job_results'].shape\n",
    "        alpha = agg_results['alpha']\n",
    "        title = '%s. %d trials. $\\\\alpha$ = %.2g.'%\\\n",
    "            ( agg_results['prob_label'], repeats, alpha)\n",
    "        return title\n",
    "    #plt.figure(figsize=(10,5))\n",
    "    results = plot.plot_prob_reject(\n",
    "        ex, fname, func_xvalues, '', func_title=func_title)\n",
    "    \n",
    "    plt.title('')\n",
    "    \n",
    "    if xscale is not None:\n",
    "        plt.xscale(xscale)\n",
    "    if yscale is not None:\n",
    "        plt.yscale(yscale)\n",
    "    \n",
    "    plt.xlabel('Sample size $n$')\n",
    "    plt.gca().legend(loc='best').set_visible(show_legend)\n",
    "    if show_legend:\n",
    "        plt.legend(bbox_to_anchor=(1.60, 1.05))\n",
    "        \n",
    "    plt.grid(False)\n",
    "    return results\n",
    "\n",
    "\n",
    "def load_runtime_vs_ns(fname, xlabel='Sample size $n$', \n",
    "                      show_legend=True, xscale='linear', yscale='linear'):\n",
    "    func_xvalues = lambda agg_results: agg_results['ns']\n",
    "    ex = 1\n",
    "    def func_title(agg_results):\n",
    "        repeats, _, n_methods = agg_results['job_results'].shape\n",
    "        alpha = agg_results['alpha']\n",
    "        title = '%s. %d trials. $\\\\alpha$ = %.2g.'%\\\n",
    "            ( agg_results['prob_label'], repeats, alpha)\n",
    "        return title\n",
    "    #plt.figure(figsize=(10,6))\n",
    "    \n",
    "    results = plot.plot_runtime(ex, fname,  \n",
    "                                func_xvalues, xlabel=xlabel, func_title=func_title)\n",
    "    \n",
    "    plt.title('')\n",
    "    plt.gca().legend(loc='best').set_visible(show_legend)\n",
    "    if show_legend:\n",
    "        plt.legend(bbox_to_anchor=(1.60, 1.05))\n",
    "    \n",
    "    #plt.grid(True)\n",
    "    if xscale is not None:\n",
    "        plt.xscale(xscale)\n",
    "    if yscale is not None:\n",
    "        plt.yscale(yscale)\n",
    "    return results\n"
   ]
  },
  {
   "cell_type": "code",
   "execution_count": null,
   "metadata": {
    "collapsed": false
   },
   "outputs": [],
   "source": [
    "# # GMD\n",
    "# # gmd_fname = 'ex1-gmd_p05_d10_ns-me4_rs50_nmi1000_nma4000_a0.050_trp0.50.p'\n",
    "# gmd_fname = 'ex1-gmd_p03_d10_ns-me4_rs30_nmi1000_nma7000_a0.050_trp0.50.p'\n",
    "# gmd_results = load_plot_vs_ns(gmd_fname, show_legend=True)\n",
    "# plt.figure()\n",
    "# load_runtime_vs_ns(gmd_fname);"
   ]
  },
  {
   "cell_type": "markdown",
   "metadata": {},
   "source": [
    "$$p(x)=\\mathcal{N}([0, 0,\\ldots, 0], I) \\\\\n",
    "q(x)=\\mathcal{N}([c,0,\\ldots, 0], I)$$"
   ]
  },
  {
   "cell_type": "code",
   "execution_count": null,
   "metadata": {
    "collapsed": false,
    "scrolled": false
   },
   "outputs": [],
   "source": [
    "# gbrbm_fname = 'ex1-gbrbm_dx20_dh10_vp1-me4_rs30_nmi1000_nma5000_a0.050_trp0.50.p'\n",
    "# gbrbm_fname = 'ex1-gbrbm_dx20_dh10_vp1-me5_rs50_nmi2000_nma5000_a0.050_trp0.20.p'\n",
    "gbrbm_fname = 'ex1-gbrbm_dx20_dh10_vp1-me6_rs300_nmi2000_nma5000_a0.050_trp0.20.p'\n",
    "gbrbm_results = load_plot_vs_ns(gbrbm_fname)\n",
    "plt.figure()\n",
    "load_runtime_vs_ns(gbrbm_fname);\n"
   ]
  },
  {
   "cell_type": "code",
   "execution_count": null,
   "metadata": {
    "collapsed": false
   },
   "outputs": [],
   "source": [
    "# gbrbm_fname = 'ex1-gbrbm_dx50_dh10_vp1-me4_rs30_nmi1000_nma5000_a0.050_trp0.50.p'\n",
    "# gbrbm_results = load_plot_vs_ns(gbrbm_fname)\n",
    "# plt.figure()\n",
    "# load_runtime_vs_ns(gbrbm_fname);"
   ]
  },
  {
   "cell_type": "code",
   "execution_count": null,
   "metadata": {
    "collapsed": true
   },
   "outputs": [],
   "source": []
  },
  {
   "cell_type": "code",
   "execution_count": null,
   "metadata": {
    "collapsed": true
   },
   "outputs": [],
   "source": []
  },
  {
   "cell_type": "code",
   "execution_count": null,
   "metadata": {
    "collapsed": true
   },
   "outputs": [],
   "source": []
  },
  {
   "cell_type": "code",
   "execution_count": null,
   "metadata": {
    "collapsed": true
   },
   "outputs": [],
   "source": []
  }
 ],
 "metadata": {
  "kernelspec": {
   "display_name": "Python 2",
   "language": "python",
   "name": "python2"
  },
  "language_info": {
   "codemirror_mode": {
    "name": "ipython",
    "version": 2
   },
   "file_extension": ".py",
   "mimetype": "text/x-python",
   "name": "python",
   "nbconvert_exporter": "python",
   "pygments_lexer": "ipython2",
   "version": "2.7.13"
  }
 },
 "nbformat": 4,
 "nbformat_minor": 0
}
