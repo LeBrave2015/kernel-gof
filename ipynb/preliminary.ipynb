{
 "cells": [
  {
   "cell_type": "markdown",
   "metadata": {
    "collapsed": true
   },
   "source": [
    "The first notebook to test the idea. "
   ]
  },
  {
   "cell_type": "code",
   "execution_count": null,
   "metadata": {
    "collapsed": false
   },
   "outputs": [],
   "source": [
    "%load_ext autoreload\n",
    "%autoreload 2\n",
    "%matplotlib inline\n",
    "#%config InlineBackend.figure_format = 'svg'\n",
    "#%config InlineBackend.figure_format = 'pdf'\n",
    "\n",
    "import kgof\n",
    "import kgof.data as data\n",
    "import kgof.density as density\n",
    "import kgof.goftest as gof\n",
    "import kgof.kernel as kernel\n",
    "import kgof.util as util\n",
    "import matplotlib\n",
    "import matplotlib.pyplot as plt\n",
    "import autograd.numpy as np\n",
    "import scipy.stats as stats"
   ]
  },
  {
   "cell_type": "code",
   "execution_count": null,
   "metadata": {
    "collapsed": false
   },
   "outputs": [],
   "source": [
    "# font options\n",
    "font = {\n",
    "    #'family' : 'normal',\n",
    "    #'weight' : 'bold',\n",
    "    'size'   : 18\n",
    "}\n",
    "\n",
    "plt.rc('font', **font)\n",
    "plt.rc('lines', linewidth=2)\n",
    "matplotlib.rcParams['pdf.fonttype'] = 42\n",
    "matplotlib.rcParams['ps.fonttype'] = 42"
   ]
  },
  {
   "cell_type": "markdown",
   "metadata": {
    "collapsed": true
   },
   "source": [
    "## Isotropic normal distribution"
   ]
  },
  {
   "cell_type": "code",
   "execution_count": null,
   "metadata": {
    "collapsed": true
   },
   "outputs": [],
   "source": [
    "# true p\n",
    "seed = 21\n",
    "d = 3\n",
    "mean = np.zeros(d)\n",
    "variance = 1\n"
   ]
  },
  {
   "cell_type": "code",
   "execution_count": null,
   "metadata": {
    "collapsed": false
   },
   "outputs": [],
   "source": [
    "# sample\n",
    "n = 500\n",
    "\n",
    "# only one dimension of the mean is shifted\n",
    "#draw_mean = mean + np.hstack((1, np.zeros(d-1)))\n",
    "\n",
    "p = density.IsotropicNormal(mean, variance)\n",
    "draw_mean = mean +0\n",
    "draw_variance = variance + 1\n",
    "X = util.randn(n, d, seed=seed)*np.sqrt(draw_variance) + draw_mean\n",
    "dat = data.Data(X)\n",
    "\n",
    "# Gaussian mixture\n",
    "p_means = np.array([ [0], [3.0]])\n",
    "p_variances = np.array([1, 0.01])\n",
    "# p = density.IsoGaussianMixture(p_means, p_variances)\n",
    "p = density.IsotropicNormal(np.zeros(1), 1)\n",
    "\n",
    "q_means = np.array([ [0], [0]])\n",
    "q_variances = np.array([0.01, 1])\n",
    "ds = data.DSIsoGaussianMixture(q_means, q_variances, pmix=[0.2, 0.8])\n",
    "# ds = data.DSIsoGaussianMixture(p_means, p_variances)\n",
    "\n",
    "dat = ds.sample(n, seed=seed+1)\n",
    "X = dat.data()\n",
    "tr, te = dat.split_tr_te(tr_proportion=0.5, seed=seed+1)"
   ]
  },
  {
   "cell_type": "code",
   "execution_count": null,
   "metadata": {
    "collapsed": false
   },
   "outputs": [],
   "source": [
    "# Plot the density and generated data\n",
    "if p.dim()==1:\n",
    "#     dat2 = ds.sample(2000, seed=seed+2)\n",
    "#     X2 = dat2.X\n",
    "#     sd = np.std(X2)\n",
    "    dom = np.linspace(np.min(X)-sd, np.max(X)+sd, 500)\n",
    "    unden = np.exp(p.log_normalized_den(dom[:, np.newaxis]))\n",
    "    plt.figure(figsize=(10, 5))\n",
    "    plt.hist(X, bins=40, normed=True, label='Data', color='r')\n",
    "    plt.plot(dom, unden, 'b-', label='p')\n",
    "    plt.legend(loc='best')"
   ]
  },
  {
   "cell_type": "code",
   "execution_count": null,
   "metadata": {
    "collapsed": false
   },
   "outputs": [],
   "source": [
    "# Test\n",
    "J = 10\n",
    "alpha = 0.01\n",
    "\n",
    "X = dat.X\n",
    "gwidth0 = util.meddistance(X, subsample=1000)**2\n",
    "# random test locations\n",
    "V0 = util.fit_gaussian_draw(X, J, seed=seed+1)\n",
    "# V0[0, 0] = 3\n",
    "# print V0\n",
    "print 'Gaussian width^2: {0}'.format(gwidth0)"
   ]
  },
  {
   "cell_type": "code",
   "execution_count": null,
   "metadata": {
    "collapsed": false,
    "scrolled": true
   },
   "outputs": [],
   "source": [
    "k0 = kernel.KGauss(gwidth0)\n",
    "null_sim = gof.FSSDH0SimCovObs(n_simulate=2000, seed=10)\n",
    "\n",
    "fssd = gof.FSSD(p, k0, V0, null_sim=null_sim, alpha=alpha)\n",
    "fssd.perform_test(te)"
   ]
  },
  {
   "cell_type": "code",
   "execution_count": null,
   "metadata": {
    "collapsed": false,
    "scrolled": true
   },
   "outputs": [],
   "source": [
    "fssd.get_H1_mean_variance(te)"
   ]
  },
  {
   "cell_type": "markdown",
   "metadata": {},
   "source": [
    "----------------"
   ]
  },
  {
   "cell_type": "markdown",
   "metadata": {},
   "source": [
    "## Optimized Gaussian FSSD"
   ]
  },
  {
   "cell_type": "code",
   "execution_count": null,
   "metadata": {
    "collapsed": false,
    "scrolled": true
   },
   "outputs": [],
   "source": [
    "opts = {\n",
    "    'reg': 1e-2,\n",
    "    'max_iter': 50, \n",
    "    'tol_fun':1e-3, \n",
    "    'disp':True\n",
    "}\n",
    "V_opt, gw_opt, opt_result = gof.GaussFSSD.optimize_locs_widths(p, tr, gwidth0, V0, **opts)"
   ]
  },
  {
   "cell_type": "code",
   "execution_count": null,
   "metadata": {
    "collapsed": false,
    "scrolled": true
   },
   "outputs": [],
   "source": [
    "gw_opt"
   ]
  },
  {
   "cell_type": "code",
   "execution_count": null,
   "metadata": {
    "collapsed": false,
    "scrolled": true
   },
   "outputs": [],
   "source": [
    "# construct a test\n",
    "k_opt = kernel.KGauss(gw_opt)\n",
    "fssd_opt = gof.FSSD(p, k_opt, V_opt, null_sim=null_sim, alpha=alpha)\n",
    "fssd_opt_result = fssd_opt.perform_test(te, return_simulated_stats=True)\n",
    "fssd_opt_result"
   ]
  },
  {
   "cell_type": "code",
   "execution_count": null,
   "metadata": {
    "collapsed": false,
    "scrolled": true
   },
   "outputs": [],
   "source": [
    "# get the mean and variance under H1 of the test statistic\n",
    "fssd_opt.get_H1_mean_variance(te)"
   ]
  },
  {
   "cell_type": "code",
   "execution_count": null,
   "metadata": {
    "collapsed": false
   },
   "outputs": [],
   "source": [
    "sim_stats = fssd_opt_result['sim_stats']\n",
    "plt.hist(sim_stats, bins=20, normed=True);\n",
    "plt.stem([fssd_opt_result['test_stat']], [0.03], 'r-o', label='Stat')\n",
    "plt.legend()"
   ]
  },
  {
   "cell_type": "code",
   "execution_count": null,
   "metadata": {
    "collapsed": false
   },
   "outputs": [],
   "source": [
    "gof.GaussFSSD.optimize_auto_init(p, tr, J, **opts)"
   ]
  },
  {
   "cell_type": "code",
   "execution_count": null,
   "metadata": {
    "collapsed": true
   },
   "outputs": [],
   "source": []
  },
  {
   "cell_type": "code",
   "execution_count": null,
   "metadata": {
    "collapsed": true
   },
   "outputs": [],
   "source": []
  },
  {
   "cell_type": "code",
   "execution_count": null,
   "metadata": {
    "collapsed": true
   },
   "outputs": [],
   "source": []
  },
  {
   "cell_type": "code",
   "execution_count": null,
   "metadata": {
    "collapsed": true
   },
   "outputs": [],
   "source": []
  }
 ],
 "metadata": {
  "kernelspec": {
   "display_name": "Python [Root]",
   "language": "python",
   "name": "Python [Root]"
  },
  "language_info": {
   "codemirror_mode": {
    "name": "ipython",
    "version": 2
   },
   "file_extension": ".py",
   "mimetype": "text/x-python",
   "name": "python",
   "nbconvert_exporter": "python",
   "pygments_lexer": "ipython2",
   "version": "2.7.12"
  }
 },
 "nbformat": 4,
 "nbformat_minor": 0
}
