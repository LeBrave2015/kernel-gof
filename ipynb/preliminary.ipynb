{
 "cells": [
  {
   "cell_type": "markdown",
   "metadata": {
    "collapsed": true
   },
   "source": [
    "The first notebook to test the idea. "
   ]
  },
  {
   "cell_type": "code",
   "execution_count": null,
   "metadata": {
    "collapsed": false
   },
   "outputs": [],
   "source": [
    "%load_ext autoreload\n",
    "%autoreload 2\n",
    "%matplotlib inline\n",
    "#%config InlineBackend.figure_format = 'svg'\n",
    "#%config InlineBackend.figure_format = 'pdf'\n",
    "\n",
    "import kgof\n",
    "import kgof.data as data\n",
    "import kgof.density as density\n",
    "import kgof.goftest as gof\n",
    "import kgof.kernel as kernel\n",
    "import kgof.util as util\n",
    "import matplotlib\n",
    "import matplotlib.pyplot as plt\n",
    "import numpy as np\n",
    "import scipy.stats as stats"
   ]
  },
  {
   "cell_type": "code",
   "execution_count": null,
   "metadata": {
    "collapsed": false
   },
   "outputs": [],
   "source": [
    "# font options\n",
    "font = {\n",
    "    #'family' : 'normal',\n",
    "    #'weight' : 'bold',\n",
    "    'size'   : 18\n",
    "}\n",
    "\n",
    "plt.rc('font', **font)\n",
    "plt.rc('lines', linewidth=2)\n",
    "matplotlib.rcParams['pdf.fonttype'] = 42\n",
    "matplotlib.rcParams['ps.fonttype'] = 42"
   ]
  },
  {
   "cell_type": "markdown",
   "metadata": {
    "collapsed": true
   },
   "source": [
    "## Isotropic normal distribution"
   ]
  },
  {
   "cell_type": "code",
   "execution_count": null,
   "metadata": {
    "collapsed": false
   },
   "outputs": [],
   "source": [
    "d = 1\n",
    "mean = np.zeros(d)\n",
    "variance = 5\n",
    "isonorm = density.IsotropicNormal(mean, variance)"
   ]
  },
  {
   "cell_type": "code",
   "execution_count": null,
   "metadata": {
    "collapsed": false,
    "scrolled": true
   },
   "outputs": [],
   "source": [
    "X = np.linspace(-8, 8, 200)[:, np.newaxis]\n",
    "#X = np.random.randn(100, d)\n",
    "dens = isonorm.log_den(X)\n",
    "grads = isonorm.grad_log(X)"
   ]
  },
  {
   "cell_type": "code",
   "execution_count": null,
   "metadata": {
    "collapsed": false,
    "scrolled": true
   },
   "outputs": [],
   "source": [
    "plt.figure(figsize=(8, 4))\n",
    "plt.plot(X, dens, 'b-', label='log den')\n",
    "plt.plot(X, grads, 'r-', label='gradient')\n",
    "plt.grid()\n",
    "plt.legend(loc='best')"
   ]
  },
  {
   "cell_type": "markdown",
   "metadata": {},
   "source": [
    "## Test FSSD "
   ]
  },
  {
   "cell_type": "code",
   "execution_count": null,
   "metadata": {
    "collapsed": false
   },
   "outputs": [],
   "source": [
    "# true p\n",
    "seed = 12\n",
    "d = 50\n",
    "mean = np.zeros(d)\n",
    "variance = 1\n",
    "isonorm = density.IsotropicNormal(mean, variance)"
   ]
  },
  {
   "cell_type": "code",
   "execution_count": null,
   "metadata": {
    "collapsed": false
   },
   "outputs": [],
   "source": [
    "# sample\n",
    "n = 500\n",
    "\n",
    "# only one dimension of the mean is shifted\n",
    "draw_mean = mean + np.hstack((1, np.zeros(d-1)))\n",
    "#draw_mean = mean +1\n",
    "draw_variance = variance + 0\n",
    "X = util.randn(n, d, seed=seed)*np.sqrt(draw_variance) + draw_mean\n",
    "dat = data.Data(X)"
   ]
  },
  {
   "cell_type": "code",
   "execution_count": null,
   "metadata": {
    "collapsed": false
   },
   "outputs": [],
   "source": [
    "# Test\n",
    "J = 3\n",
    "alpha = 0.01\n",
    "\n",
    "sig2 = util.meddistance(X, subsample=1000)**2\n",
    "k = kernel.KGauss(sig2)\n",
    "\n",
    "# random test locations\n",
    "V = util.fit_gaussian_draw(X, J, seed=seed+1)\n",
    "fssd = gof.FSSD(isonorm, k, V, alpha=alpha, n_simulate=2000, seed=2)"
   ]
  },
  {
   "cell_type": "code",
   "execution_count": null,
   "metadata": {
    "collapsed": false
   },
   "outputs": [],
   "source": [
    "test_result = fssd.perform_test(dat, return_simulated_stats=True)\n",
    "test_result"
   ]
  },
  {
   "cell_type": "code",
   "execution_count": null,
   "metadata": {
    "collapsed": false,
    "scrolled": true
   },
   "outputs": [],
   "source": [
    "sim_stats = test_result['sim_stats']\n",
    "plt.hist(sim_stats, bins=20, normed=True);\n",
    "plt.stem([test_result['test_stat']], [0.03], 'r-o', label='Stat')\n",
    "plt.legend()"
   ]
  },
  {
   "cell_type": "markdown",
   "metadata": {},
   "source": [
    "## Optimized Gaussian FSSD"
   ]
  },
  {
   "cell_type": "code",
   "execution_count": null,
   "metadata": {
    "collapsed": true
   },
   "outputs": [],
   "source": [
    "# true p\n",
    "seed = 20\n",
    "d = 3\n",
    "mean = np.zeros(d)\n",
    "variance = 1\n",
    "isonorm = density.IsotropicNormal(mean, variance)"
   ]
  },
  {
   "cell_type": "code",
   "execution_count": null,
   "metadata": {
    "collapsed": true
   },
   "outputs": [],
   "source": [
    "# sample\n",
    "n = 500\n",
    "\n",
    "# only one dimension of the mean is shifted\n",
    "#draw_mean = mean + np.hstack((1, np.zeros(d-1)))\n",
    "draw_mean = mean +0\n",
    "draw_variance = variance + 1\n",
    "X = util.randn(n, d, seed=seed)*np.sqrt(draw_variance) + draw_mean\n",
    "dat = data.Data(X)\n",
    "tr, te = dat.split_tr_te(tr_proportion=0.5, seed=seed+1)"
   ]
  },
  {
   "cell_type": "code",
   "execution_count": null,
   "metadata": {
    "collapsed": true
   },
   "outputs": [],
   "source": [
    "# Test\n",
    "J = 5\n",
    "alpha = 0.01\n",
    "\n",
    "gwidth0 = util.meddistance(X, subsample=1000)**2\n",
    "# random test locations\n",
    "V0 = util.fit_gaussian_draw(X, J, seed=seed+1)"
   ]
  },
  {
   "cell_type": "code",
   "execution_count": null,
   "metadata": {
    "collapsed": false,
    "scrolled": true
   },
   "outputs": [],
   "source": [
    "k0 = kernel.KGauss(gwidth0)\n",
    "fssd = gof.FSSD(isonorm, k0, V0, alpha=alpha, n_simulate=2000, seed=3)\n",
    "fssd.perform_test(te)"
   ]
  },
  {
   "cell_type": "code",
   "execution_count": null,
   "metadata": {
    "collapsed": false,
    "scrolled": true
   },
   "outputs": [],
   "source": [
    "fssd.get_H1_mean_variance(te)"
   ]
  },
  {
   "cell_type": "markdown",
   "metadata": {},
   "source": [
    "----------------"
   ]
  },
  {
   "cell_type": "code",
   "execution_count": null,
   "metadata": {
    "collapsed": false,
    "scrolled": true
   },
   "outputs": [],
   "source": [
    "opts = {\n",
    "    'reg': 1e-2,\n",
    "    'max_iter': 50, \n",
    "    'tol_fun':1e-3, \n",
    "    'disp':True\n",
    "}\n",
    "V_opt, gw_opt, opt_result = gof.GaussFSSD.optimize_locs_widths(isonorm, tr, gwidth0, V0, **opts)"
   ]
  },
  {
   "cell_type": "code",
   "execution_count": null,
   "metadata": {
    "collapsed": false,
    "scrolled": true
   },
   "outputs": [],
   "source": [
    "gw_opt"
   ]
  },
  {
   "cell_type": "code",
   "execution_count": null,
   "metadata": {
    "collapsed": false
   },
   "outputs": [],
   "source": [
    "# construct a test\n",
    "k_opt = kernel.KGauss(gw_opt)\n",
    "fssd_opt = gof.FSSD(isonorm, k_opt, V_opt, alpha=alpha, n_simulate=2000, seed=3)\n",
    "fssd_opt_result = fssd_opt.perform_test(te, return_simulated_stats=True)\n",
    "fssd_opt_result"
   ]
  },
  {
   "cell_type": "code",
   "execution_count": null,
   "metadata": {
    "collapsed": false
   },
   "outputs": [],
   "source": [
    "# get the mean and variance under H1 of the test statistic\n",
    "fssd_opt.get_H1_mean_variance(te)"
   ]
  },
  {
   "cell_type": "code",
   "execution_count": null,
   "metadata": {
    "collapsed": false
   },
   "outputs": [],
   "source": [
    "sim_stats = fssd_opt_result['sim_stats']\n",
    "plt.hist(sim_stats, bins=20, normed=True);\n",
    "plt.stem([fssd_opt_result['test_stat']], [0.03], 'r-o', label='Stat')\n",
    "plt.legend()"
   ]
  },
  {
   "cell_type": "code",
   "execution_count": null,
   "metadata": {
    "collapsed": false
   },
   "outputs": [],
   "source": [
    "gof.GaussFSSD.optimize_auto_init(isonorm, tr, J, **opts)"
   ]
  },
  {
   "cell_type": "code",
   "execution_count": null,
   "metadata": {
    "collapsed": true
   },
   "outputs": [],
   "source": []
  },
  {
   "cell_type": "code",
   "execution_count": null,
   "metadata": {
    "collapsed": true
   },
   "outputs": [],
   "source": []
  },
  {
   "cell_type": "code",
   "execution_count": null,
   "metadata": {
    "collapsed": true
   },
   "outputs": [],
   "source": []
  },
  {
   "cell_type": "code",
   "execution_count": null,
   "metadata": {
    "collapsed": true
   },
   "outputs": [],
   "source": []
  }
 ],
 "metadata": {
  "kernelspec": {
   "display_name": "Python [Root]",
   "language": "python",
   "name": "Python [Root]"
  },
  "language_info": {
   "codemirror_mode": {
    "name": "ipython",
    "version": 2
   },
   "file_extension": ".py",
   "mimetype": "text/x-python",
   "name": "python",
   "nbconvert_exporter": "python",
   "pygments_lexer": "ipython2",
   "version": "2.7.12"
  }
 },
 "nbformat": 4,
 "nbformat_minor": 0
}
