{
 "cells": [
  {
   "cell_type": "markdown",
   "metadata": {
    "collapsed": true
   },
   "source": [
    "The first notebook to test the idea. "
   ]
  },
  {
   "cell_type": "code",
   "execution_count": 1,
   "metadata": {
    "collapsed": false
   },
   "outputs": [],
   "source": [
    "%load_ext autoreload\n",
    "%autoreload 2\n",
    "%matplotlib inline\n",
    "#%config InlineBackend.figure_format = 'svg'\n",
    "#%config InlineBackend.figure_format = 'pdf'\n",
    "\n",
    "import kgof\n",
    "import kgof.data as data\n",
    "import kgof.density as density\n",
    "import kgof.goftest as gof\n",
    "import kgof.kernel as kernel\n",
    "import kgof.util as util\n",
    "import matplotlib\n",
    "import matplotlib.pyplot as plt\n",
    "import numpy as np\n",
    "import scipy.stats as stats"
   ]
  },
  {
   "cell_type": "code",
   "execution_count": 2,
   "metadata": {
    "collapsed": false
   },
   "outputs": [],
   "source": [
    "# font options\n",
    "font = {\n",
    "    #'family' : 'normal',\n",
    "    #'weight' : 'bold',\n",
    "    'size'   : 18\n",
    "}\n",
    "\n",
    "plt.rc('font', **font)\n",
    "plt.rc('lines', linewidth=2)\n",
    "matplotlib.rcParams['pdf.fonttype'] = 42\n",
    "matplotlib.rcParams['ps.fonttype'] = 42"
   ]
  },
  {
   "cell_type": "markdown",
   "metadata": {
    "collapsed": true
   },
   "source": [
    "## Isotropic normal distribution"
   ]
  },
  {
   "cell_type": "code",
   "execution_count": 3,
   "metadata": {
    "collapsed": false
   },
   "outputs": [],
   "source": [
    "d = 1\n",
    "mean = np.zeros(d)\n",
    "variance = 5\n",
    "isonorm = density.IsotropicNormal(mean, variance)"
   ]
  },
  {
   "cell_type": "code",
   "execution_count": 4,
   "metadata": {
    "collapsed": false,
    "scrolled": true
   },
   "outputs": [],
   "source": [
    "X = np.linspace(-8, 8, 200)[:, np.newaxis]\n",
    "#X = np.random.randn(100, d)\n",
    "dens = isonorm.log_den(X)\n",
    "grads = isonorm.grad_log(X)"
   ]
  },
  {
   "cell_type": "code",
   "execution_count": 5,
   "metadata": {
    "collapsed": false,
    "scrolled": true
   },
   "outputs": [
    {
     "data": {
      "text/plain": [
       "<matplotlib.legend.Legend at 0x7fd9a5e19510>"
      ]
     },
     "execution_count": 5,
     "metadata": {},
     "output_type": "execute_result"
    },
    {
     "data": {
      "image/png": "[encoded data removed]",
      "text/plain": [
       "<matplotlib.figure.Figure at 0x7fd9a7edbcd0>"
      ]
     },
     "metadata": {},
     "output_type": "display_data"
    }
   ],
   "source": [
    "plt.figure(figsize=(8, 4))\n",
    "plt.plot(X, dens, 'b-', label='log den')\n",
    "plt.plot(X, grads, 'r-', label='gradient')\n",
    "plt.grid()\n",
    "plt.legend(loc='best')"
   ]
  },
  {
   "cell_type": "code",
   "execution_count": 6,
   "metadata": {
    "collapsed": true
   },
   "outputs": [],
   "source": [
    "# true p\n",
    "seed = 20\n",
    "d = 3\n",
    "mean = np.zeros(d)\n",
    "variance = 1\n",
    "isonorm = density.IsotropicNormal(mean, variance)"
   ]
  },
  {
   "cell_type": "code",
   "execution_count": 7,
   "metadata": {
    "collapsed": true
   },
   "outputs": [],
   "source": [
    "# sample\n",
    "n = 500\n",
    "\n",
    "# only one dimension of the mean is shifted\n",
    "#draw_mean = mean + np.hstack((1, np.zeros(d-1)))\n",
    "draw_mean = mean +0\n",
    "draw_variance = variance + 1\n",
    "X = util.randn(n, d, seed=seed)*np.sqrt(draw_variance) + draw_mean\n",
    "dat = data.Data(X)\n",
    "tr, te = dat.split_tr_te(tr_proportion=0.5, seed=seed+1)"
   ]
  },
  {
   "cell_type": "code",
   "execution_count": 8,
   "metadata": {
    "collapsed": true
   },
   "outputs": [],
   "source": [
    "# Test\n",
    "J = 5\n",
    "alpha = 0.01\n",
    "\n",
    "gwidth0 = util.meddistance(X, subsample=1000)**2\n",
    "# random test locations\n",
    "V0 = util.fit_gaussian_draw(X, J, seed=seed+1)"
   ]
  },
  {
   "cell_type": "code",
   "execution_count": 9,
   "metadata": {
    "collapsed": false,
    "scrolled": true
   },
   "outputs": [
    {
     "data": {
      "text/plain": [
       "{'alpha': 0.01,\n",
       " 'h0_rejected': False,\n",
       " 'n_simulate': 1000,\n",
       " 'pvalue': 0.014,\n",
       " 'test_stat': 1.8783248384386237,\n",
       " 'time_secs': 0.016670942306518555}"
      ]
     },
     "execution_count": 9,
     "metadata": {},
     "output_type": "execute_result"
    }
   ],
   "source": [
    "k0 = kernel.KGauss(gwidth0)\n",
    "null_sim = gof.FSSDH0SimCovObs(n_simulate=1000, seed=10)\n",
    "\n",
    "fssd = gof.FSSD(isonorm, k0, V0, null_sim=null_sim, alpha=alpha)\n",
    "fssd.perform_test(te)"
   ]
  },
  {
   "cell_type": "code",
   "execution_count": 10,
   "metadata": {
    "collapsed": false,
    "scrolled": true
   },
   "outputs": [
    {
     "data": {
      "text/plain": [
       "(0.0075132993537544946, 0.0075992813627589343)"
      ]
     },
     "execution_count": 10,
     "metadata": {},
     "output_type": "execute_result"
    }
   ],
   "source": [
    "fssd.get_H1_mean_variance(te)"
   ]
  },
  {
   "cell_type": "markdown",
   "metadata": {},
   "source": [
    "----------------"
   ]
  },
  {
   "cell_type": "markdown",
   "metadata": {},
   "source": [
    "## Optimized Gaussian FSSD"
   ]
  },
  {
   "cell_type": "code",
   "execution_count": 11,
   "metadata": {
    "collapsed": false,
    "scrolled": true
   },
   "outputs": [],
   "source": [
    "opts = {\n",
    "    'reg': 1e-2,\n",
    "    'max_iter': 50, \n",
    "    'tol_fun':1e-3, \n",
    "    'disp':True\n",
    "}\n",
    "V_opt, gw_opt, opt_result = gof.GaussFSSD.optimize_locs_widths(isonorm, tr, gwidth0, V0, **opts)"
   ]
  },
  {
   "cell_type": "code",
   "execution_count": 12,
   "metadata": {
    "collapsed": false,
    "scrolled": true
   },
   "outputs": [
    {
     "data": {
      "text/plain": [
       "9.3710664323832731"
      ]
     },
     "execution_count": 12,
     "metadata": {},
     "output_type": "execute_result"
    }
   ],
   "source": [
    "gw_opt"
   ]
  },
  {
   "cell_type": "code",
   "execution_count": 13,
   "metadata": {
    "collapsed": false,
    "scrolled": true
   },
   "outputs": [
    {
     "data": {
      "text/plain": [
       "{'alpha': 0.01,\n",
       " 'h0_rejected': False,\n",
       " 'n_simulate': 1000,\n",
       " 'pvalue': 0.012999999999999999,\n",
       " 'sim_stats': array([  1.25819640e-01,  -1.06483642e-01,   2.45671511e-01,\n",
       "         -7.09300121e-01,  -2.25055694e-01,  -5.34730944e-01,\n",
       "          1.08331513e-01,  -1.41494426e-02,  -6.55734943e-01,\n",
       "          1.11377339e+00,  -1.24619345e-01,  -1.80378640e-01,\n",
       "         -1.98003193e-01,   2.78249497e-01,   4.60343755e-01,\n",
       "          4.81752370e-02,   5.31449176e-01,  -4.58845514e-01,\n",
       "         -3.93926595e-02,   6.92274369e-01,   7.70769121e-01,\n",
       "          1.79948045e-01,  -7.00413778e-01,   1.74741899e+00,\n",
       "          1.97735098e-02,   1.89504576e-01,  -5.33987184e-01,\n",
       "          1.76163171e+00,  -2.96824188e-01,  -4.54206701e-01,\n",
       "         -6.15722902e-01,  -5.81425470e-01,   5.19764635e-01,\n",
       "          5.03016797e-01,  -2.52364730e-01,   2.47613429e-01,\n",
       "         -4.90548436e-01,  -5.94679519e-01,   2.90991110e-01,\n",
       "         -4.00412513e-01,  -3.45567383e-01,  -4.47190115e-01,\n",
       "         -1.88934408e-01,  -4.90592758e-01,  -4.42273944e-01,\n",
       "         -5.32832861e-01,   9.37616904e-01,  -5.63078746e-01,\n",
       "         -1.73108736e-01,  -5.65536394e-01,  -5.91135770e-01,\n",
       "         -5.74184812e-01,   3.64847580e-01,   4.46595734e-03,\n",
       "         -4.29829138e-01,  -3.25739700e-01,   1.20827348e+00,\n",
       "          1.05705752e+00,  -2.62151046e-01,  -6.50927668e-01,\n",
       "         -2.32448226e-01,  -6.58228822e-01,   3.46503446e-01,\n",
       "         -1.83258134e-01,  -5.28417344e-01,  -1.39625095e-01,\n",
       "         -3.52356478e-01,   1.02418159e+00,  -4.86260664e-01,\n",
       "         -2.13196690e-01,  -7.00645726e-01,  -1.04269913e-01,\n",
       "         -6.36593595e-01,   2.41515785e-01,  -3.28812210e-01,\n",
       "         -1.82656907e-02,   3.02242393e-01,  -6.44827666e-01,\n",
       "         -6.81958141e-01,  -2.87141442e-01,  -2.25166582e-01,\n",
       "          4.52741584e-01,   1.22215544e-01,  -4.08762649e-01,\n",
       "         -3.02539832e-01,  -6.98861101e-01,   6.41184128e-01,\n",
       "         -2.12082766e-01,   5.02467759e-01,   2.56397407e-01,\n",
       "         -2.90095633e-01,  -1.52366558e-01,   1.19987830e-01,\n",
       "         -3.23864496e-01,  -2.70076459e-01,  -4.13778878e-01,\n",
       "         -6.51773865e-01,   5.90008862e-01,  -1.83819883e-01,\n",
       "          7.83768393e-01,  -5.56841153e-01,  -4.30103282e-01,\n",
       "         -3.47476229e-01,   6.71185242e-02,  -1.68987096e-01,\n",
       "         -3.53947588e-01,   2.93454940e-01,  -3.21219447e-01,\n",
       "         -5.01037929e-01,   1.24646567e+00,  -4.81101156e-02,\n",
       "         -2.61615780e-01,   2.33063813e+00,  -2.36287568e-01,\n",
       "         -2.04431352e-01,   3.29210884e-02,  -3.61890828e-01,\n",
       "         -2.68829360e-01,   8.05594702e-01,  -2.26175111e-01,\n",
       "          9.66974125e-01,  -9.06910978e-02,   1.05209815e+00,\n",
       "         -6.23485320e-01,   1.23280118e+00,  -5.21186648e-01,\n",
       "          1.98317548e-02,  -2.52613573e-02,   2.88376850e-01,\n",
       "         -1.32689827e-01,   2.60954375e+00,   9.61780046e-01,\n",
       "          6.98778994e-01,   4.14566349e-01,  -2.14036983e-01,\n",
       "         -5.58980989e-01,   6.88940829e-02,   4.95356418e-01,\n",
       "         -7.12093174e-01,   7.51231004e-01,  -5.16005793e-01,\n",
       "          6.20263526e-01,  -5.49471253e-01,   4.55427494e-01,\n",
       "          7.69956194e-01,  -1.85032048e-01,   5.24240376e-01,\n",
       "         -5.71112131e-01,  -2.33332058e-01,  -6.61997485e-01,\n",
       "         -5.26991952e-01,   6.22317592e-01,  -3.99812355e-02,\n",
       "         -4.15448428e-01,  -3.22496002e-01,  -3.21163489e-01,\n",
       "         -4.89696640e-01,   3.36439445e-02,  -6.43616187e-03,\n",
       "         -4.96798626e-01,   6.86160578e-01,   2.98538374e-01,\n",
       "         -3.60994849e-01,  -6.13166853e-01,   8.96105812e-01,\n",
       "         -5.38928955e-01,  -3.38860558e-01,  -1.18954246e-01,\n",
       "         -5.17242918e-01,  -4.99718365e-01,  -2.82150933e-01,\n",
       "          1.59705579e-01,   3.58621019e-01,  -6.57427172e-01,\n",
       "          7.53923011e-01,   3.45940273e-01,  -3.63588163e-01,\n",
       "          4.14577410e-01,  -5.32592664e-01,  -3.73284464e-01,\n",
       "         -3.28228266e-01,   1.29810808e-01,   2.37946692e-01,\n",
       "         -1.23160550e-01,   5.50540199e-01,  -5.86303522e-01,\n",
       "         -4.53417587e-01,  -2.01165668e-01,  -2.55678882e-01,\n",
       "         -4.31688105e-02,   8.88441242e-01,  -5.29430024e-01,\n",
       "         -1.72140581e-01,  -2.63042332e-01,  -3.74076630e-01,\n",
       "         -2.23259529e-02,   1.66913747e-01,  -1.38932148e-01,\n",
       "         -1.01365623e-01,  -8.32077546e-02,   1.72168351e-01,\n",
       "         -2.89686580e-01,   1.67097280e-01,   6.64400622e-01,\n",
       "          2.09236231e-01,  -4.12888914e-01,   8.75828313e-01,\n",
       "          3.32679111e-01,   4.45453597e-01,   3.01782915e-02,\n",
       "         -1.80697130e-01,  -4.47635232e-01,   7.15671062e-01,\n",
       "         -1.07421743e-01,  -3.03878500e-01,   9.58771237e-01,\n",
       "          7.52651179e-01,   7.34348132e-01,   6.04270037e-01,\n",
       "          4.06389883e-01,   1.23323292e-01,   1.25251588e-01,\n",
       "         -3.02536147e-01,  -2.05259228e-01,   4.25615669e-01,\n",
       "          6.90007838e-03,  -3.13778073e-01,  -1.55882517e-01,\n",
       "         -3.01898525e-01,   8.80026225e-01,   2.13724439e-01,\n",
       "          3.80590367e-01,  -6.42278271e-01,   1.33666395e+00,\n",
       "         -4.25312430e-01,   4.88442298e-03,  -4.77253661e-02,\n",
       "         -1.17812981e-01,   1.58470639e-01,  -4.50321910e-01,\n",
       "         -2.40827080e-01,  -1.92163972e-02,   1.26016376e-01,\n",
       "         -1.94268311e-01,   7.77185915e-01,   1.87084341e+00,\n",
       "          5.11774178e-01,  -3.51322260e-01,   6.64322357e-01,\n",
       "         -1.64233097e-01,   2.08706508e-02,  -3.15238763e-01,\n",
       "          8.36336093e-01,   6.72805972e-01,  -2.57225902e-01,\n",
       "          8.07263366e-01,  -2.81854566e-01,  -1.82762904e-01,\n",
       "         -4.00570119e-01,   9.64418046e-02,  -4.07360383e-01,\n",
       "          1.88105097e-01,   2.45871857e-03,   1.08614011e+00,\n",
       "         -1.73241536e-01,   2.04587614e-01,   2.14938972e-01,\n",
       "          1.34854939e+00,  -1.88210629e-01,  -1.98348284e-01,\n",
       "         -4.68226633e-01,  -4.84678662e-01,   1.75312490e-01,\n",
       "         -6.05993964e-01,   2.25820537e-01,   3.56669283e-01,\n",
       "         -1.44127996e-01,  -6.40466619e-02,  -5.05964715e-01,\n",
       "         -1.77282799e-01,  -4.07057070e-01,  -5.86197738e-01,\n",
       "         -2.90065401e-01,  -1.65667465e-01,  -3.06161282e-01,\n",
       "         -4.42542550e-01,  -5.46529892e-01,   5.54965248e-01,\n",
       "         -4.84624563e-01,  -6.26040881e-01,   1.17284855e-01,\n",
       "         -6.30341473e-01,  -3.54751547e-01,   1.70318802e-01,\n",
       "          3.28068617e-02,  -3.67033115e-01,  -2.68340149e-01,\n",
       "         -4.65621767e-01,   3.70543451e-01,  -7.06564294e-02,\n",
       "          1.77136240e-01,  -1.23697222e-01,  -3.31748548e-01,\n",
       "         -6.34342449e-01,   2.42158140e+00,  -6.92998623e-01,\n",
       "          2.97383247e-01,   1.44579307e+00,   4.40522937e-01,\n",
       "          2.36940355e-01,   4.37314599e-01,  -6.59161226e-01,\n",
       "         -1.00731309e-01,   1.60855655e+00,  -6.38818276e-01,\n",
       "         -5.49516138e-01,  -2.52500294e-01,  -4.56041745e-01,\n",
       "          1.23025745e+00,   8.73539826e-01,  -2.52485206e-02,\n",
       "          1.28153450e+00,   4.70631310e-01,   4.57984437e-01,\n",
       "          8.27152091e-01,  -6.08187570e-01,   7.56751709e-01,\n",
       "         -3.72750435e-01,  -5.10209182e-01,  -1.48090716e-01,\n",
       "          2.59725560e+00,  -2.65555709e-01,  -5.86785449e-01,\n",
       "         -5.04328680e-01,   7.92832395e-02,  -5.89138706e-01,\n",
       "         -1.31867104e-01,  -5.46352107e-01,   1.57376171e-01,\n",
       "         -1.31433654e-01,  -3.19132417e-01,   9.77013332e-01,\n",
       "         -2.54428052e-02,  -1.52354614e-01,  -1.40623210e-01,\n",
       "          4.25835053e-02,  -6.25365462e-01,  -6.02449148e-01,\n",
       "          2.45495114e-01,   8.61120511e-01,   9.08320556e-01,\n",
       "         -1.68436489e-01,  -5.45040353e-02,  -3.59334852e-01,\n",
       "         -2.13580356e-01,  -4.00086777e-01,  -6.17801517e-01,\n",
       "         -6.90686753e-01,  -5.71949222e-01,   9.19280696e-01,\n",
       "         -4.65819496e-01,   3.42495938e-02,  -1.34314172e-01,\n",
       "         -2.36047842e-01,  -6.45229279e-01,  -1.94528099e-01,\n",
       "         -5.73516983e-01,  -4.43483441e-01,   5.27201242e-03,\n",
       "          5.50373207e-01,  -4.81604664e-01,   5.22295536e-01,\n",
       "          1.85518136e-01,  -4.83515819e-01,  -4.66016376e-01,\n",
       "         -3.70901030e-01,  -5.35357229e-01,   3.99504190e-01,\n",
       "         -4.29002238e-01,   3.56553236e-01,  -6.03419627e-01,\n",
       "         -6.69658699e-01,  -4.59201622e-01,   8.35023959e-01,\n",
       "          4.56186702e-01,  -6.64304829e-01,  -6.21217307e-02,\n",
       "         -5.80789300e-01,   2.68813005e-01,   3.58994087e-01,\n",
       "         -6.62619262e-01,  -6.38542490e-01,  -1.81036243e-01,\n",
       "         -1.51931146e-01,  -7.32305764e-02,  -2.88000436e-01,\n",
       "         -9.35112345e-02,   5.58956853e-01,  -5.26940352e-01,\n",
       "         -5.20035560e-02,  -3.99111582e-01,   7.26713531e-01,\n",
       "          1.15576690e-01,  -3.06224464e-01,  -6.20703021e-01,\n",
       "         -3.60778173e-01,   8.38216905e-01,  -1.49946741e-02,\n",
       "         -5.39460317e-01,  -3.35384841e-01,   6.25110347e-01,\n",
       "         -4.46970845e-01,  -4.92170225e-01,  -3.22879557e-01,\n",
       "         -6.70845806e-01,   6.37943552e-01,  -2.36475695e-01,\n",
       "         -2.27481139e-01,   2.43211910e-01,   8.39652296e-01,\n",
       "          3.12110816e-01,  -5.87351683e-01,   7.58281628e-02,\n",
       "         -4.09692725e-01,  -1.50983383e-01,   4.05121728e-01,\n",
       "          6.55508124e-02,  -6.66170491e-01,  -5.74832161e-01,\n",
       "         -5.14033940e-01,   3.24399733e-01,  -5.02232068e-01,\n",
       "         -4.71541830e-01,  -8.68264877e-02,  -5.14260357e-01,\n",
       "         -7.77847720e-02,  -3.58571446e-01,  -3.49039525e-01,\n",
       "         -5.95170823e-01,  -3.05438661e-01,  -5.33129692e-01,\n",
       "          1.06492539e-02,  -3.88258587e-01,  -1.78417329e-01,\n",
       "          6.24022744e-02,   1.74493616e-01,  -5.08126854e-01,\n",
       "         -2.78175198e-01,  -1.09514003e-01,  -6.50521710e-01,\n",
       "         -6.25128102e-02,   2.04446672e-02,  -6.79220768e-01,\n",
       "         -7.51068926e-02,  -5.85727969e-01,   5.90119949e-01,\n",
       "         -4.01926104e-01,   2.17682840e-01,  -2.93810385e-01,\n",
       "          1.68763137e+00,  -4.65610082e-01,  -7.19534572e-01,\n",
       "          1.24459991e-01,  -3.98390913e-01,  -5.12404202e-01,\n",
       "          8.42758302e-01,  -6.05537655e-01,   4.91095052e-01,\n",
       "         -4.64381027e-01,   4.37643100e-01,  -4.79690729e-01,\n",
       "          6.23630420e-01,  -3.64392925e-01,  -5.88220171e-01,\n",
       "          5.58499159e-01,   1.41748403e-01,   1.01034050e+00,\n",
       "          1.84059814e+00,  -5.12400292e-01,   1.40820742e+00,\n",
       "          1.26556193e+00,  -2.30993907e-01,  -6.40974343e-01,\n",
       "         -4.17943661e-01,   1.28887904e-01,   1.50583882e-01,\n",
       "          7.19854339e-01,  -3.16011909e-01,  -4.53111075e-01,\n",
       "         -8.03156465e-02,   4.93192440e-01,   4.75969328e-01,\n",
       "          1.20719014e+00,  -2.07524927e-01,  -6.14446750e-01,\n",
       "         -6.33697764e-01,  -1.88820811e-01,  -3.72646453e-01,\n",
       "         -5.75851238e-01,  -6.44847148e-02,  -6.93871721e-01,\n",
       "         -1.90817910e-01,  -4.51406639e-01,  -9.46815084e-02,\n",
       "         -1.49171407e-01,   6.84293840e-01,  -3.37097444e-01,\n",
       "         -3.18917848e-01,  -3.56028349e-01,   1.26501063e+00,\n",
       "         -3.98110039e-01,  -1.87258833e-01,   1.85811928e+00,\n",
       "         -3.78166127e-01,  -2.53169183e-01,  -5.51049775e-01,\n",
       "          1.47560293e-01,  -1.63501483e-01,   2.56239269e+00,\n",
       "         -4.45468280e-01,  -4.57921187e-01,   8.46523037e-01,\n",
       "         -6.14899177e-01,   4.44838259e-01,  -1.36101595e-01,\n",
       "         -6.12387365e-01,  -4.62883543e-01,   6.58063860e-01,\n",
       "         -2.14303036e-01,  -6.43120102e-01,   5.96716127e-01,\n",
       "          7.34729999e-01,  -3.18053299e-01,  -4.93062158e-01,\n",
       "          1.35233540e+00,  -2.12257195e-01,   1.84871556e-01,\n",
       "         -6.21135668e-01,  -3.28795687e-01,   7.41431993e-01,\n",
       "          1.93046466e+00,   2.67995504e-01,   8.27850645e-01,\n",
       "          2.18099967e-01,  -6.06965665e-01,   1.06730574e-02,\n",
       "         -5.41803488e-01,   2.88409516e-01,  -4.33227351e-01,\n",
       "         -5.83172781e-01,  -2.74007243e-01,  -4.22977471e-01,\n",
       "         -3.46345316e-01,  -4.13913604e-01,  -4.70740104e-01,\n",
       "          2.20701136e-01,  -4.53886344e-01,  -3.61376120e-01,\n",
       "         -4.34186021e-01,   1.55255458e-01,  -2.93257008e-01,\n",
       "         -4.49725214e-01,  -2.78401119e-02,   2.70560841e-01,\n",
       "         -5.62214723e-01,   6.21310749e-01,   6.54324546e-01,\n",
       "         -8.79741750e-02,  -3.01422886e-01,  -5.16107951e-01,\n",
       "          5.61273003e-01,  -3.45711237e-01,  -1.07379111e-01,\n",
       "          1.19485172e-01,   9.31554005e-04,   4.37426806e-01,\n",
       "         -4.39419649e-01,  -5.20535369e-01,  -6.53624321e-01,\n",
       "         -6.98506691e-01,   6.32252326e-01,  -1.95856011e-01,\n",
       "         -3.38149810e-01,  -5.41157045e-01,  -2.74047011e-01,\n",
       "          2.93096468e-01,  -3.53397153e-01,  -6.02298153e-01,\n",
       "         -4.05009627e-01,  -1.87911503e-01,  -4.53701667e-01,\n",
       "          7.98857185e-01,  -4.57958322e-01,  -2.28493179e-02,\n",
       "          6.49134568e-01,  -3.89189898e-01,   3.64782980e-01,\n",
       "         -3.65379627e-01,   4.21119701e-01,   1.62519090e-01,\n",
       "          1.58035085e-01,  -3.83714006e-01,   1.41447459e-02,\n",
       "          3.94366019e-01,  -3.45596973e-01,  -3.56570072e-01,\n",
       "         -5.86720997e-01,   3.07750042e-01,  -2.30898147e-01,\n",
       "          1.85357849e+00,   1.21325705e-01,   2.06734555e-02,\n",
       "          5.95196371e-02,   1.12171390e+00,   7.32664638e-01,\n",
       "         -4.51214240e-01,  -6.32008277e-01,  -3.30618431e-01,\n",
       "         -6.11613638e-01,  -3.96918468e-01,   8.37812020e-02,\n",
       "          6.57009184e-02,  -5.32044004e-01,  -4.98593305e-01,\n",
       "         -3.30435714e-01,  -1.93245719e-01,  -5.99825352e-01,\n",
       "         -6.28454875e-01,  -3.70733612e-01,  -3.18007174e-01,\n",
       "         -1.14005304e-01,  -2.01021624e-01,  -1.59461839e-01,\n",
       "         -6.97016159e-01,  -5.95501370e-01,  -2.04247867e-01,\n",
       "          1.56943632e-01,  -6.68871501e-01,   2.68749380e-01,\n",
       "         -4.16170283e-01,  -2.71978476e-01,  -6.85853485e-01,\n",
       "          3.89555184e-01,  -4.66495223e-01,   1.30716454e+00,\n",
       "         -3.85369578e-01,   3.24997412e-01,  -6.70334117e-01,\n",
       "          9.28207572e-02,  -2.46994352e-01,  -3.53538054e-01,\n",
       "         -2.69892622e-01,  -4.28348734e-01,   4.09337127e-01,\n",
       "         -2.07437978e-01,   8.21265918e-01,   8.39228090e-01,\n",
       "         -3.88768905e-01,   4.78438878e-02,   2.65054516e-01,\n",
       "          3.23265232e-01,  -4.66918480e-01,   3.99986664e-01,\n",
       "         -5.56304981e-01,  -3.37785603e-01,  -4.16706147e-01,\n",
       "         -4.34967096e-01,  -2.45162387e-01,  -4.62599080e-01,\n",
       "          5.96175988e-01,  -1.43478147e-01,  -4.63195263e-01,\n",
       "          1.75032944e-01,  -5.36579591e-01,   1.19197785e+00,\n",
       "         -9.37099366e-02,  -6.06323852e-01,  -5.49872455e-01,\n",
       "         -3.90393572e-01,   4.40710653e-01,  -4.16534178e-01,\n",
       "         -3.48492165e-01,  -5.06940296e-01,   3.20716808e-01,\n",
       "         -1.32989044e-01,  -6.14759825e-01,  -2.13798554e-01,\n",
       "         -3.05069373e-01,  -5.49467094e-01,  -4.12056875e-01,\n",
       "         -6.38633659e-01,  -5.07488509e-01,  -3.06886142e-01,\n",
       "          6.49160342e-01,   1.57458200e+00,  -2.51281552e-01,\n",
       "          4.51853682e-01,   2.14494616e+00,   1.05598834e-01,\n",
       "         -6.96333698e-01,  -3.63494995e-01,  -5.51723106e-01,\n",
       "         -4.73529217e-01,   2.59812345e-02,   3.20704351e-01,\n",
       "          3.50991065e-01,  -4.86461733e-01,   3.58529621e-01,\n",
       "          2.23346919e-01,  -3.66355587e-01,   1.63464452e-01,\n",
       "          1.71425277e-01,  -3.38107175e-02,  -8.06468678e-02,\n",
       "         -4.35175676e-01,  -5.57546384e-01,   3.25147646e-01,\n",
       "         -2.05932741e-01,  -6.86911528e-01,  -1.91057375e-01,\n",
       "         -4.38080737e-01,  -5.70442718e-01,  -5.80671412e-01,\n",
       "         -3.05141985e-01,  -6.02769903e-01,  -3.60617995e-01,\n",
       "         -1.69653214e-01,  -2.56140304e-01,   2.05979819e-01,\n",
       "         -4.09629785e-01,  -1.66229663e-01,  -2.76136232e-01,\n",
       "         -4.06899638e-01,   2.10820028e+00,  -7.37197499e-02,\n",
       "         -5.39091356e-01,  -1.76050043e-01,   1.35839224e-01,\n",
       "         -5.28715477e-01,   8.59612896e-01,   4.59695818e-01,\n",
       "          7.37319317e-01,   7.85119609e-02,   7.30074782e-01,\n",
       "         -6.07289523e-01,   4.84651755e-01,  -3.84051892e-01,\n",
       "          6.79133035e-01,  -4.35568980e-02,   5.70837776e-01,\n",
       "          3.94083565e-01,  -2.79300462e-01,  -4.07979421e-01,\n",
       "         -5.89335508e-01,   3.27773366e-02,   2.45948997e-01,\n",
       "         -3.26336687e-02,  -9.05234310e-02,  -4.54745253e-01,\n",
       "         -4.29727355e-01,  -4.62921353e-01,   2.80573192e-01,\n",
       "          5.81517977e-01,   3.85864727e-01,   3.83919693e-02,\n",
       "         -3.88939515e-01,  -5.46925332e-01,  -6.42511801e-01,\n",
       "         -6.11096645e-01,  -3.35170759e-01,  -3.63114206e-01,\n",
       "          3.13604179e-02,  -5.29396556e-01,  -2.66017854e-01,\n",
       "         -9.75346208e-02,  -8.33991886e-02,  -2.35101485e-01,\n",
       "         -2.17004964e-01,   1.39327419e+00,  -1.22382482e-01,\n",
       "          5.01109692e-01,  -4.27441694e-01,  -4.75837885e-02,\n",
       "         -4.78070066e-01,   9.58008512e-01,  -6.15134996e-01,\n",
       "          4.56706190e-01,  -3.45527693e-01,  -2.28553710e-01,\n",
       "         -5.98047024e-01,  -4.83116786e-01,   5.78841623e-01,\n",
       "         -3.19958561e-01,   1.04624146e+00,  -6.45727799e-01,\n",
       "          5.06080903e-03,  -1.86549355e-01,  -1.16836856e-02,\n",
       "          1.45307771e-01,  -2.44134662e-01,   1.83486232e-01,\n",
       "          1.26260258e-01,  -3.05673267e-01,  -6.32107561e-01,\n",
       "          8.47571284e-01,   1.08653830e+00,   5.83391261e-01,\n",
       "         -5.89752729e-01,   6.66856131e-01,  -6.23572090e-01,\n",
       "          9.06328976e-02,   5.12425731e-01,  -1.97971954e-01,\n",
       "         -4.06697919e-01,   6.84831127e-01,   2.41155824e+00,\n",
       "         -6.89219599e-01,   2.60425376e-01,   5.87527729e-01,\n",
       "          6.23639982e-01,  -4.00497281e-01,   3.81556318e-02,\n",
       "          9.01908163e-01,  -2.57053491e-01,  -3.98225889e-01,\n",
       "         -6.86034500e-01,   1.87403872e-01,  -6.81076467e-01,\n",
       "          1.75209311e+00,   7.18348859e-01,  -4.11204015e-01,\n",
       "         -1.74859695e-03,  -3.87245407e-01,  -7.04137377e-01,\n",
       "         -5.72204904e-01,   2.16154785e-01,  -5.75849320e-01,\n",
       "         -6.06397100e-01,   6.89427867e-01,  -5.97191689e-01,\n",
       "          4.84801257e-01,   1.00841356e+00,   7.48624412e-01,\n",
       "         -4.26668676e-01,  -1.50402602e-01,  -6.87172327e-01,\n",
       "          1.02600732e-02,   6.33007081e-01,   5.01125185e-01,\n",
       "         -6.47873192e-01,  -5.68750878e-01,  -6.91948090e-01,\n",
       "          1.81760836e+00,  -2.42693219e-01,  -4.75297090e-01,\n",
       "          1.52675869e-01,   2.17191330e-01,   4.12713785e-02,\n",
       "          3.86747908e-01,  -2.76254828e-01,   1.22421637e+00,\n",
       "         -3.61064066e-01,   1.93115101e-01,  -5.81290260e-01,\n",
       "         -4.36256874e-01,   1.08495644e+00,  -3.28293061e-01,\n",
       "         -3.14652834e-01,  -3.49626129e-01,  -4.34641331e-01,\n",
       "         -5.55531755e-01,   2.15215139e+00,  -1.64751460e-01,\n",
       "          1.65650211e-01,   2.35066125e-01,   3.09654329e-01,\n",
       "          2.94883805e-01,   3.54760212e-01,   6.95856263e-01,\n",
       "         -2.80011245e-01,   9.93616749e-01,  -6.40956269e-01,\n",
       "         -3.00942622e-01,  -5.77987923e-01,  -3.60184468e-01,\n",
       "          7.11752792e-01,  -5.20056854e-01,  -8.36877701e-02,\n",
       "          1.75225746e-01,  -6.65317745e-01,   4.22347398e-01,\n",
       "         -4.57111547e-02,   9.26133875e-02,   1.26623934e+00,\n",
       "         -4.83408313e-01,  -1.30954750e-01,  -2.23646871e-01,\n",
       "         -2.55790079e-01,   2.48153043e-02,  -7.18905594e-02,\n",
       "         -4.51040375e-01,   5.31605734e-02,   2.34710644e-01,\n",
       "          1.31415784e+00,  -4.10150973e-01,  -3.00388292e-01,\n",
       "          7.44449784e-01,  -1.30173580e-01,  -3.56355866e-01,\n",
       "          9.76193564e-01,  -3.92244418e-01,   9.88137356e-01,\n",
       "          1.59527639e-01,  -3.75579382e-01,   9.07654686e-02,\n",
       "          7.62866198e-01,   4.79643203e-01,  -2.26453370e-01,\n",
       "         -3.31011167e-01,   9.02312147e-03,   6.96841868e-01,\n",
       "          2.10305757e-01,   1.09387657e+00,  -5.21736658e-01,\n",
       "         -2.55832131e-01,  -4.97975966e-01,  -5.59969809e-01,\n",
       "          5.19823118e-01,  -3.49470442e-01,   3.05340648e-01,\n",
       "         -3.12951069e-01,   5.82441810e-01,  -2.92658288e-01,\n",
       "         -7.09639872e-02,  -5.49154569e-01,  -2.02101427e-01,\n",
       "          1.47296853e-01,   5.04665057e-01,   4.99753989e-01,\n",
       "         -4.39039283e-01,  -5.25275364e-01,  -2.41533553e-01,\n",
       "          1.04052519e-01,   2.25310303e+00,   4.50840826e-01,\n",
       "         -2.28879535e-01,  -6.46615193e-01,  -1.13425713e-01,\n",
       "          1.78600282e-01,  -5.96556953e-01,  -3.18366815e-01,\n",
       "          1.61837730e-01,  -5.34219584e-01,  -5.25169955e-01,\n",
       "         -3.12655826e-01,  -5.27129859e-01,  -4.75533357e-01,\n",
       "          6.67998753e-01,  -5.57644959e-01,  -4.63298998e-01,\n",
       "          5.47792295e-01,   4.68130544e-01,  -3.02448077e-02,\n",
       "         -4.40363026e-01,  -2.92600591e-01,   1.25166705e+00,\n",
       "          2.86170096e-01,   4.39427674e-01,   1.98366243e+00,\n",
       "          5.74658609e-01,  -4.01773207e-01,  -3.64729309e-01,\n",
       "         -4.41537342e-01,  -5.78227602e-01,   4.21235468e-01,\n",
       "         -4.06328428e-01,  -4.29338777e-01,   8.43396441e-02,\n",
       "          8.58191379e-01,  -5.90586469e-01,   1.38779361e+00,\n",
       "          2.73467807e-01,  -7.02781830e-01,  -2.04283859e-01,\n",
       "          2.35667592e-01,   1.39888483e+00,  -4.51887479e-01,\n",
       "          2.40003447e-01,  -5.72599430e-01,  -1.54591465e-01,\n",
       "          4.46811002e-01,  -4.43992726e-01,  -1.51033850e-01,\n",
       "          1.98671392e+00,   5.35522146e-01,   1.16773560e-01,\n",
       "          6.33245345e-01,  -1.79688086e-01,  -4.79683903e-01,\n",
       "         -1.87319153e-01]),\n",
       " 'test_stat': 1.884431228481569,\n",
       " 'time_secs': 0.014560937881469727}"
      ]
     },
     "execution_count": 13,
     "metadata": {},
     "output_type": "execute_result"
    }
   ],
   "source": [
    "# construct a test\n",
    "k_opt = kernel.KGauss(gw_opt)\n",
    "fssd_opt = gof.FSSD(isonorm, k_opt, V_opt, null_sim=null_sim, alpha=alpha)\n",
    "fssd_opt_result = fssd_opt.perform_test(te, return_simulated_stats=True)\n",
    "fssd_opt_result"
   ]
  },
  {
   "cell_type": "code",
   "execution_count": 14,
   "metadata": {
    "collapsed": false,
    "scrolled": true
   },
   "outputs": [
    {
     "data": {
      "text/plain": [
       "(0.0075377249139262758, 0.0074985002927684501)"
      ]
     },
     "execution_count": 14,
     "metadata": {},
     "output_type": "execute_result"
    }
   ],
   "source": [
    "# get the mean and variance under H1 of the test statistic\n",
    "fssd_opt.get_H1_mean_variance(te)"
   ]
  },
  {
   "cell_type": "code",
   "execution_count": 15,
   "metadata": {
    "collapsed": false
   },
   "outputs": [
    {
     "data": {
      "text/plain": [
       "<matplotlib.legend.Legend at 0x7fd9d52f1090>"
      ]
     },
     "execution_count": 15,
     "metadata": {},
     "output_type": "execute_result"
    },
    {
     "data": {
      "image/png": "[encoded data removed]",
      "text/plain": [
       "<matplotlib.figure.Figure at 0x7fd9a5c9f610>"
      ]
     },
     "metadata": {},
     "output_type": "display_data"
    }
   ],
   "source": [
    "sim_stats = fssd_opt_result['sim_stats']\n",
    "plt.hist(sim_stats, bins=20, normed=True);\n",
    "plt.stem([fssd_opt_result['test_stat']], [0.03], 'r-o', label='Stat')\n",
    "plt.legend()"
   ]
  },
  {
   "cell_type": "code",
   "execution_count": 16,
   "metadata": {
    "collapsed": false
   },
   "outputs": [
    {
     "data": {
      "text/plain": [
       "(array([[-0.48533073,  2.32664169, -0.79314006],\n",
       "        [ 1.77239283, -0.93498154,  1.56803501],\n",
       "        [ 0.70790149,  1.96197661, -1.19020806],\n",
       "        [ 2.05575063,  0.38562135, -1.70363579],\n",
       "        [ 1.62544016, -0.48553705,  1.95480837]]),\n",
       " 4.4982134091392521,\n",
       " {'fun': -0.092712781297992403,\n",
       "  'hess_inv': <16x16 LbfgsInvHessProduct with dtype=float64>,\n",
       "  'jac': array([ -5.47959410e-05,  -3.28567821e-04,   4.11654599e-04,\n",
       "          -3.73435422e-04,   1.26694162e-03,  -2.77768461e-04,\n",
       "          -7.57575558e-04,  -1.66798167e-03,   4.63498212e-04,\n",
       "           4.72176662e-04,   4.78349843e-04,  -2.90247167e-05,\n",
       "          -5.20089178e-05,   5.62430520e-04,   4.58613924e-04,\n",
       "          -3.95666878e-04]),\n",
       "  'message': 'CONVERGENCE: REL_REDUCTION_OF_F_<=_FACTR*EPSMCH',\n",
       "  'nfev': 15,\n",
       "  'nit': 11,\n",
       "  'status': 0,\n",
       "  'success': True,\n",
       "  'time_secs': 7.00511908531189,\n",
       "  'x': array([ 2.1208992 , -0.48533073,  2.32664169, -0.79314006,  1.77239283,\n",
       "         -0.93498154,  1.56803501,  0.70790149,  1.96197661, -1.19020806,\n",
       "          2.05575063,  0.38562135, -1.70363579,  1.62544016, -0.48553705,\n",
       "          1.95480837])})"
      ]
     },
     "execution_count": 16,
     "metadata": {},
     "output_type": "execute_result"
    }
   ],
   "source": [
    "gof.GaussFSSD.optimize_auto_init(isonorm, tr, J, **opts)"
   ]
  },
  {
   "cell_type": "code",
   "execution_count": null,
   "metadata": {
    "collapsed": true
   },
   "outputs": [],
   "source": []
  },
  {
   "cell_type": "code",
   "execution_count": null,
   "metadata": {
    "collapsed": true
   },
   "outputs": [],
   "source": []
  },
  {
   "cell_type": "code",
   "execution_count": null,
   "metadata": {
    "collapsed": true
   },
   "outputs": [],
   "source": []
  },
  {
   "cell_type": "code",
   "execution_count": null,
   "metadata": {
    "collapsed": true
   },
   "outputs": [],
   "source": []
  }
 ],
 "metadata": {
  "kernelspec": {
   "display_name": "Python 2",
   "language": "python",
   "name": "python2"
  },
  "language_info": {
   "codemirror_mode": {
    "name": "ipython",
    "version": 2
   },
   "file_extension": ".py",
   "mimetype": "text/x-python",
   "name": "python",
   "nbconvert_exporter": "python",
   "pygments_lexer": "ipython2",
   "version": "2.7.11+"
  }
 },
 "nbformat": 4,
 "nbformat_minor": 0
}
