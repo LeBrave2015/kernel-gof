{
 "cells": [
  {
   "cell_type": "markdown",
   "metadata": {},
   "source": [
    "This notebook contains some intermediate steps in computing the Bahadur efficiency, slopes using Sympy."
   ]
  },
  {
   "cell_type": "code",
   "execution_count": null,
   "metadata": {
    "collapsed": true
   },
   "outputs": [],
   "source": [
    "%load_ext autoreload\n",
    "%autoreload 2\n",
    "%matplotlib inline\n",
    "#%config InlineBackend.figure_format = 'svg'\n",
    "#%config InlineBackend.figure_format = 'pdf'\n",
    "\n",
    "import numpy as np\n",
    "\n",
    "import matplotlib\n",
    "import matplotlib.pyplot as plt\n",
    "import kgof.data as data\n",
    "import kgof.glo as glo\n",
    "import kgof.goftest as gof\n",
    "import kgof.kernel as kernel\n",
    "import kgof.plot as plot\n",
    "import kgof.util as util\n",
    "\n",
    "import scipy.stats as stats\n",
    "import sympy as smp\n",
    "# http://docs.sympy.org/dev/modules/physics/vector/api/printing.html\n",
    "smp.init_printing(use_latex='mathjax', latex_mode='inline')"
   ]
  },
  {
   "cell_type": "code",
   "execution_count": null,
   "metadata": {
    "collapsed": true
   },
   "outputs": [],
   "source": [
    "# font options\n",
    "font = {\n",
    "    #'family' : 'normal',\n",
    "    #'weight' : 'bold',\n",
    "    'size'   : 16\n",
    "}\n",
    "\n",
    "plt.rc('font', **font)\n",
    "plt.rc('lines', linewidth=2)\n",
    "matplotlib.rcParams['pdf.fonttype'] = 42\n",
    "matplotlib.rcParams['ps.fonttype'] = 42"
   ]
  },
  {
   "cell_type": "markdown",
   "metadata": {},
   "source": [
    "## Product of 2 Gaussian distributions"
   ]
  },
  {
   "cell_type": "code",
   "execution_count": null,
   "metadata": {
    "collapsed": true
   },
   "outputs": [],
   "source": [
    "mp, mq, sp, sq = smp.symbols(r'mu_p mu_q sigma^2_p sigma^2_q')\n",
    "s = 1/(1/sp + 1/sq)\n",
    "b = mp/sp + mq/sq\n",
    "c = mp**2/sp + mq**2/sq"
   ]
  },
  {
   "cell_type": "code",
   "execution_count": null,
   "metadata": {
    "collapsed": false
   },
   "outputs": [],
   "source": [
    "-b**2*s + c"
   ]
  },
  {
   "cell_type": "code",
   "execution_count": null,
   "metadata": {
    "collapsed": false
   },
   "outputs": [],
   "source": [
    "smp.simplify(-b**2*s + c)"
   ]
  },
  {
   "cell_type": "code",
   "execution_count": null,
   "metadata": {
    "collapsed": false
   },
   "outputs": [],
   "source": [
    "# mean of the product of 2 Gaussians\n",
    "smp.simplify(s*b)"
   ]
  },
  {
   "cell_type": "markdown",
   "metadata": {},
   "source": [
    "## Assume d=1, J=1, p,q=Gaussian with different parameters"
   ]
  },
  {
   "cell_type": "code",
   "execution_count": null,
   "metadata": {
    "collapsed": true
   },
   "outputs": [],
   "source": [
    "# computation of E_q \\xi(x, v)\n",
    "v, mq, mp = smp.symbols(r'v mu_q mu_p')\n",
    "sk = smp.Symbol('s_k', positive=True)\n",
    "sp = smp.Symbol('s_p', positive=True)\n",
    "sq = smp.Symbol('s_q', positive=True)\n",
    "\n",
    "s = 1/(1/sk + 1/sq)\n",
    "mu = (v/sk+mq/sq)*s"
   ]
  },
  {
   "cell_type": "code",
   "execution_count": null,
   "metadata": {
    "collapsed": false
   },
   "outputs": [],
   "source": [
    "exi = -smp.sqrt(s/sq)*smp.exp(-(v-mq)**2/(sk+sq))*((mu-mp)/sp + (mu-v)/sk)"
   ]
  },
  {
   "cell_type": "code",
   "execution_count": null,
   "metadata": {
    "collapsed": false,
    "scrolled": true
   },
   "outputs": [],
   "source": [
    "smp.simplify(exi)"
   ]
  },
  {
   "cell_type": "code",
   "execution_count": null,
   "metadata": {
    "collapsed": false,
    "scrolled": false
   },
   "outputs": [],
   "source": [
    "smp.simplify(exi.subs({mp: mq}))"
   ]
  },
  {
   "cell_type": "code",
   "execution_count": null,
   "metadata": {
    "collapsed": false,
    "scrolled": true
   },
   "outputs": [],
   "source": [
    "smp.simplify(exi.subs({sq: sp}))"
   ]
  },
  {
   "cell_type": "code",
   "execution_count": null,
   "metadata": {
    "collapsed": false
   },
   "outputs": [],
   "source": [
    "smp.simplify(exi.subs({sq: sp, mp: mq}))"
   ]
  },
  {
   "cell_type": "markdown",
   "metadata": {},
   "source": [
    "### Compute $\\boldsymbol{\\Sigma}=\\mathbb{V}_{\\mathbf{x} \\sim p}[\\boldsymbol{\\tau}(\\mathbf{x})]$ when $d=1, J=1$ under $H_0$. Note $p=q$."
   ]
  },
  {
   "cell_type": "code",
   "execution_count": null,
   "metadata": {
    "collapsed": false
   },
   "outputs": [],
   "source": [
    "x = smp.symbols('x')\n",
    "alpha = (x-mp)/sp + (x-v)/sk\n",
    "# mean of the Gaussian\n",
    "m = (2*v/sk + mq/sq)/(2/sk+1/sq)\n",
    "s = 1/(2/sk+1/sq)"
   ]
  },
  {
   "cell_type": "code",
   "execution_count": null,
   "metadata": {
    "collapsed": false
   },
   "outputs": [],
   "source": [
    "m"
   ]
  },
  {
   "cell_type": "code",
   "execution_count": null,
   "metadata": {
    "collapsed": false,
    "scrolled": false
   },
   "outputs": [],
   "source": [
    "a2 = smp.collect(smp.expand(alpha**2, x), x)\n",
    "a2"
   ]
  },
  {
   "cell_type": "code",
   "execution_count": null,
   "metadata": {
    "collapsed": false
   },
   "outputs": [],
   "source": [
    "ealpha2 = mp**2/sp**2 + 2*mp*v/(sk*sp) + v**2/sk**2 + (s+m**2)*(1/sp**2 + 2/(sk*sp) + 1/sk**2) + \\\n",
    "    m*(-2*mp/sp**2 -2*mp/(sk*sp) -2*v/(sk*sp) -2*v/sk**2)\n",
    "ealpha2"
   ]
  },
  {
   "cell_type": "code",
   "execution_count": null,
   "metadata": {
    "collapsed": false
   },
   "outputs": [],
   "source": [
    "smp.simplify(smp.together(ealpha2))"
   ]
  },
  {
   "cell_type": "code",
   "execution_count": null,
   "metadata": {
    "collapsed": false
   },
   "outputs": [],
   "source": [
    "exi2 = smp.sqrt(s/sq)*smp.exp(-(v-mq)**2/(sk/2+sq))*ealpha2\n",
    "exi2"
   ]
  },
  {
   "cell_type": "code",
   "execution_count": null,
   "metadata": {
    "collapsed": false
   },
   "outputs": [],
   "source": [
    "#var_xi = exi2 - exi**2 # Don't need -exi**2 under H0\n",
    "var_xi = exi2\n",
    "pp, pq, pk = smp.symbols('tau_p tau_q tau_k', positive=True)\n",
    "var_xi_prec = var_xi.subs({sq: 1/pq, sp: 1/pp, sk: 1/pk})"
   ]
  },
  {
   "cell_type": "code",
   "execution_count": null,
   "metadata": {
    "collapsed": false,
    "scrolled": true
   },
   "outputs": [],
   "source": [
    "# Make p=q i.e., make the means the same, and the variances (precisions) the same\n",
    "var_xi_prec_h0 = var_xi_prec.subs({pq: pp, mq: mp})\n",
    "smp.simplify(var_xi_prec_h0)"
   ]
  },
  {
   "cell_type": "markdown",
   "metadata": {},
   "source": [
    "## Bahadur slope"
   ]
  },
  {
   "cell_type": "code",
   "execution_count": null,
   "metadata": {
    "collapsed": false
   },
   "outputs": [],
   "source": [
    "fssd2 = (exi**2).subs({sq: 1/pq, sp: 1/pp, sk: 1/pk})\n",
    "fssd2"
   ]
  },
  {
   "cell_type": "code",
   "execution_count": null,
   "metadata": {
    "collapsed": false
   },
   "outputs": [],
   "source": [
    "var_xi_prec_h0"
   ]
  },
  {
   "cell_type": "code",
   "execution_count": null,
   "metadata": {
    "collapsed": false
   },
   "outputs": [],
   "source": [
    "slope = smp.simplify(fssd2)/var_xi_prec_h0\n",
    "slope"
   ]
  },
  {
   "cell_type": "code",
   "execution_count": null,
   "metadata": {
    "collapsed": false
   },
   "outputs": [],
   "source": [
    "smp.simplify(slope)"
   ]
  },
  {
   "cell_type": "code",
   "execution_count": null,
   "metadata": {
    "collapsed": false
   },
   "outputs": [],
   "source": [
    "smp.simplify(slope.subs({mp: 0, pp:1, pk: 1, pq: 1/sq}))"
   ]
  },
  {
   "cell_type": "markdown",
   "metadata": {},
   "source": [
    "## 1D Gaussian case for the running-average kernel Stein test"
   ]
  },
  {
   "cell_type": "code",
   "execution_count": null,
   "metadata": {
    "collapsed": false
   },
   "outputs": [],
   "source": [
    "import sympy.stats as spt"
   ]
  },
  {
   "cell_type": "code",
   "execution_count": null,
   "metadata": {
    "collapsed": false
   },
   "outputs": [],
   "source": [
    "# http://docs.sympy.org/0.7.3/modules/stats.html\n",
    "mq, x0, y0 = smp.symbols('mu_q x_0, y_0')\n",
    "sq, sk = smp.symbols('s_q s_k', positive=True)\n",
    "pq, pk = smp.symbols('tau_q tau_k', positive=True)\n",
    "\n",
    "x = spt.Normal('x', mq, smp.sqrt(sq))\n",
    "y = spt.Normal('y', mq, smp.sqrt(sq))\n",
    "smp.simplify(spt.variance(x))"
   ]
  },
  {
   "cell_type": "code",
   "execution_count": null,
   "metadata": {
    "collapsed": false,
    "scrolled": true
   },
   "outputs": [],
   "source": [
    "def logp(x, mp=0, sp=1):\n",
    "    return -(x-mp)**2/(2*sp)\n",
    "\n",
    "def kernel(x, y, sk):\n",
    "    return smp.exp(-(x-y)**2/(2*sk))\n",
    "\n",
    "def grad_logp(x, mp=0, sp=1):\n",
    "    return smp.diff(logp(x), x)\n",
    "\n",
    "t1 = smp.diff(logp(x0), x0)*smp.diff(logp(y0), y0)*kernel(x0, y0, sk)\n",
    "t1\n"
   ]
  },
  {
   "cell_type": "code",
   "execution_count": null,
   "metadata": {
    "collapsed": false
   },
   "outputs": [],
   "source": [
    "ext1 = smp.simplify(spt.E(t1.subs({x0: x})))\n",
    "ext1"
   ]
  },
  {
   "cell_type": "code",
   "execution_count": null,
   "metadata": {
    "collapsed": false
   },
   "outputs": [],
   "source": [
    "# eet1 = smp.simplify(spt.E(ext1.subs({y0: y})))"
   ]
  },
  {
   "cell_type": "code",
   "execution_count": null,
   "metadata": {
    "collapsed": false
   },
   "outputs": [],
   "source": [
    "# Compute E_x E_y [grad_y logp(y)]*grad_x k(x,y)\n",
    "t2 = grad_logp(y0)*smp.diff(kernel(x0, y0, sk), x0)\n",
    "t2_rand = t2.subs({x0: x, y0: y})\n",
    "smp.simplify(t2)"
   ]
  },
  {
   "cell_type": "code",
   "execution_count": null,
   "metadata": {
    "collapsed": false
   },
   "outputs": [],
   "source": [
    "# Compute E_x E_y [grad_x logp(x)*grad_y k(x,y)]\n",
    "t3 = grad_logp(x0)*smp.diff(kernel(x0, y0, sk), y0)\n",
    "t3_rand = t3.subs({x0: x, y0: y})\n",
    "smp.simplify(t3)"
   ]
  },
  {
   "cell_type": "code",
   "execution_count": null,
   "metadata": {
    "collapsed": false
   },
   "outputs": [],
   "source": [
    "# Compute grad_x grad_y k(x,y)\n",
    "t4 = smp.diff(smp.diff(kernel(x0, y0, sk), x0), y0)\n",
    "t4_rand = t4.subs({x0: x, y0: y})\n",
    "smp.simplify(t4)"
   ]
  },
  {
   "cell_type": "code",
   "execution_count": null,
   "metadata": {
    "collapsed": false
   },
   "outputs": [],
   "source": [
    "hp = t1 + t2 + t3 + t4\n",
    "hp = smp.simplify(hp.subs({sk: 1/pk, x0: x, y0: y}))\n",
    "hp"
   ]
  },
  {
   "cell_type": "code",
   "execution_count": null,
   "metadata": {
    "collapsed": false
   },
   "outputs": [],
   "source": [
    "spt.E(hp)"
   ]
  },
  {
   "cell_type": "code",
   "execution_count": null,
   "metadata": {
    "collapsed": true
   },
   "outputs": [],
   "source": []
  },
  {
   "cell_type": "code",
   "execution_count": null,
   "metadata": {
    "collapsed": true
   },
   "outputs": [],
   "source": []
  },
  {
   "cell_type": "code",
   "execution_count": null,
   "metadata": {
    "collapsed": true
   },
   "outputs": [],
   "source": []
  },
  {
   "cell_type": "code",
   "execution_count": null,
   "metadata": {
    "collapsed": true
   },
   "outputs": [],
   "source": []
  },
  {
   "cell_type": "code",
   "execution_count": null,
   "metadata": {
    "collapsed": true
   },
   "outputs": [],
   "source": []
  }
 ],
 "metadata": {
  "kernelspec": {
   "display_name": "Python 2",
   "language": "python",
   "name": "python2"
  },
  "language_info": {
   "codemirror_mode": {
    "name": "ipython",
    "version": 2
   },
   "file_extension": ".py",
   "mimetype": "text/x-python",
   "name": "python",
   "nbconvert_exporter": "python",
   "pygments_lexer": "ipython2",
   "version": "2.7.11"
  }
 },
 "nbformat": 4,
 "nbformat_minor": 0
}
