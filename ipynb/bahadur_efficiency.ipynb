{
 "cells": [
  {
   "cell_type": "markdown",
   "metadata": {},
   "source": [
    "This notebook contains some intermediate steps in computing the Bahadur efficiency, slopes using Sympy."
   ]
  },
  {
   "cell_type": "code",
   "execution_count": null,
   "metadata": {
    "collapsed": false
   },
   "outputs": [],
   "source": [
    "%load_ext autoreload\n",
    "%autoreload 2\n",
    "%matplotlib inline\n",
    "#%config InlineBackend.figure_format = 'svg'\n",
    "#%config InlineBackend.figure_format = 'pdf'\n",
    "\n",
    "import numpy as np\n",
    "\n",
    "import matplotlib\n",
    "import matplotlib.pyplot as plt\n",
    "import kgof.data as data\n",
    "import kgof.glo as glo\n",
    "import kgof.goftest as gof\n",
    "import kgof.kernel as kernel\n",
    "import kgof.plot as plot\n",
    "import kgof.util as util\n",
    "\n",
    "import scipy.stats as stats\n",
    "import sympy as smp\n",
    "# http://docs.sympy.org/dev/modules/physics/vector/api/printing.html\n",
    "smp.init_printing(use_latex='mathjax', latex_mode='inline')"
   ]
  },
  {
   "cell_type": "code",
   "execution_count": null,
   "metadata": {
    "collapsed": true
   },
   "outputs": [],
   "source": [
    "# font options\n",
    "font = {\n",
    "    #'family' : 'normal',\n",
    "    #'weight' : 'bold',\n",
    "    'size'   : 16\n",
    "}\n",
    "\n",
    "plt.rc('font', **font)\n",
    "plt.rc('lines', linewidth=2)\n",
    "matplotlib.rcParams['pdf.fonttype'] = 42\n",
    "matplotlib.rcParams['ps.fonttype'] = 42"
   ]
  },
  {
   "cell_type": "markdown",
   "metadata": {},
   "source": [
    "## Product of 2 Gaussian distributions"
   ]
  },
  {
   "cell_type": "code",
   "execution_count": null,
   "metadata": {
    "collapsed": true
   },
   "outputs": [],
   "source": [
    "mp, mq, sp, sq = smp.symbols(r'mu_p mu_q sigma^2_p sigma^2_q')\n",
    "s = 1/(1/sp + 1/sq)\n",
    "b = mp/sp + mq/sq\n",
    "c = mp**2/sp + mq**2/sq"
   ]
  },
  {
   "cell_type": "code",
   "execution_count": null,
   "metadata": {
    "collapsed": false
   },
   "outputs": [],
   "source": [
    "-b**2*s + c"
   ]
  },
  {
   "cell_type": "code",
   "execution_count": null,
   "metadata": {
    "collapsed": false
   },
   "outputs": [],
   "source": [
    "smp.simplify(-b**2*s + c)"
   ]
  },
  {
   "cell_type": "code",
   "execution_count": null,
   "metadata": {
    "collapsed": false
   },
   "outputs": [],
   "source": [
    "# mean of the product of 2 Gaussians\n",
    "smp.simplify(s*b)"
   ]
  },
  {
   "cell_type": "markdown",
   "metadata": {},
   "source": [
    "## Assume d=1, J=1, p,q=Gaussian with different parameters"
   ]
  },
  {
   "cell_type": "code",
   "execution_count": null,
   "metadata": {
    "collapsed": true
   },
   "outputs": [],
   "source": [
    "# computation of E_q \\xi(x, v)\n",
    "v, mq, mp = smp.symbols(r'v mu_q mu_p')\n",
    "sk = smp.Symbol('s_k', positive=True)\n",
    "sp = smp.Symbol('s_p', positive=True)\n",
    "sq = smp.Symbol('s_q', positive=True)\n",
    "\n",
    "s = 1/(1/sk + 1/sq)\n",
    "mu = (v/sk+mq/sq)*s"
   ]
  },
  {
   "cell_type": "code",
   "execution_count": null,
   "metadata": {
    "collapsed": false
   },
   "outputs": [],
   "source": [
    "exi = -smp.sqrt(s/sq)*smp.exp(-(v-mq)**2/(sk+sq))*((mu-mp)/sp + (mu-v)/sk)"
   ]
  },
  {
   "cell_type": "code",
   "execution_count": null,
   "metadata": {
    "collapsed": false,
    "scrolled": true
   },
   "outputs": [],
   "source": [
    "smp.simplify(exi)"
   ]
  },
  {
   "cell_type": "code",
   "execution_count": null,
   "metadata": {
    "collapsed": false,
    "scrolled": false
   },
   "outputs": [],
   "source": [
    "smp.simplify(exi.subs({mp: mq}))"
   ]
  },
  {
   "cell_type": "code",
   "execution_count": null,
   "metadata": {
    "collapsed": false,
    "scrolled": true
   },
   "outputs": [],
   "source": [
    "smp.simplify(exi.subs({sq: sp}))"
   ]
  },
  {
   "cell_type": "code",
   "execution_count": null,
   "metadata": {
    "collapsed": false
   },
   "outputs": [],
   "source": [
    "smp.simplify(exi.subs({sq: sp, mp: mq}))"
   ]
  },
  {
   "cell_type": "markdown",
   "metadata": {},
   "source": [
    "### Compute $\\boldsymbol{\\Sigma}=\\mathbb{V}_{\\mathbf{x} \\sim p}[\\boldsymbol{\\tau}(\\mathbf{x})]$ when $d=1, J=1$ under $H_0$. Note $p=q$."
   ]
  },
  {
   "cell_type": "code",
   "execution_count": null,
   "metadata": {
    "collapsed": false
   },
   "outputs": [],
   "source": [
    "x = smp.symbols('x')\n",
    "alpha = (x-mp)/sp + (x-v)/sk\n",
    "# mean of the Gaussian\n",
    "m = (2*v/sk + mq/sq)/(2/sk+1/sq)\n",
    "s = 1/(2/sk+1/sq)"
   ]
  },
  {
   "cell_type": "code",
   "execution_count": null,
   "metadata": {
    "collapsed": false
   },
   "outputs": [],
   "source": [
    "m"
   ]
  },
  {
   "cell_type": "code",
   "execution_count": null,
   "metadata": {
    "collapsed": false,
    "scrolled": true
   },
   "outputs": [],
   "source": [
    "a2 = smp.collect(smp.expand(alpha**2, x), x)\n",
    "a2"
   ]
  },
  {
   "cell_type": "code",
   "execution_count": null,
   "metadata": {
    "collapsed": false,
    "scrolled": true
   },
   "outputs": [],
   "source": [
    "ealpha2 = mp**2/sp**2 + 2*mp*v/(sk*sp) + v**2/sk**2 + (s+m**2)*(1/sp**2 + 2/(sk*sp) + 1/sk**2) + \\\n",
    "    m*(-2*mp/sp**2 -2*mp/(sk*sp) -2*v/(sk*sp) -2*v/sk**2)\n",
    "ealpha2"
   ]
  },
  {
   "cell_type": "code",
   "execution_count": null,
   "metadata": {
    "collapsed": false,
    "scrolled": true
   },
   "outputs": [],
   "source": [
    "smp.simplify(smp.together(ealpha2))"
   ]
  },
  {
   "cell_type": "code",
   "execution_count": null,
   "metadata": {
    "collapsed": false
   },
   "outputs": [],
   "source": [
    "exi2 = smp.sqrt(s/sq)*smp.exp(-(v-mq)**2/(sk/2+sq))*ealpha2\n",
    "exi2"
   ]
  },
  {
   "cell_type": "code",
   "execution_count": null,
   "metadata": {
    "collapsed": false
   },
   "outputs": [],
   "source": [
    "#var_xi = exi2 - exi**2 # Don't need -exi**2 under H0\n",
    "var_xi = exi2\n",
    "pp, pq, pk = smp.symbols('tau_p tau_q tau_k', positive=True)\n",
    "var_xi_prec = var_xi.subs({sq: 1/pq, sp: 1/pp, sk: 1/pk})"
   ]
  },
  {
   "cell_type": "code",
   "execution_count": null,
   "metadata": {
    "collapsed": false,
    "scrolled": false
   },
   "outputs": [],
   "source": [
    "# Make p=q i.e., make the means the same, and the variances (precisions) the same\n",
    "var_xi_prec_h0 = var_xi_prec.subs({pq: pp, mq: mp})\n",
    "smp.simplify(var_xi_prec_h0)"
   ]
  },
  {
   "cell_type": "markdown",
   "metadata": {},
   "source": [
    "## Bahadur slope"
   ]
  },
  {
   "cell_type": "code",
   "execution_count": null,
   "metadata": {
    "collapsed": false,
    "scrolled": true
   },
   "outputs": [],
   "source": [
    "fssd2 = (exi**2).subs({sq: 1/pq, sp: 1/pp, sk: 1/pk})\n",
    "fssd2"
   ]
  },
  {
   "cell_type": "code",
   "execution_count": null,
   "metadata": {
    "collapsed": false,
    "scrolled": true
   },
   "outputs": [],
   "source": [
    "var_xi_prec_h0"
   ]
  },
  {
   "cell_type": "code",
   "execution_count": null,
   "metadata": {
    "collapsed": false
   },
   "outputs": [],
   "source": [
    "slope = smp.simplify(fssd2)/var_xi_prec_h0\n",
    "slope"
   ]
  },
  {
   "cell_type": "code",
   "execution_count": null,
   "metadata": {
    "collapsed": false,
    "scrolled": true
   },
   "outputs": [],
   "source": [
    "smp.simplify(slope)"
   ]
  },
  {
   "cell_type": "code",
   "execution_count": null,
   "metadata": {
    "collapsed": false,
    "scrolled": false
   },
   "outputs": [],
   "source": [
    "slope_standard = smp.simplify(slope.subs({mp: 0, pp:1, pk: 1, pq: 1/sq}))\n",
    "slope_standard"
   ]
  },
  {
   "cell_type": "code",
   "execution_count": null,
   "metadata": {
    "collapsed": false
   },
   "outputs": [],
   "source": [
    "# mqs = [-1, 0, 1.2]\n",
    "mqs = [0]\n",
    "sqs = [0.05, 1, 1.8]\n",
    "# sqs = [1]\n",
    "vs = np.linspace(-8, 8, 300)\n",
    "plt.figure(figsize=(8, 6))\n",
    "for mq1 in mqs:\n",
    "    for sq1 in sqs:\n",
    "        f = smp.lambdify(v, slope_standard.subs({mq: mq1, sq: sq1}))\n",
    "        fs = [f(tmp) for tmp in vs]\n",
    "        plt.plot(vs, fs, label=r'$m_q: {0}, s_q: {1}$'.format(mq1, sq1))\n",
    "    \n",
    "plt.legend(bbox_to_anchor=(1.6, 1))\n",
    "plt.xlabel('v')\n",
    "plt.ylabel('slope')"
   ]
  },
  {
   "cell_type": "code",
   "execution_count": null,
   "metadata": {
    "collapsed": true
   },
   "outputs": [],
   "source": []
  },
  {
   "cell_type": "code",
   "execution_count": null,
   "metadata": {
    "collapsed": true
   },
   "outputs": [],
   "source": []
  },
  {
   "cell_type": "code",
   "execution_count": null,
   "metadata": {
    "collapsed": true
   },
   "outputs": [],
   "source": []
  },
  {
   "cell_type": "code",
   "execution_count": null,
   "metadata": {
    "collapsed": true
   },
   "outputs": [],
   "source": []
  },
  {
   "cell_type": "code",
   "execution_count": null,
   "metadata": {
    "collapsed": true
   },
   "outputs": [],
   "source": []
  }
 ],
 "metadata": {
  "kernelspec": {
   "display_name": "Python [Root]",
   "language": "python",
   "name": "Python [Root]"
  },
  "language_info": {
   "codemirror_mode": {
    "name": "ipython",
    "version": 2
   },
   "file_extension": ".py",
   "mimetype": "text/x-python",
   "name": "python",
   "nbconvert_exporter": "python",
   "pygments_lexer": "ipython2",
   "version": "2.7.12"
  }
 },
 "nbformat": 4,
 "nbformat_minor": 0
}
