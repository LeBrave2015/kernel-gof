{
 "cells": [
  {
   "cell_type": "markdown",
   "metadata": {},
   "source": [
    "This notebook contains some intermediate steps in computing the Bahadur efficiency, slopes using Sympy."
   ]
  },
  {
   "cell_type": "code",
   "execution_count": 2,
   "metadata": {
    "collapsed": false
   },
   "outputs": [
    {
     "name": "stdout",
     "output_type": "stream",
     "text": [
      "The autoreload extension is already loaded. To reload it, use:\n",
      "  %reload_ext autoreload\n"
     ]
    }
   ],
   "source": [
    "%load_ext autoreload\n",
    "%autoreload 2\n",
    "%matplotlib inline\n",
    "#%config InlineBackend.figure_format = 'svg'\n",
    "#%config InlineBackend.figure_format = 'pdf'\n",
    "\n",
    "import numpy as np\n",
    "\n",
    "import matplotlib\n",
    "import matplotlib.pyplot as plt\n",
    "import kgof.data as data\n",
    "import kgof.glo as glo\n",
    "import kgof.goftest as gof\n",
    "import kgof.kernel as kernel\n",
    "import kgof.plot as plot\n",
    "import kgof.util as util\n",
    "\n",
    "import scipy.stats as stats\n",
    "import sympy as smp\n",
    "# http://docs.sympy.org/dev/modules/physics/vector/api/printing.html\n",
    "smp.init_printing(use_latex='mathjax', latex_mode='inline')"
   ]
  },
  {
   "cell_type": "code",
   "execution_count": 3,
   "metadata": {
    "collapsed": true
   },
   "outputs": [],
   "source": [
    "# font options\n",
    "font = {\n",
    "    #'family' : 'normal',\n",
    "    #'weight' : 'bold',\n",
    "    'size'   : 16\n",
    "}\n",
    "\n",
    "plt.rc('font', **font)\n",
    "plt.rc('lines', linewidth=2)\n",
    "matplotlib.rcParams['pdf.fonttype'] = 42\n",
    "matplotlib.rcParams['ps.fonttype'] = 42"
   ]
  },
  {
   "cell_type": "markdown",
   "metadata": {},
   "source": [
    "## Product of 2 Gaussian distributions"
   ]
  },
  {
   "cell_type": "code",
   "execution_count": 4,
   "metadata": {
    "collapsed": true
   },
   "outputs": [],
   "source": [
    "mp, mq, sp, sq = smp.symbols(r'mu_p mu_q sigma^2_p sigma^2_q')\n",
    "s = 1/(1/sp + 1/sq)\n",
    "b = mp/sp + mq/sq\n",
    "c = mp**2/sp + mq**2/sq"
   ]
  },
  {
   "cell_type": "code",
   "execution_count": 5,
   "metadata": {
    "collapsed": false
   },
   "outputs": [
    {
     "data": {
      "text/latex": [
       "$$\\frac{\\mu_{p}^{2}}{\\sigma^{2}_{p}} + \\frac{\\mu_{q}^{2}}{\\sigma^{2}_{q}} - \\frac{\\left(\\frac{\\mu_{p}}{\\sigma^{2}_{p}} + \\frac{\\mu_{q}}{\\sigma^{2}_{q}}\\right)^{2}}{\\frac{1}{\\sigma^{2}_{q}} + \\frac{1}{\\sigma^{2}_{p}}}$$"
      ],
      "text/plain": [
       "                                   2\n",
       "                  ⎛ μ_p      μ_q  ⎞ \n",
       "    2        2    ⎜────── + ──────⎟ \n",
       " μ_p      μ_q     ⎝σ_p__2   σ_q__2⎠ \n",
       "────── + ────── - ──────────────────\n",
       "σ_p__2   σ_q__2      1        1     \n",
       "                   ────── + ──────  \n",
       "                   σ_q__2   σ_p__2  "
      ]
     },
     "execution_count": 5,
     "metadata": {},
     "output_type": "execute_result"
    }
   ],
   "source": [
    "-b**2*s + c"
   ]
  },
  {
   "cell_type": "code",
   "execution_count": 6,
   "metadata": {
    "collapsed": false
   },
   "outputs": [
    {
     "data": {
      "text/latex": [
       "$$\\frac{1}{\\sigma^{2}_{p} + \\sigma^{2}_{q}} \\left(\\mu_{p}^{2} - 2 \\mu_{p} \\mu_{q} + \\mu_{q}^{2}\\right)$$"
      ],
      "text/plain": [
       "   2                  2\n",
       "μ_p  - 2⋅μ_p⋅μ_q + μ_q \n",
       "───────────────────────\n",
       "    σ_p__2 + σ_q__2    "
      ]
     },
     "execution_count": 6,
     "metadata": {},
     "output_type": "execute_result"
    }
   ],
   "source": [
    "smp.simplify(-b**2*s + c)"
   ]
  },
  {
   "cell_type": "code",
   "execution_count": 7,
   "metadata": {
    "collapsed": false
   },
   "outputs": [
    {
     "data": {
      "text/latex": [
       "$$\\frac{\\mu_{p} \\sigma^{2}_{q} + \\mu_{q} \\sigma^{2}_{p}}{\\sigma^{2}_{p} + \\sigma^{2}_{q}}$$"
      ],
      "text/plain": [
       "μ_p⋅σ_q__2 + μ_q⋅σ_p__2\n",
       "───────────────────────\n",
       "    σ_p__2 + σ_q__2    "
      ]
     },
     "execution_count": 7,
     "metadata": {},
     "output_type": "execute_result"
    }
   ],
   "source": [
    "# mean of the product of 2 Gaussians\n",
    "smp.simplify(s*b)"
   ]
  },
  {
   "cell_type": "markdown",
   "metadata": {},
   "source": [
    "## Assume d=1, J=1, p,q=Gaussian with different parameters"
   ]
  },
  {
   "cell_type": "code",
   "execution_count": 8,
   "metadata": {
    "collapsed": true
   },
   "outputs": [],
   "source": [
    "# computation of E_q \\xi(x, v)\n",
    "v, mq, mp = smp.symbols(r'v mu_q mu_p')\n",
    "sk = smp.Symbol('s_k', positive=True)\n",
    "sp = smp.Symbol('s_p', positive=True)\n",
    "sq = smp.Symbol('s_q', positive=True)\n",
    "\n",
    "s = 1/(1/sk + 1/sq)\n",
    "mu = (v/sk+mq/sq)*s"
   ]
  },
  {
   "cell_type": "code",
   "execution_count": 9,
   "metadata": {
    "collapsed": false
   },
   "outputs": [],
   "source": [
    "exi = -smp.sqrt(s/sq)*smp.exp(-(v-mq)**2/(sk+sq))*((mu-mp)/sp + (mu-v)/sk)"
   ]
  },
  {
   "cell_type": "code",
   "execution_count": 10,
   "metadata": {
    "collapsed": false,
    "scrolled": true
   },
   "outputs": [
    {
     "data": {
      "text/latex": [
       "$$\\frac{e^{- \\frac{\\left(\\mu_{q} - v\\right)^{2}}{s_{k} + s_{q}}}}{\\sqrt{s_{k}} s_{p} \\left(s_{k} + s_{q}\\right)^{\\frac{3}{2}}} \\left(s_{k} \\left(\\mu_{p} \\left(s_{k} + s_{q}\\right) - \\mu_{q} s_{k} - s_{q} v\\right) + s_{p} \\left(- \\mu_{q} s_{k} - s_{q} v + v \\left(s_{k} + s_{q}\\right)\\right)\\right)$$"
      ],
      "text/plain": [
       "                                                                              \n",
       "                                                                              \n",
       "                                                                              \n",
       "                                                                              \n",
       "(s_k⋅(μ_p⋅(s_k + s_q) - μ_q⋅s_k - s_q⋅v) + s_p⋅(-μ_q⋅s_k - s_q⋅v + v⋅(s_k + s_\n",
       "──────────────────────────────────────────────────────────────────────────────\n",
       "                                     _____                3/2                 \n",
       "                                   ╲╱ s_k ⋅s_p⋅(s_k + s_q)                    \n",
       "\n",
       "                2 \n",
       "      -(μ_q - v)  \n",
       "      ────────────\n",
       "       s_k + s_q  \n",
       "q)))⋅ℯ            \n",
       "──────────────────\n",
       "                  \n",
       "                  "
      ]
     },
     "execution_count": 10,
     "metadata": {},
     "output_type": "execute_result"
    }
   ],
   "source": [
    "smp.simplify(exi)"
   ]
  },
  {
   "cell_type": "code",
   "execution_count": 11,
   "metadata": {
    "collapsed": false,
    "scrolled": false
   },
   "outputs": [
    {
     "data": {
      "text/latex": [
       "$$\\frac{e^{- \\frac{\\left(\\mu_{q} - v\\right)^{2}}{s_{k} + s_{q}}}}{\\sqrt{s_{k}} s_{p} \\left(s_{k} + s_{q}\\right)^{\\frac{3}{2}}} \\left(s_{k} \\left(- \\mu_{q} s_{k} + \\mu_{q} \\left(s_{k} + s_{q}\\right) - s_{q} v\\right) + s_{p} \\left(- \\mu_{q} s_{k} - s_{q} v + v \\left(s_{k} + s_{q}\\right)\\right)\\right)$$"
      ],
      "text/plain": [
       "                                                                              \n",
       "                                                                              \n",
       "                                                                              \n",
       "                                                                              \n",
       "(s_k⋅(-μ_q⋅s_k + μ_q⋅(s_k + s_q) - s_q⋅v) + s_p⋅(-μ_q⋅s_k - s_q⋅v + v⋅(s_k + s\n",
       "──────────────────────────────────────────────────────────────────────────────\n",
       "                                      _____                3/2                \n",
       "                                    ╲╱ s_k ⋅s_p⋅(s_k + s_q)                   \n",
       "\n",
       "                 2 \n",
       "       -(μ_q - v)  \n",
       "       ────────────\n",
       "        s_k + s_q  \n",
       "_q)))⋅ℯ            \n",
       "───────────────────\n",
       "                   \n",
       "                   "
      ]
     },
     "execution_count": 11,
     "metadata": {},
     "output_type": "execute_result"
    }
   ],
   "source": [
    "smp.simplify(exi.subs({mp: mq}))"
   ]
  },
  {
   "cell_type": "code",
   "execution_count": 12,
   "metadata": {
    "collapsed": false,
    "scrolled": true
   },
   "outputs": [
    {
     "data": {
      "text/latex": [
       "$$\\frac{e^{- \\frac{\\left(\\mu_{q} - v\\right)^{2}}{s_{k} + s_{p}}}}{\\sqrt{s_{k}} s_{p} \\left(s_{k} + s_{p}\\right)^{\\frac{3}{2}}} \\left(s_{k} \\left(\\mu_{p} \\left(s_{k} + s_{p}\\right) - \\mu_{q} s_{k} - s_{p} v\\right) + s_{p} \\left(- \\mu_{q} s_{k} - s_{p} v + v \\left(s_{k} + s_{p}\\right)\\right)\\right)$$"
      ],
      "text/plain": [
       "                                                                              \n",
       "                                                                              \n",
       "                                                                              \n",
       "                                                                              \n",
       "(s_k⋅(μ_p⋅(s_k + s_p) - μ_q⋅s_k - s_p⋅v) + s_p⋅(-μ_q⋅s_k - s_p⋅v + v⋅(s_k + s_\n",
       "──────────────────────────────────────────────────────────────────────────────\n",
       "                                     _____                3/2                 \n",
       "                                   ╲╱ s_k ⋅s_p⋅(s_k + s_p)                    \n",
       "\n",
       "                2 \n",
       "      -(μ_q - v)  \n",
       "      ────────────\n",
       "       s_k + s_p  \n",
       "p)))⋅ℯ            \n",
       "──────────────────\n",
       "                  \n",
       "                  "
      ]
     },
     "execution_count": 12,
     "metadata": {},
     "output_type": "execute_result"
    }
   ],
   "source": [
    "smp.simplify(exi.subs({sq: sp}))"
   ]
  },
  {
   "cell_type": "code",
   "execution_count": 13,
   "metadata": {
    "collapsed": false
   },
   "outputs": [
    {
     "data": {
      "text/latex": [
       "$$0$$"
      ],
      "text/plain": [
       "0"
      ]
     },
     "execution_count": 13,
     "metadata": {},
     "output_type": "execute_result"
    }
   ],
   "source": [
    "smp.simplify(exi.subs({sq: sp, mp: mq}))"
   ]
  },
  {
   "cell_type": "markdown",
   "metadata": {},
   "source": [
    "### Compute $\\boldsymbol{\\Sigma}=\\mathbb{V}_{\\mathbf{x} \\sim p}[\\boldsymbol{\\tau}(\\mathbf{x})]$ when $d=1, J=1$ under $H_0$. Note $p=q$."
   ]
  },
  {
   "cell_type": "code",
   "execution_count": 17,
   "metadata": {
    "collapsed": false
   },
   "outputs": [],
   "source": [
    "x = smp.symbols('x')\n",
    "alpha = (x-mp)/sp + (x-v)/sk\n",
    "# mean of the Gaussian\n",
    "m = (2*v/sk + mq/sq)/(2/sk+1/sq)\n",
    "s = 1/(2/sk+1/sq)"
   ]
  },
  {
   "cell_type": "code",
   "execution_count": 18,
   "metadata": {
    "collapsed": false
   },
   "outputs": [
    {
     "data": {
      "text/latex": [
       "$$\\frac{\\frac{\\mu_{q}}{s_{q}} + \\frac{2 v}{s_{k}}}{\\frac{1}{s_{q}} + \\frac{2}{s_{k}}}$$"
      ],
      "text/plain": [
       "μ_q   2⋅v\n",
       "─── + ───\n",
       "s_q   s_k\n",
       "─────────\n",
       " 1     2 \n",
       "─── + ───\n",
       "s_q   s_k"
      ]
     },
     "execution_count": 18,
     "metadata": {},
     "output_type": "execute_result"
    }
   ],
   "source": [
    "m"
   ]
  },
  {
   "cell_type": "code",
   "execution_count": 19,
   "metadata": {
    "collapsed": false,
    "scrolled": true
   },
   "outputs": [
    {
     "data": {
      "text/latex": [
       "$$\\frac{\\mu_{p}^{2}}{s_{p}^{2}} + \\frac{2 \\mu_{p} v}{s_{k} s_{p}} + x^{2} \\left(\\frac{1}{s_{p}^{2}} + \\frac{2}{s_{k} s_{p}} + \\frac{1}{s_{k}^{2}}\\right) + x \\left(- \\frac{2 \\mu_{p}}{s_{p}^{2}} - \\frac{2 \\mu_{p}}{s_{k} s_{p}} - \\frac{2 v}{s_{k} s_{p}} - \\frac{2 v}{s_{k}^{2}}\\right) + \\frac{v^{2}}{s_{k}^{2}}$$"
      ],
      "text/plain": [
       "   2                                                                          \n",
       "μ_p    2⋅μ_p⋅v    2 ⎛ 1        2       1  ⎞     ⎛  2⋅μ_p    2⋅μ_p      2⋅v    \n",
       "──── + ─────── + x ⋅⎜──── + ─────── + ────⎟ + x⋅⎜- ───── - ─────── - ─────── -\n",
       "   2   s_k⋅s_p      ⎜   2   s_k⋅s_p      2⎟     ⎜      2   s_k⋅s_p   s_k⋅s_p  \n",
       "s_p                 ⎝s_p              s_k ⎠     ⎝   s_p                       \n",
       "\n",
       "           2 \n",
       " 2⋅v ⎞    v  \n",
       " ────⎟ + ────\n",
       "    2⎟      2\n",
       " s_k ⎠   s_k "
      ]
     },
     "execution_count": 19,
     "metadata": {},
     "output_type": "execute_result"
    }
   ],
   "source": [
    "a2 = smp.collect(smp.expand(alpha**2, x), x)\n",
    "a2"
   ]
  },
  {
   "cell_type": "code",
   "execution_count": 20,
   "metadata": {
    "collapsed": false,
    "scrolled": true
   },
   "outputs": [
    {
     "data": {
      "text/latex": [
       "$$\\frac{\\mu_{p}^{2}}{s_{p}^{2}} + \\frac{2 \\mu_{p} v}{s_{k} s_{p}} + \\left(\\frac{1}{\\frac{1}{s_{q}} + \\frac{2}{s_{k}}} + \\frac{\\left(\\frac{\\mu_{q}}{s_{q}} + \\frac{2 v}{s_{k}}\\right)^{2}}{\\left(\\frac{1}{s_{q}} + \\frac{2}{s_{k}}\\right)^{2}}\\right) \\left(\\frac{1}{s_{p}^{2}} + \\frac{2}{s_{k} s_{p}} + \\frac{1}{s_{k}^{2}}\\right) + \\frac{1}{\\frac{1}{s_{q}} + \\frac{2}{s_{k}}} \\left(\\frac{\\mu_{q}}{s_{q}} + \\frac{2 v}{s_{k}}\\right) \\left(- \\frac{2 \\mu_{p}}{s_{p}^{2}} - \\frac{2 \\mu_{p}}{s_{k} s_{p}} - \\frac{2 v}{s_{k} s_{p}} - \\frac{2 v}{s_{k}^{2}}\\right) + \\frac{v^{2}}{s_{k}^{2}}$$"
      ],
      "text/plain": [
       "                 ⎛                       2⎞                           ⎛μ_q   2\n",
       "                 ⎜            ⎛μ_q   2⋅v⎞ ⎟                           ⎜─── + ─\n",
       "   2             ⎜            ⎜─── + ───⎟ ⎟                           ⎝s_q   s\n",
       "μ_p    2⋅μ_p⋅v   ⎜    1       ⎝s_q   s_k⎠ ⎟ ⎛ 1        2       1  ⎞           \n",
       "──── + ─────── + ⎜───────── + ────────────⎟⋅⎜──── + ─────── + ────⎟ + ────────\n",
       "   2   s_k⋅s_p   ⎜ 1     2               2⎟ ⎜   2   s_k⋅s_p      2⎟           \n",
       "s_p              ⎜─── + ───   ⎛ 1     2 ⎞ ⎟ ⎝s_p              s_k ⎠           \n",
       "                 ⎜s_q   s_k   ⎜─── + ───⎟ ⎟                                   \n",
       "                 ⎝            ⎝s_q   s_k⎠ ⎠                                   \n",
       "\n",
       "⋅v⎞ ⎛  2⋅μ_p    2⋅μ_p      2⋅v     2⋅v ⎞       \n",
       "──⎟⋅⎜- ───── - ─────── - ─────── - ────⎟       \n",
       "_k⎠ ⎜      2   s_k⋅s_p   s_k⋅s_p      2⎟     2 \n",
       "    ⎝   s_p                        s_k ⎠    v  \n",
       "──────────────────────────────────────── + ────\n",
       "            1     2                           2\n",
       "           ─── + ───                       s_k \n",
       "           s_q   s_k                           \n",
       "                                               "
      ]
     },
     "execution_count": 20,
     "metadata": {},
     "output_type": "execute_result"
    }
   ],
   "source": [
    "ealpha2 = mp**2/sp**2 + 2*mp*v/(sk*sp) + v**2/sk**2 + (s+m**2)*(1/sp**2 + 2/(sk*sp) + 1/sk**2) + \\\n",
    "    m*(-2*mp/sp**2 -2*mp/(sk*sp) -2*v/(sk*sp) -2*v/sk**2)\n",
    "ealpha2"
   ]
  },
  {
   "cell_type": "code",
   "execution_count": 21,
   "metadata": {
    "collapsed": false,
    "scrolled": true
   },
   "outputs": [
    {
     "data": {
      "text/latex": [
       "$$\\frac{1}{s_{k}^{2} s_{p}^{2} \\left(s_{k} + 2 s_{q}\\right)^{2}} \\left(\\mu_{p}^{2} s_{k}^{2} \\left(s_{k} + 2 s_{q}\\right)^{2} + 2 \\mu_{p} s_{k} s_{p} v \\left(s_{k} + 2 s_{q}\\right)^{2} + s_{p}^{2} v^{2} \\left(s_{k} + 2 s_{q}\\right)^{2} - 2 \\left(s_{k} + 2 s_{q}\\right) \\left(\\mu_{q} s_{k} + 2 s_{q} v\\right) \\left(\\mu_{p} s_{k}^{2} + \\mu_{p} s_{k} s_{p} + s_{k} s_{p} v + s_{p}^{2} v\\right) + \\left(s_{k} s_{q} \\left(s_{k} + 2 s_{q}\\right) + \\left(\\mu_{q} s_{k} + 2 s_{q} v\\right)^{2}\\right) \\left(s_{k}^{2} + 2 s_{k} s_{p} + s_{p}^{2}\\right)\\right)$$"
      ],
      "text/plain": [
       "   2    2              2                                2      2  2           \n",
       "μ_p ⋅s_k ⋅(s_k + 2⋅s_q)  + 2⋅μ_p⋅s_k⋅s_p⋅v⋅(s_k + 2⋅s_q)  + s_p ⋅v ⋅(s_k + 2⋅s\n",
       "──────────────────────────────────────────────────────────────────────────────\n",
       "                                                                              \n",
       "                                                                              \n",
       "\n",
       "   2                                       ⎛       2                          \n",
       "_q)  - 2⋅(s_k + 2⋅s_q)⋅(μ_q⋅s_k + 2⋅s_q⋅v)⋅⎝μ_p⋅s_k  + μ_p⋅s_k⋅s_p + s_k⋅s_p⋅v\n",
       "──────────────────────────────────────────────────────────────────────────────\n",
       "                                  2    2              2                       \n",
       "                               s_k ⋅s_p ⋅(s_k + 2⋅s_q)                        \n",
       "\n",
       "      2  ⎞   ⎛                                           2⎞ ⎛   2             \n",
       " + s_p ⋅v⎠ + ⎝s_k⋅s_q⋅(s_k + 2⋅s_q) + (μ_q⋅s_k + 2⋅s_q⋅v) ⎠⋅⎝s_k  + 2⋅s_k⋅s_p \n",
       "──────────────────────────────────────────────────────────────────────────────\n",
       "                                                                              \n",
       "                                                                              \n",
       "\n",
       "     2⎞\n",
       "+ s_p ⎠\n",
       "───────\n",
       "       \n",
       "       "
      ]
     },
     "execution_count": 21,
     "metadata": {},
     "output_type": "execute_result"
    }
   ],
   "source": [
    "smp.simplify(smp.together(ealpha2))"
   ]
  },
  {
   "cell_type": "code",
   "execution_count": 22,
   "metadata": {
    "collapsed": false
   },
   "outputs": [
    {
     "data": {
      "text/latex": [
       "$$\\frac{e^{- \\frac{\\left(- \\mu_{q} + v\\right)^{2}}{\\frac{s_{k}}{2} + s_{q}}}}{\\sqrt{s_{q}} \\sqrt{\\frac{1}{s_{q}} + \\frac{2}{s_{k}}}} \\left(\\frac{\\mu_{p}^{2}}{s_{p}^{2}} + \\frac{2 \\mu_{p} v}{s_{k} s_{p}} + \\left(\\frac{1}{\\frac{1}{s_{q}} + \\frac{2}{s_{k}}} + \\frac{\\left(\\frac{\\mu_{q}}{s_{q}} + \\frac{2 v}{s_{k}}\\right)^{2}}{\\left(\\frac{1}{s_{q}} + \\frac{2}{s_{k}}\\right)^{2}}\\right) \\left(\\frac{1}{s_{p}^{2}} + \\frac{2}{s_{k} s_{p}} + \\frac{1}{s_{k}^{2}}\\right) + \\frac{1}{\\frac{1}{s_{q}} + \\frac{2}{s_{k}}} \\left(\\frac{\\mu_{q}}{s_{q}} + \\frac{2 v}{s_{k}}\\right) \\left(- \\frac{2 \\mu_{p}}{s_{p}^{2}} - \\frac{2 \\mu_{p}}{s_{k} s_{p}} - \\frac{2 v}{s_{k} s_{p}} - \\frac{2 v}{s_{k}^{2}}\\right) + \\frac{v^{2}}{s_{k}^{2}}\\right)$$"
      ],
      "text/plain": [
       "                                                                              \n",
       "                                                                              \n",
       "⎛                 ⎛                       2⎞                           ⎛μ_q   \n",
       "⎜                 ⎜            ⎛μ_q   2⋅v⎞ ⎟                           ⎜─── + \n",
       "⎜   2             ⎜            ⎜─── + ───⎟ ⎟                           ⎝s_q   \n",
       "⎜μ_p    2⋅μ_p⋅v   ⎜    1       ⎝s_q   s_k⎠ ⎟ ⎛ 1        2       1  ⎞          \n",
       "⎜──── + ─────── + ⎜───────── + ────────────⎟⋅⎜──── + ─────── + ────⎟ + ───────\n",
       "⎜   2   s_k⋅s_p   ⎜ 1     2               2⎟ ⎜   2   s_k⋅s_p      2⎟          \n",
       "⎜s_p              ⎜─── + ───   ⎛ 1     2 ⎞ ⎟ ⎝s_p              s_k ⎠          \n",
       "⎜                 ⎜s_q   s_k   ⎜─── + ───⎟ ⎟                                  \n",
       "⎝                 ⎝            ⎝s_q   s_k⎠ ⎠                                  \n",
       "──────────────────────────────────────────────────────────────────────────────\n",
       "                                                                       _______\n",
       "                                                             _____    ╱  1    \n",
       "                                                           ╲╱ s_q ⋅  ╱  ─── + \n",
       "                                                                   ╲╱   s_q   \n",
       "\n",
       "                                                              2 \n",
       "                                                   -(-μ_q + v)  \n",
       "2⋅v⎞ ⎛  2⋅μ_p    2⋅μ_p      2⋅v     2⋅v ⎞       ⎞  ─────────────\n",
       "───⎟⋅⎜- ───── - ─────── - ─────── - ────⎟       ⎟    s_k        \n",
       "s_k⎠ ⎜      2   s_k⋅s_p   s_k⋅s_p      2⎟     2 ⎟    ─── + s_q  \n",
       "     ⎝   s_p                        s_k ⎠    v  ⎟     2         \n",
       "───────────────────────────────────────── + ────⎟⋅ℯ             \n",
       "             1     2                           2⎟               \n",
       "            ─── + ───                       s_k ⎟               \n",
       "            s_q   s_k                           ⎟               \n",
       "                                                ⎠               \n",
       "────────────────────────────────────────────────────────────────\n",
       "____                                                            \n",
       " 2                                                              \n",
       "───                                                             \n",
       "s_k                                                             "
      ]
     },
     "execution_count": 22,
     "metadata": {},
     "output_type": "execute_result"
    }
   ],
   "source": [
    "exi2 = smp.sqrt(s/sq)*smp.exp(-(v-mq)**2/(sk/2+sq))*ealpha2\n",
    "exi2"
   ]
  },
  {
   "cell_type": "code",
   "execution_count": 23,
   "metadata": {
    "collapsed": false
   },
   "outputs": [],
   "source": [
    "#var_xi = exi2 - exi**2 # Don't need -exi**2 under H0\n",
    "var_xi = exi2\n",
    "pp, pq, pk = smp.symbols('tau_p tau_q tau_k', positive=True)\n",
    "var_xi_prec = var_xi.subs({sq: 1/pq, sp: 1/pp, sk: 1/pk})"
   ]
  },
  {
   "cell_type": "code",
   "execution_count": 24,
   "metadata": {
    "collapsed": false,
    "scrolled": false
   },
   "outputs": [
    {
     "data": {
      "text/latex": [
       "$$\\frac{\\sqrt{\\tau_{p}}}{\\left(2 \\tau_{k} + \\tau_{p}\\right)^{\\frac{5}{2}}} \\left(\\left(2 \\tau_{k} + \\tau_{p}\\right)^{2} \\left(\\mu_{p}^{2} \\tau_{p}^{2} + 2 \\mu_{p} \\tau_{k} \\tau_{p} v + \\tau_{k}^{2} v^{2}\\right) - 2 \\left(2 \\tau_{k} + \\tau_{p}\\right) \\left(\\mu_{p} \\tau_{p} + 2 \\tau_{k} v\\right) \\left(\\mu_{p} \\tau_{k} \\tau_{p} + \\mu_{p} \\tau_{p}^{2} + \\tau_{k}^{2} v + \\tau_{k} \\tau_{p} v\\right) + \\left(2 \\tau_{k} + \\tau_{p} + \\left(\\mu_{p} \\tau_{p} + 2 \\tau_{k} v\\right)^{2}\\right) \\left(\\tau_{k}^{2} + 2 \\tau_{k} \\tau_{p} + \\tau_{p}^{2}\\right)\\right) e^{- \\frac{2 \\tau_{k} \\tau_{p} \\left(\\mu_{p} - v\\right)^{2}}{2 \\tau_{k} + \\tau_{p}}}$$"
      ],
      "text/plain": [
       "                                                                              \n",
       "                                                                              \n",
       "                                                                              \n",
       "  _____ ⎛             2 ⎛   2    2                        2  2⎞               \n",
       "╲╱ τ_p ⋅⎝(2⋅τ_k + τ_p) ⋅⎝μ_p ⋅τ_p  + 2⋅μ_p⋅τ_k⋅τ_p⋅v + τ_k ⋅v ⎠ - 2⋅(2⋅τ_k + τ\n",
       "──────────────────────────────────────────────────────────────────────────────\n",
       "                                                                              \n",
       "                                                                              \n",
       "\n",
       "                                                                              \n",
       "                                                                              \n",
       "                                                                              \n",
       "                        ⎛                     2      2              ⎞   ⎛     \n",
       "_p)⋅(μ_p⋅τ_p + 2⋅τ_k⋅v)⋅⎝μ_p⋅τ_k⋅τ_p + μ_p⋅τ_p  + τ_k ⋅v + τ_k⋅τ_p⋅v⎠ + ⎝2⋅τ_k\n",
       "──────────────────────────────────────────────────────────────────────────────\n",
       "                                              5/2                             \n",
       "                                 (2⋅τ_k + τ_p)                                \n",
       "\n",
       "                                                                              \n",
       "                                                           -2⋅τ_k⋅τ_p⋅(μ_p - v\n",
       "                                                           ───────────────────\n",
       "                            2⎞ ⎛   2                  2⎞⎞       2⋅τ_k + τ_p   \n",
       " + τ_p + (μ_p⋅τ_p + 2⋅τ_k⋅v) ⎠⋅⎝τ_k  + 2⋅τ_k⋅τ_p + τ_p ⎠⎠⋅ℯ                   \n",
       "──────────────────────────────────────────────────────────────────────────────\n",
       "                                                                              \n",
       "                                                                              \n",
       "\n",
       " 2 \n",
       ")  \n",
       "───\n",
       "   \n",
       "   \n",
       "───\n",
       "   \n",
       "   "
      ]
     },
     "execution_count": 24,
     "metadata": {},
     "output_type": "execute_result"
    }
   ],
   "source": [
    "# Make p=q i.e., make the means the same, and the variances (precisions) the same\n",
    "var_xi_prec_h0 = var_xi_prec.subs({pq: pp, mq: mp})\n",
    "smp.simplify(var_xi_prec_h0)"
   ]
  },
  {
   "cell_type": "markdown",
   "metadata": {},
   "source": [
    "## Bahadur slope"
   ]
  },
  {
   "cell_type": "code",
   "execution_count": 25,
   "metadata": {
    "collapsed": false,
    "scrolled": true
   },
   "outputs": [
    {
     "data": {
      "text/latex": [
       "$$\\frac{\\tau_{q}}{\\tau_{k} + \\tau_{q}} \\left(\\tau_{k} \\left(- v + \\frac{\\mu_{q} \\tau_{q} + \\tau_{k} v}{\\tau_{k} + \\tau_{q}}\\right) + \\tau_{p} \\left(- \\mu_{p} + \\frac{\\mu_{q} \\tau_{q} + \\tau_{k} v}{\\tau_{k} + \\tau_{q}}\\right)\\right)^{2} e^{- \\frac{2 \\left(- \\mu_{q} + v\\right)^{2}}{\\frac{1}{\\tau_{q}} + \\frac{1}{\\tau_{k}}}}$$"
      ],
      "text/plain": [
       "                                                                              \n",
       "                                                                  -2⋅(-μ_q + v\n",
       "                                                                  ────────────\n",
       "                                                                      1     1 \n",
       "                                                               2     ─── + ───\n",
       "    ⎛    ⎛     μ_q⋅τ_q + τ_k⋅v⎞       ⎛       μ_q⋅τ_q + τ_k⋅v⎞⎞      τ_q   τ_k\n",
       "τ_q⋅⎜τ_k⋅⎜-v + ───────────────⎟ + τ_p⋅⎜-μ_p + ───────────────⎟⎟ ⋅ℯ            \n",
       "    ⎝    ⎝        τ_k + τ_q   ⎠       ⎝          τ_k + τ_q   ⎠⎠               \n",
       "──────────────────────────────────────────────────────────────────────────────\n",
       "                                    τ_k + τ_q                                 \n",
       "\n",
       " 2 \n",
       ")  \n",
       "───\n",
       "   \n",
       "   \n",
       "   \n",
       "   \n",
       "   \n",
       "───\n",
       "   "
      ]
     },
     "execution_count": 25,
     "metadata": {},
     "output_type": "execute_result"
    }
   ],
   "source": [
    "fssd2 = (exi**2).subs({sq: 1/pq, sp: 1/pp, sk: 1/pk})\n",
    "fssd2"
   ]
  },
  {
   "cell_type": "code",
   "execution_count": 26,
   "metadata": {
    "collapsed": false,
    "scrolled": true
   },
   "outputs": [
    {
     "data": {
      "text/latex": [
       "$$\\frac{\\sqrt{\\tau_{p}}}{\\sqrt{2 \\tau_{k} + \\tau_{p}}} \\left(\\mu_{p}^{2} \\tau_{p}^{2} + 2 \\mu_{p} \\tau_{k} \\tau_{p} v + \\tau_{k}^{2} v^{2} + \\left(\\frac{1}{2 \\tau_{k} + \\tau_{p}} + \\frac{\\left(\\mu_{p} \\tau_{p} + 2 \\tau_{k} v\\right)^{2}}{\\left(2 \\tau_{k} + \\tau_{p}\\right)^{2}}\\right) \\left(\\tau_{k}^{2} + 2 \\tau_{k} \\tau_{p} + \\tau_{p}^{2}\\right) + \\frac{1}{2 \\tau_{k} + \\tau_{p}} \\left(\\mu_{p} \\tau_{p} + 2 \\tau_{k} v\\right) \\left(- 2 \\mu_{p} \\tau_{k} \\tau_{p} - 2 \\mu_{p} \\tau_{p}^{2} - 2 \\tau_{k}^{2} v - 2 \\tau_{k} \\tau_{p} v\\right)\\right) e^{- \\frac{\\left(- \\mu_{p} + v\\right)^{2}}{\\frac{1}{\\tau_{p}} + \\frac{1}{2 \\tau_{k}}}}$$"
      ],
      "text/plain": [
       "                                                                              \n",
       "                                                                              \n",
       "                                                                              \n",
       "                                                                              \n",
       "        ⎛                                        ⎛                            \n",
       "  _____ ⎜   2    2                        2  2   ⎜     1        (μ_p⋅τ_p + 2⋅τ\n",
       "╲╱ τ_p ⋅⎜μ_p ⋅τ_p  + 2⋅μ_p⋅τ_k⋅τ_p⋅v + τ_k ⋅v  + ⎜─────────── + ──────────────\n",
       "        ⎜                                        ⎜2⋅τ_k + τ_p                 \n",
       "        ⎝                                        ⎝                 (2⋅τ_k + τ_\n",
       "──────────────────────────────────────────────────────────────────────────────\n",
       "                                                                              \n",
       "                                                                              \n",
       "\n",
       "                                                                              \n",
       "                                                                              \n",
       "                                                                              \n",
       "                                                                              \n",
       "     2⎞                                                 ⎛                     \n",
       "_k⋅v) ⎟ ⎛   2                  2⎞   (μ_p⋅τ_p + 2⋅τ_k⋅v)⋅⎝-2⋅μ_p⋅τ_k⋅τ_p - 2⋅μ_\n",
       "──────⎟⋅⎝τ_k  + 2⋅τ_k⋅τ_p + τ_p ⎠ + ──────────────────────────────────────────\n",
       "  2   ⎟                                                            2⋅τ_k + τ_p\n",
       "p)    ⎠                                                                       \n",
       "──────────────────────────────────────────────────────────────────────────────\n",
       "                  _____________                                               \n",
       "                ╲╱ 2⋅τ_k + τ_p                                                \n",
       "\n",
       "                                              2 \n",
       "                                   -(-μ_p + v)  \n",
       "                                   ─────────────\n",
       "                                     1      1   \n",
       "     2        2                ⎞⎞   ─── + ───── \n",
       "p⋅τ_p  - 2⋅τ_k ⋅v - 2⋅τ_k⋅τ_p⋅v⎠⎟   τ_p   2⋅τ_k \n",
       "────────────────────────────────⎟⋅ℯ             \n",
       "                                ⎟               \n",
       "                                ⎠               \n",
       "────────────────────────────────────────────────\n",
       "                                                \n",
       "                                                "
      ]
     },
     "execution_count": 26,
     "metadata": {},
     "output_type": "execute_result"
    }
   ],
   "source": [
    "var_xi_prec_h0"
   ]
  },
  {
   "cell_type": "code",
   "execution_count": 27,
   "metadata": {
    "collapsed": false
   },
   "outputs": [
    {
     "data": {
      "text/latex": [
       "$$\\frac{\\tau_{q} \\sqrt{2 \\tau_{k} + \\tau_{p}} \\left(\\tau_{k} \\left(- \\mu_{q} \\tau_{q} - \\tau_{k} v + v \\left(\\tau_{k} + \\tau_{q}\\right)\\right) + \\tau_{p} \\left(\\mu_{p} \\left(\\tau_{k} + \\tau_{q}\\right) - \\mu_{q} \\tau_{q} - \\tau_{k} v\\right)\\right)^{2} e^{\\frac{\\left(- \\mu_{p} + v\\right)^{2}}{\\frac{1}{\\tau_{p}} + \\frac{1}{2 \\tau_{k}}}} e^{- \\frac{2 \\tau_{k} \\tau_{q} \\left(\\mu_{q} - v\\right)^{2}}{\\tau_{k} + \\tau_{q}}}}{\\sqrt{\\tau_{p}} \\left(\\tau_{k} + \\tau_{q}\\right)^{3} \\left(\\mu_{p}^{2} \\tau_{p}^{2} + 2 \\mu_{p} \\tau_{k} \\tau_{p} v + \\tau_{k}^{2} v^{2} + \\left(\\frac{1}{2 \\tau_{k} + \\tau_{p}} + \\frac{\\left(\\mu_{p} \\tau_{p} + 2 \\tau_{k} v\\right)^{2}}{\\left(2 \\tau_{k} + \\tau_{p}\\right)^{2}}\\right) \\left(\\tau_{k}^{2} + 2 \\tau_{k} \\tau_{p} + \\tau_{p}^{2}\\right) + \\frac{1}{2 \\tau_{k} + \\tau_{p}} \\left(\\mu_{p} \\tau_{p} + 2 \\tau_{k} v\\right) \\left(- 2 \\mu_{p} \\tau_{k} \\tau_{p} - 2 \\mu_{p} \\tau_{p}^{2} - 2 \\tau_{k}^{2} v - 2 \\tau_{k} \\tau_{p} v\\right)\\right)}$$"
      ],
      "text/plain": [
       "                                                                              \n",
       "                                                                              \n",
       "                                                                              \n",
       "                                                                              \n",
       "                                                                              \n",
       "                                     _____________                            \n",
       "                               τ_q⋅╲╱ 2⋅τ_k + τ_p ⋅(τ_k⋅(-μ_q⋅τ_q - τ_k⋅v + v⋅\n",
       "──────────────────────────────────────────────────────────────────────────────\n",
       "                     ⎛                                        ⎛               \n",
       "  _____            3 ⎜   2    2                        2  2   ⎜     1        (\n",
       "╲╱ τ_p ⋅(τ_k + τ_q) ⋅⎜μ_p ⋅τ_p  + 2⋅μ_p⋅τ_k⋅τ_p⋅v + τ_k ⋅v  + ⎜─────────── + ─\n",
       "                     ⎜                                        ⎜2⋅τ_k + τ_p    \n",
       "                     ⎝                                        ⎝               \n",
       "\n",
       "                                                                    2         \n",
       "                                                          (-μ_p + v)          \n",
       "                                                          ───────────         \n",
       "                                                           1      1    -2⋅τ_k⋅\n",
       "                                                          ─── + ─────  ───────\n",
       "                                                       2  τ_p   2⋅τ_k        τ\n",
       "(τ_k + τ_q)) + τ_p⋅(μ_p⋅(τ_k + τ_q) - μ_q⋅τ_q - τ_k⋅v)) ⋅ℯ           ⋅ℯ       \n",
       "──────────────────────────────────────────────────────────────────────────────\n",
       "                  2⎞                                                 ⎛        \n",
       "μ_p⋅τ_p + 2⋅τ_k⋅v) ⎟ ⎛   2                  2⎞   (μ_p⋅τ_p + 2⋅τ_k⋅v)⋅⎝-2⋅μ_p⋅τ\n",
       "───────────────────⎟⋅⎝τ_k  + 2⋅τ_k⋅τ_p + τ_p ⎠ + ─────────────────────────────\n",
       "               2   ⎟                                                          \n",
       "  (2⋅τ_k + τ_p)    ⎠                                                          \n",
       "\n",
       "                                              \n",
       "                                              \n",
       "             2                                \n",
       "τ_q⋅(μ_q - v)                                 \n",
       "───────────────                               \n",
       "_k + τ_q                                      \n",
       "                                              \n",
       "──────────────────────────────────────────────\n",
       "                  2        2                ⎞⎞\n",
       "_k⋅τ_p - 2⋅μ_p⋅τ_p  - 2⋅τ_k ⋅v - 2⋅τ_k⋅τ_p⋅v⎠⎟\n",
       "─────────────────────────────────────────────⎟\n",
       "  2⋅τ_k + τ_p                                ⎟\n",
       "                                             ⎠"
      ]
     },
     "execution_count": 27,
     "metadata": {},
     "output_type": "execute_result"
    }
   ],
   "source": [
    "slope = smp.simplify(fssd2)/var_xi_prec_h0\n",
    "slope"
   ]
  },
  {
   "cell_type": "code",
   "execution_count": 28,
   "metadata": {
    "collapsed": false,
    "scrolled": true
   },
   "outputs": [
    {
     "data": {
      "text/latex": [
       "$$\\frac{\\tau_{q} \\left(2 \\tau_{k} + \\tau_{p}\\right)^{\\frac{5}{2}} \\left(\\tau_{k} \\left(\\mu_{q} \\tau_{q} + \\tau_{k} v - v \\left(\\tau_{k} + \\tau_{q}\\right)\\right) + \\tau_{p} \\left(- \\mu_{p} \\left(\\tau_{k} + \\tau_{q}\\right) + \\mu_{q} \\tau_{q} + \\tau_{k} v\\right)\\right)^{2} e^{\\frac{2 \\tau_{k}}{\\left(\\tau_{k} + \\tau_{q}\\right) \\left(2 \\tau_{k} + \\tau_{p}\\right)} \\left(\\tau_{p} \\left(\\mu_{p} - v\\right)^{2} \\left(\\tau_{k} + \\tau_{q}\\right) - \\tau_{q} \\left(\\mu_{q} - v\\right)^{2} \\left(2 \\tau_{k} + \\tau_{p}\\right)\\right)}}{\\sqrt{\\tau_{p}} \\left(\\tau_{k} + \\tau_{q}\\right)^{3} \\left(\\left(2 \\tau_{k} + \\tau_{p}\\right)^{2} \\left(\\mu_{p}^{2} \\tau_{p}^{2} + 2 \\mu_{p} \\tau_{k} \\tau_{p} v + \\tau_{k}^{2} v^{2}\\right) - 2 \\left(2 \\tau_{k} + \\tau_{p}\\right) \\left(\\mu_{p} \\tau_{p} + 2 \\tau_{k} v\\right) \\left(\\mu_{p} \\tau_{k} \\tau_{p} + \\mu_{p} \\tau_{p}^{2} + \\tau_{k}^{2} v + \\tau_{k} \\tau_{p} v\\right) + \\left(2 \\tau_{k} + \\tau_{p} + \\left(\\mu_{p} \\tau_{p} + 2 \\tau_{k} v\\right)^{2}\\right) \\left(\\tau_{k}^{2} + 2 \\tau_{k} \\tau_{p} + \\tau_{p}^{2}\\right)\\right)}$$"
      ],
      "text/plain": [
       "                                                                              \n",
       "                                                                              \n",
       "                                                                              \n",
       "                                            5/2                               \n",
       "                           τ_q⋅(2⋅τ_k + τ_p)   ⋅(τ_k⋅(μ_q⋅τ_q + τ_k⋅v - v⋅(τ_k\n",
       "──────────────────────────────────────────────────────────────────────────────\n",
       "  _____            3 ⎛             2 ⎛   2    2                        2  2⎞  \n",
       "╲╱ τ_p ⋅(τ_k + τ_q) ⋅⎝(2⋅τ_k + τ_p) ⋅⎝μ_p ⋅τ_p  + 2⋅μ_p⋅τ_k⋅τ_p⋅v + τ_k ⋅v ⎠ -\n",
       "\n",
       "                                                             ⎛             2  \n",
       "                                                       2⋅τ_k⋅⎝τ_p⋅(μ_p - v) ⋅(\n",
       "                                                       ───────────────────────\n",
       "                                                    2                      (τ_\n",
       " + τ_q)) + τ_p⋅(-μ_p⋅(τ_k + τ_q) + μ_q⋅τ_q + τ_k⋅v)) ⋅ℯ                       \n",
       "──────────────────────────────────────────────────────────────────────────────\n",
       "                                     ⎛                     2      2           \n",
       " 2⋅(2⋅τ_k + τ_p)⋅(μ_p⋅τ_p + 2⋅τ_k⋅v)⋅⎝μ_p⋅τ_k⋅τ_p + μ_p⋅τ_p  + τ_k ⋅v + τ_k⋅τ_\n",
       "\n",
       "                          2              ⎞                            \n",
       "τ_k + τ_q) - τ_q⋅(μ_q - v) ⋅(2⋅τ_k + τ_p)⎠                            \n",
       "──────────────────────────────────────────                            \n",
       "k + τ_q)⋅(2⋅τ_k + τ_p)                                                \n",
       "                                                                      \n",
       "──────────────────────────────────────────────────────────────────────\n",
       "   ⎞   ⎛                                 2⎞ ⎛   2                  2⎞⎞\n",
       "p⋅v⎠ + ⎝2⋅τ_k + τ_p + (μ_p⋅τ_p + 2⋅τ_k⋅v) ⎠⋅⎝τ_k  + 2⋅τ_k⋅τ_p + τ_p ⎠⎠"
      ]
     },
     "execution_count": 28,
     "metadata": {},
     "output_type": "execute_result"
    }
   ],
   "source": [
    "smp.simplify(slope)"
   ]
  },
  {
   "cell_type": "code",
   "execution_count": 29,
   "metadata": {
    "collapsed": false,
    "scrolled": false
   },
   "outputs": [
    {
     "data": {
      "text/latex": [
       "$$\\frac{9 \\sqrt{3} e^{\\frac{2 v^{2}}{3} - \\frac{2 \\left(\\mu_{q} - v\\right)^{2}}{s_{q} + 1}}}{\\left(s_{q} + 1\\right)^{3} \\left(v^{2} + 12\\right)} \\left(2 \\mu_{q} + 2 s_{q} v - v \\left(s_{q} + 1\\right)\\right)^{2}$$"
      ],
      "text/plain": [
       "                                          2              2\n",
       "                                       2⋅v    2⋅(μ_q - v) \n",
       "                                       ──── - ────────────\n",
       "                                    2   3       s_q + 1   \n",
       "9⋅√3⋅(2⋅μ_q + 2⋅s_q⋅v - v⋅(s_q + 1)) ⋅ℯ                   \n",
       "──────────────────────────────────────────────────────────\n",
       "                            3 ⎛ 2     ⎞                   \n",
       "                   (s_q + 1) ⋅⎝v  + 12⎠                   "
      ]
     },
     "execution_count": 29,
     "metadata": {},
     "output_type": "execute_result"
    }
   ],
   "source": [
    "slope_standard = smp.simplify(slope.subs({mp: 0, pp:1, pk: 1, pq: 1/sq}))\n",
    "slope_standard"
   ]
  },
  {
   "cell_type": "code",
   "execution_count": 30,
   "metadata": {
    "collapsed": false
   },
   "outputs": [
    {
     "data": {
      "text/plain": [
       "<matplotlib.text.Text at 0x7f8115475f50>"
      ]
     },
     "execution_count": 30,
     "metadata": {},
     "output_type": "execute_result"
    },
    {
     "data": {
      "image/png": "[encoded data removed]",
      "text/plain": [
       "<matplotlib.figure.Figure at 0x7f8115536350>"
      ]
     },
     "metadata": {},
     "output_type": "display_data"
    }
   ],
   "source": [
    "# mqs = [-1, 0, 1.2]\n",
    "mqs = [0]\n",
    "sqs = [0.05, 1, 1.8]\n",
    "# sqs = [1]\n",
    "vs = np.linspace(-8, 8, 300)\n",
    "plt.figure(figsize=(8, 6))\n",
    "for mq1 in mqs:\n",
    "    for sq1 in sqs:\n",
    "        f = smp.lambdify(v, slope_standard.subs({mq: mq1, sq: sq1}))\n",
    "        fs = [f(tmp) for tmp in vs]\n",
    "        plt.plot(vs, fs, label=r'$m_q: {0}, s_q: {1}$'.format(mq1, sq1))\n",
    "    \n",
    "plt.legend(bbox_to_anchor=(1.6, 1))\n",
    "plt.xlabel('v')\n",
    "plt.ylabel('slope')"
   ]
  },
  {
   "cell_type": "code",
   "execution_count": null,
   "metadata": {
    "collapsed": true
   },
   "outputs": [],
   "source": []
  },
  {
   "cell_type": "code",
   "execution_count": null,
   "metadata": {
    "collapsed": true
   },
   "outputs": [],
   "source": []
  },
  {
   "cell_type": "code",
   "execution_count": null,
   "metadata": {
    "collapsed": true
   },
   "outputs": [],
   "source": []
  },
  {
   "cell_type": "code",
   "execution_count": null,
   "metadata": {
    "collapsed": true
   },
   "outputs": [],
   "source": []
  },
  {
   "cell_type": "code",
   "execution_count": null,
   "metadata": {
    "collapsed": true
   },
   "outputs": [],
   "source": []
  }
 ],
 "metadata": {
  "kernelspec": {
   "display_name": "Python 2",
   "language": "python",
   "name": "python2"
  },
  "language_info": {
   "codemirror_mode": {
    "name": "ipython",
    "version": 2
   },
   "file_extension": ".py",
   "mimetype": "text/x-python",
   "name": "python",
   "nbconvert_exporter": "python",
   "pygments_lexer": "ipython2",
   "version": "2.7.11+"
  }
 },
 "nbformat": 4,
 "nbformat_minor": 0
}
