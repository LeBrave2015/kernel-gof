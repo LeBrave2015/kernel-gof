{
 "cells": [
  {
   "cell_type": "markdown",
   "metadata": {},
   "source": [
    "# Introduction to `kgof`"
   ]
  },
  {
   "cell_type": "markdown",
   "metadata": {},
   "source": [
    "This notebook will introduce you to  `kgof` (kernel goodness-of-fit), a Python package implementing a linear-time kernel-based goodness-of-fit test as described in \n",
    "\n",
    "    A Linear-Time Kernel Goodness-of-Fit Test\n",
    "    Wittawat Jitkrittum, Wenkai Xu, Zoltan Szabo, Kenji Fukumizu, Arthur Gretton\n",
    "    https://arxiv.org/abs/1705.07673\n",
    "\n",
    "See the [Github page](https://github.com/wittawatj/kernel-gof) for more information. \n",
    "\n",
    "Make sure that you have `kgof` included in Python's search path. In particular the following import statements should not produce any fatal error."
   ]
  },
  {
   "cell_type": "code",
   "execution_count": 1,
   "metadata": {
    "collapsed": false
   },
   "outputs": [],
   "source": [
    "%load_ext autoreload\n",
    "%autoreload 2\n",
    "%matplotlib inline\n",
    "\n",
    "import kgof\n",
    "import kgof.data as data\n",
    "import kgof.density as density\n",
    "import kgof.goftest as gof\n",
    "import kgof.kernel as kernel\n",
    "import kgof.util as util\n",
    "import matplotlib\n",
    "import matplotlib.pyplot as plt\n",
    "import autograd.numpy as np\n",
    "import scipy.stats as stats"
   ]
  },
  {
   "cell_type": "markdown",
   "metadata": {},
   "source": [
    "In `kgof`, we use [`autograd`](https://github.com/HIPS/autograd) to compute derivatives for our optimization problem. So instead of \n",
    "\n",
    "    import numpy as np\n",
    "\n",
    "make sure you use \n",
    "\n",
    "    import autograd.numpy as np"
   ]
  },
  {
   "cell_type": "markdown",
   "metadata": {},
   "source": [
    "## Goodness-of-fit test"
   ]
  },
  {
   "cell_type": "markdown",
   "metadata": {},
   "source": [
    "Given a known probability density $p$ (model) and a sample $\\{ \\mathbf{x}_i \\}_{i=1}^n \\sim q$ where $q$ is an unknown density, a goodness-of-fit test proposes a null hypothesis\n",
    "\n",
    "$H_0: p = q$\n",
    "\n",
    "against the alternative hypothesis\n",
    "\n",
    "$H_1: p \\neq q$. \n",
    "\n",
    "In other words, it tests whether or not the sample $\\{ \\mathbf{x}_i \\}_{i=1}^n $ is distributed according to a known  $p$."
   ]
  },
  {
   "cell_type": "markdown",
   "metadata": {},
   "source": [
    "Our test relies on a new test statistic called **The Finite-Set Stein Discrepancy (FSSD)** which is a discrepancy measure between a density and a sample. Unique features of our new goodness-of-fit test are\n",
    "\n",
    "1. It makes only a few mild assumptions on the distributions $p$ and $q$. The model $p$ can take almost any form. The normalizer of $p$ is not assumed known. The test only assesses the goodness of $p$ through $\\nabla_{\\mathbf{x}} \\log p(\\mathbf{x})$ i.e., the first derivative of the log density.\n",
    "\n",
    "2. The runtime complexity of the full procedure (both parameter tuning and the actual test) is $\\mathcal{O}(n)$ i.e., linear in the sample size. \n",
    "\n",
    "3. It returns a set of points (**features**) which indicate where $p$ fails to fit the data."
   ]
  },
  {
   "cell_type": "markdown",
   "metadata": {},
   "source": [
    "For demonstration purpose, let us consider a simple two-dimensional toy problem where $p$ is the standard Gaussian."
   ]
  },
  {
   "cell_type": "markdown",
   "metadata": {},
   "source": [
    "### A simple Gaussian model"
   ]
  },
  {
   "cell_type": "markdown",
   "metadata": {},
   "source": [
    "Let us assume that $p(\\mathbf{x}) = \\mathcal{N}(\\mathbf{0}, \\mathbf{I})$ in $\\mathbb{R}^2$ (two-dimensional space). The data $\\{ \\mathbf{x}_i \\}_{i=1}^n \\sim q = \\mathcal{N}([m, 0], \\mathbf{I})$ where $m$ specifies the mean of the first coordinate of $q$. From this setting, if $m\\neq 0$, then $H_1$ is true and the test should reject $H_0$. \n",
    "\n",
    "Let us first construct the log density function for our model."
   ]
  },
  {
   "cell_type": "code",
   "execution_count": 2,
   "metadata": {
    "collapsed": true
   },
   "outputs": [],
   "source": [
    "# Assume two dimensions.\n",
    "d = 2\n",
    "def isogauss_log_den(X):\n",
    "    \"\"\"\n",
    "    Evaluate the log density at the points (rows) in X \n",
    "    of the standard isotropic Gaussian.\n",
    "    Note that the density is NOT normalized. \n",
    "    \n",
    "    X: n x d nd-array\n",
    "    return a length-n array\n",
    "    \"\"\"\n",
    "    mean = np.zeros(d)\n",
    "    variance = 1\n",
    "    unden = -np.sum((X-mean)**2, 1)/(2.0*variance)\n",
    "    return unden"
   ]
  },
  {
   "cell_type": "markdown",
   "metadata": {},
   "source": [
    "Notice that the function computes the log of an **unnormalized** density. This works fine as our test only requires $\\nabla_{\\mathbf{x}} \\log p(\\mathbf{x})$ which does not depend on the normalizer. The gradient $\\nabla_{\\mathbf{x}} \\log p(\\mathbf{x})$ will be automatically computed by `autograd`."
   ]
  },
  {
   "cell_type": "markdown",
   "metadata": {},
   "source": [
    "In `kgof` package, a model $p$ can be specified by implementing the class `density.UnnormalizedDensity`. Implementing this directly is a bit tedious, however. An easier way is to use the function \n",
    "\n",
    "    density.from_log_den(d, f) \n",
    "    \n",
    "which takes as input 2 arguments:\n",
    "\n",
    "1. `d`: the dimension of the input space\n",
    "2. `f`: a function taking in a 2D numpy array of size `n x d` and producing a one-dimensional array of size `n` for the `n` values of the log unnormalized density.\n",
    "\n"
   ]
  },
  {
   "cell_type": "markdown",
   "metadata": {},
   "source": [
    "Let us construct an `UnnormalizedDensity` which is the object representing a model. All the implemented goodness-of-fit tests take this object as an input."
   ]
  },
  {
   "cell_type": "code",
   "execution_count": 3,
   "metadata": {
    "collapsed": false
   },
   "outputs": [],
   "source": [
    "# p is an UnnormalizedDensity object\n",
    "p = density.from_log_den(d, isogauss_log_den)"
   ]
  },
  {
   "cell_type": "markdown",
   "metadata": {},
   "source": [
    "Next, let us implement a function to draw sample from $q$."
   ]
  },
  {
   "cell_type": "code",
   "execution_count": 4,
   "metadata": {
    "collapsed": false
   },
   "outputs": [],
   "source": [
    "# Let's assume that m = 1.\n",
    "\n",
    "# If m=0, then p=q and H_0 is true.\n",
    "# m = 0\n",
    "m = 1\n",
    "\n",
    "# Draw n points from q\n",
    "seed = 4\n",
    "np.random.seed(seed)\n",
    "n = 400\n",
    "X = np.random.randn(n, 2) + np.array([m, 0])"
   ]
  },
  {
   "cell_type": "markdown",
   "metadata": {},
   "source": [
    "Plot the data from q"
   ]
  },
  {
   "cell_type": "code",
   "execution_count": 5,
   "metadata": {
    "collapsed": false
   },
   "outputs": [
    {
     "data": {
      "text/plain": [
       "<matplotlib.legend.Legend at 0x7fb19eceb5d0>"
      ]
     },
     "execution_count": 5,
     "metadata": {},
     "output_type": "execute_result"
    },
    {
     "data": {
      "image/png": "[encoded data removed]",
      "text/plain": [
       "<matplotlib.figure.Figure at 0x7fb19eceb250>"
      ]
     },
     "metadata": {},
     "output_type": "display_data"
    }
   ],
   "source": [
    "plt.plot(X[:, 0], X[:, 1], 'ko', label='Data from $q$')\n",
    "plt.legend()"
   ]
  },
  {
   "cell_type": "markdown",
   "metadata": {},
   "source": [
    "All the implemented tests take the data in the form of a `data.Data` object. This is just an encapsulation of the sample `X`. To construct `data.Data` we do the following"
   ]
  },
  {
   "cell_type": "code",
   "execution_count": 6,
   "metadata": {
    "collapsed": true
   },
   "outputs": [],
   "source": [
    "# dat will be fed to the test.\n",
    "dat = data.Data(X)"
   ]
  },
  {
   "cell_type": "markdown",
   "metadata": {},
   "source": [
    "----------"
   ]
  },
  {
   "cell_type": "markdown",
   "metadata": {},
   "source": [
    "Now that we have the data, let us randomly split it into two disjoint halves: `tr` and `te`. The training set `tr` will be used for parameter optimization. The testing set `te` will be used for the actual goodness-of-fit test. `tr` and `te` are again of type `data.Data`."
   ]
  },
  {
   "cell_type": "code",
   "execution_count": 7,
   "metadata": {
    "collapsed": false
   },
   "outputs": [],
   "source": [
    "# We will use 20% of the data for parameter tuning, and 80% for testing.\n",
    "tr, te = dat.split_tr_te(tr_proportion=0.2, seed=2)"
   ]
  },
  {
   "cell_type": "markdown",
   "metadata": {},
   "source": [
    "Let us optimize the parameters of the test on `tr`. The optimization relies on `autograd` to compute the gradient. We will use a Gaussian kernel for the test."
   ]
  },
  {
   "cell_type": "code",
   "execution_count": 8,
   "metadata": {
    "collapsed": false
   },
   "outputs": [],
   "source": [
    "# J is the number of test locations (or features). Typically not larger than 10.\n",
    "J = 1\n",
    "\n",
    "# There are many options for the optimization. \n",
    "# Almost all of them have default values. \n",
    "# Here, we will list a few to give you a sense of what you can control.\n",
    "# Full options can be found in gof.GaussFSSD.optimize_locs_widths(..)\n",
    "opts = {\n",
    "    'reg': 1e-2, # regularization parameter in the optimization objective\n",
    "    'max_iter': 50, # maximum number of gradient ascent iterations\n",
    "    'tol_fun':1e-4, # termination tolerance of the objective\n",
    "}\n",
    "\n",
    "# make sure to give tr (NOT te).\n",
    "# do the optimization with the options in opts.\n",
    "V_opt, gw_opt, opt_info = gof.GaussFSSD.optimize_auto_init(p, tr, J, **opts)"
   ]
  },
  {
   "cell_type": "markdown",
   "metadata": {},
   "source": [
    "The optimization procedure returns back \n",
    "\n",
    "1. `V_opt`: optimized test locations (features). A $J \\times d$ numpy array.\n",
    "2. `gw_opt`: optimized Gaussian width (for the Gaussian kernel). A floating point number.\n",
    "3. `opt_info`: a dictionary containing information gathered during the optimization."
   ]
  },
  {
   "cell_type": "code",
   "execution_count": 9,
   "metadata": {
    "collapsed": false
   },
   "outputs": [
    {
     "data": {
      "text/plain": [
       "{'fun': -0.63875130712987815,\n",
       " 'hess_inv': <3x3 LbfgsInvHessProduct with dtype=float64>,\n",
       " 'jac': array([ -3.16566044e-04,  -1.74685319e-04,  -9.03243564e-06]),\n",
       " 'message': 'CONVERGENCE: REL_REDUCTION_OF_F_<=_FACTR*EPSMCH',\n",
       " 'nfev': 10,\n",
       " 'nit': 9,\n",
       " 'status': 0,\n",
       " 'success': True,\n",
       " 'time_secs': 0.4146249294281006,\n",
       " 'x': array([ 3.21863274, -2.14508742,  0.07083347])}"
      ]
     },
     "execution_count": 9,
     "metadata": {},
     "output_type": "execute_result"
    }
   ],
   "source": [
    "opt_info"
   ]
  },
  {
   "cell_type": "markdown",
   "metadata": {},
   "source": [
    "Let us use these optimized parameters to construct the FSSD test. Our test using a Gaussian kernels is implemented in `kgof.goftest.GaussFSSD`. "
   ]
  },
  {
   "cell_type": "code",
   "execution_count": 10,
   "metadata": {
    "collapsed": false
   },
   "outputs": [],
   "source": [
    "# alpha = significance level of the test\n",
    "alpha = 0.01\n",
    "fssd_opt = gof.GaussFSSD(p, gw_opt, V_opt, alpha)"
   ]
  },
  {
   "cell_type": "markdown",
   "metadata": {},
   "source": [
    "Perform the goodness-of-fit test on the testing data `te`."
   ]
  },
  {
   "cell_type": "code",
   "execution_count": 11,
   "metadata": {
    "collapsed": false
   },
   "outputs": [
    {
     "data": {
      "text/plain": [
       "{'alpha': 0.01,\n",
       " 'h0_rejected': True,\n",
       " 'n_simulate': 3000,\n",
       " 'pvalue': 0.0,\n",
       " 'test_stat': 66.043451805606296,\n",
       " 'time_secs': 0.004291057586669922}"
      ]
     },
     "execution_count": 11,
     "metadata": {},
     "output_type": "execute_result"
    }
   ],
   "source": [
    "# return a dictionary of testing results\n",
    "test_result = fssd_opt.perform_test(te)\n",
    "test_result"
   ]
  },
  {
   "cell_type": "markdown",
   "metadata": {},
   "source": [
    "It can be seen that the test correctly rejects $H_0$ with a very small p-value."
   ]
  },
  {
   "cell_type": "markdown",
   "metadata": {},
   "source": [
    "### Learned features\n",
    "\n",
    "Let us check the optimized test locations. We will plot the training data, the learned feature(s) and the contour of the unnormalized density of $p$."
   ]
  },
  {
   "cell_type": "code",
   "execution_count": 12,
   "metadata": {
    "collapsed": false
   },
   "outputs": [
    {
     "data": {
      "text/plain": [
       "<matplotlib.legend.Legend at 0x7fb19c902e90>"
      ]
     },
     "execution_count": 12,
     "metadata": {},
     "output_type": "execute_result"
    },
    {
     "data": {
      "image/png": "[encoded data removed]",
      "text/plain": [
       "<matplotlib.figure.Figure at 0x7fb19c927550>"
      ]
     },
     "metadata": {},
     "output_type": "display_data"
    }
   ],
   "source": [
    "# xtr is an n x d numpy array\n",
    "xtr = tr.data()\n",
    "\n",
    "# training data\n",
    "plt.plot(xtr[:, 0], xtr[:, 1], 'ko', label='Training data')\n",
    "\n",
    "# feature\n",
    "plt.plot(V_opt[:, 0], V_opt[:, 1], 'r*', label='Learned feature(s)', markersize=20)\n",
    "\n",
    "max0, max1 = np.max(xtr, 0)\n",
    "min0, min1 = np.min(xtr, 0)\n",
    "\n",
    "sd0, sd1 = ((max0-min0)*0.4, (max1-min1)*0.4)\n",
    "# form a test location grid to try \n",
    "nd0 = 30\n",
    "nd1 = 30\n",
    "loc0_cands = np.linspace(min0-sd0/2, max0+sd0/2, nd0)\n",
    "loc1_cands = np.linspace(min1-sd1/2, max1+sd1/2, nd1)\n",
    "lloc0, lloc1 = np.meshgrid(loc0_cands, loc1_cands)\n",
    "# nd1 x nd0 x 2\n",
    "loc3d = np.dstack((lloc0, lloc1))\n",
    "# #candidates x 2\n",
    "all_loc2s = np.reshape(loc3d, (-1, 2) )\n",
    "\n",
    "den_grid = np.exp(p.log_den(all_loc2s))\n",
    "den_grid = np.reshape(den_grid, (nd1, nd0))\n",
    "\n",
    "# plt.figure(figsize=(10, 6))\n",
    "# Plot the unnormalized density\n",
    "CS = plt.contour(lloc0, lloc1, den_grid, alpha=0.7, label='p',)\n",
    "plt.legend(numpoints=1, loc='best')"
   ]
  },
  {
   "cell_type": "markdown",
   "metadata": {},
   "source": [
    "Here, the learned feature(s) indicate that the data do not match the tail profile of $p$. If you would like to see the optimization surface, see the notebook `fssd_locs_surface.ipynb`.\n"
   ]
  },
  {
   "cell_type": "markdown",
   "metadata": {},
   "source": [
    "##### Exercise \n",
    "Go back to where we sample the data from $q$, and change `m` (mean of the first coordinate of $q$) to 0. This will make $p=q$ so that $H_0$ is now true. Run the whole procedure again and verify that the test will not reject $H_0$. (Technically, the probability of rejecting is about $\\alpha$.) \n",
    "\n",
    "Note that when the test fails to reject, the learned features are not interpretable. They will be arbitrary."
   ]
  },
  {
   "cell_type": "markdown",
   "metadata": {},
   "source": [
    "## Important note"
   ]
  },
  {
   "cell_type": "markdown",
   "metadata": {},
   "source": [
    "A few points worth mentioning\n",
    "\n",
    "* The FSSD test requires that the derivative of $\\log p$ exists. \n",
    "* The test requires a technical condition called the \"vanishing boundary\" condition for it be consistent. The condition is $\\lim_{\\|\\mathbf{x} \\|\\to \\infty} p(\\mathbf{x}) \\mathbf{g}(\\mathbf{x}) = \\mathbf{0}$ where $\\mathbf{g}$ is the so called the `Stein witness function` (see the paper) which depends on the kernel and $\\nabla_{\\mathbf{x}} \\log p(\\mathbf{x})$. For a density $p$ which has support everywhere e.g., Gaussian, there is no problem at all. However, for a density defined on a domain with a boundary, one has to be careful. For example, if $p$ is a Gamma density defined on the positive orthant of $\\mathbb{R}$, the density itself can actually be evaluated on negative points. Looking at the way the Gamma density is written, there is nothing that tells the test that it cannot be evaluated on negative orthant. Therefore, if $p$ is Gamma, and the observed sample also follows $p$ (i.e., $H_0$ is true), the test will still reject $H_0$! The reason is that the data do not match the left tail (in the negative region!) of the Gamma. It is necessary to include the fact that negative region has 0 density into the density itself."
   ]
  },
  {
   "cell_type": "markdown",
   "metadata": {},
   "source": [
    "\n",
    "-----------------------"
   ]
  },
  {
   "cell_type": "markdown",
   "metadata": {},
   "source": [
    "## Specify $p$ directly with its gradient"
   ]
  },
  {
   "cell_type": "markdown",
   "metadata": {},
   "source": [
    "As mentioned, the FSSD test requires only $\\nabla_{\\mathbf{x}} \\log p(\\mathbf{x})$, and not even $\\log p(\\mathbf{x})$. If your model is such that it is easier to specify with its gradient, then this can be done as well. For instance, $\\nabla_{\\mathbf{x}} \\log p(\\mathbf{x})$ when $p(\\mathbf{x}) = \\mathcal{N}(\\mathbf{0}, \\mathbf{I})$ is given by $-\\mathbf{x}$."
   ]
  },
  {
   "cell_type": "code",
   "execution_count": 13,
   "metadata": {
    "collapsed": true
   },
   "outputs": [],
   "source": [
    "def isogauss_grad_log(X):\n",
    "    \"\"\"\n",
    "    Evaluate the gradient of the log density of N(0, I) at the points (rows) in X.\n",
    "    \n",
    "    X: n x d nd-array\n",
    "    Return an n x d numpy array of gradients\n",
    "    \"\"\"\n",
    "    return -X"
   ]
  },
  {
   "cell_type": "markdown",
   "metadata": {},
   "source": [
    "The `UnnormalizedDensity` can then be constructed with the following code. This defines the same model as before, and therefore will give the same test result."
   ]
  },
  {
   "cell_type": "code",
   "execution_count": 14,
   "metadata": {
    "collapsed": true
   },
   "outputs": [],
   "source": [
    "p1 = density.from_grad_log(d, isogauss_grad_log)"
   ]
  },
  {
   "cell_type": "code",
   "execution_count": null,
   "metadata": {
    "collapsed": true
   },
   "outputs": [],
   "source": []
  }
 ],
 "metadata": {
  "kernelspec": {
   "display_name": "Python 2",
   "language": "python",
   "name": "python2"
  },
  "language_info": {
   "codemirror_mode": {
    "name": "ipython",
    "version": 2
   },
   "file_extension": ".py",
   "mimetype": "text/x-python",
   "name": "python",
   "nbconvert_exporter": "python",
   "pygments_lexer": "ipython2",
   "version": "2.7.13"
  }
 },
 "nbformat": 4,
 "nbformat_minor": 0
}
