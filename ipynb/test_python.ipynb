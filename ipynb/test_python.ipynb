{
 "cells": [
  {
   "cell_type": "code",
   "execution_count": null,
   "metadata": {
    "collapsed": false
   },
   "outputs": [],
   "source": [
    "%load_ext autoreload\n",
    "%autoreload 2\n",
    "%matplotlib inline\n",
    "#%config InlineBackend.figure_format = 'svg'\n",
    "#%config InlineBackend.figure_format = 'pdf'\n",
    "\n",
    "import kgof\n",
    "import kgof.data as data\n",
    "import kgof.density as density\n",
    "import kgof.goftest as gof\n",
    "import kgof.kernel as kernel\n",
    "import kgof.util as util\n",
    "import matplotlib\n",
    "import matplotlib.pyplot as plt\n",
    "import autograd.numpy as np\n",
    "import scipy.stats as stats\n",
    "import tensorflow as tf"
   ]
  },
  {
   "cell_type": "code",
   "execution_count": null,
   "metadata": {
    "collapsed": true
   },
   "outputs": [],
   "source": [
    "# font options\n",
    "font = {\n",
    "    #'family' : 'normal',\n",
    "    #'weight' : 'bold',\n",
    "    'size'   : 18\n",
    "}\n",
    "\n",
    "plt.rc('font', **font)\n",
    "plt.rc('lines', linewidth=2)\n",
    "matplotlib.rcParams['pdf.fonttype'] = 42\n",
    "matplotlib.rcParams['ps.fonttype'] = 42"
   ]
  },
  {
   "cell_type": "markdown",
   "metadata": {},
   "source": [
    "## Shapiro-Wilk"
   ]
  },
  {
   "cell_type": "code",
   "execution_count": null,
   "metadata": {
    "collapsed": false
   },
   "outputs": [],
   "source": [
    "# Can it work for the multivariate case?\n",
    "#x = np.random.randn(200, 2).dot(np.random.rand(2, 2)) + 3\n",
    "x = stats.t.rvs(df=5, size=500) \n",
    "st, pval = stats.shapiro(x)\n",
    "print 'stat: {0}, pval: {0}'.format( st, pval)"
   ]
  },
  {
   "cell_type": "markdown",
   "metadata": {},
   "source": [
    "## Anderson-Darling"
   ]
  },
  {
   "cell_type": "code",
   "execution_count": null,
   "metadata": {
    "collapsed": false
   },
   "outputs": [],
   "source": [
    "result =  stats.anderson(x, dist='norm')\n",
    "result"
   ]
  },
  {
   "cell_type": "code",
   "execution_count": null,
   "metadata": {
    "collapsed": false
   },
   "outputs": [],
   "source": [
    "A = np.reshape(range(12), (4, 3))\n",
    "A"
   ]
  },
  {
   "cell_type": "code",
   "execution_count": null,
   "metadata": {
    "collapsed": false
   },
   "outputs": [],
   "source": [
    "A*np.random.randn(3)"
   ]
  },
  {
   "cell_type": "markdown",
   "metadata": {
    "collapsed": true
   },
   "source": [
    "## Hashing function handles"
   ]
  },
  {
   "cell_type": "code",
   "execution_count": null,
   "metadata": {
    "collapsed": false
   },
   "outputs": [],
   "source": [
    "f1 = lambda x: x**2\n",
    "hash(f1.__code__)"
   ]
  },
  {
   "cell_type": "code",
   "execution_count": null,
   "metadata": {
    "collapsed": false
   },
   "outputs": [],
   "source": [
    "class Func(object):\n",
    "    def __call__(self, x):\n",
    "        return x**3\n",
    "\n",
    "f2 = Func()\n",
    "f2(2)"
   ]
  },
  {
   "cell_type": "code",
   "execution_count": null,
   "metadata": {
    "collapsed": false
   },
   "outputs": [],
   "source": [
    "hash(f2)"
   ]
  },
  {
   "cell_type": "code",
   "execution_count": null,
   "metadata": {
    "collapsed": false
   },
   "outputs": [],
   "source": [
    "import pickle\n",
    "iso = density.IsotropicNormal(np.zeros(2), 1)"
   ]
  },
  {
   "cell_type": "markdown",
   "metadata": {},
   "source": [
    "## Test autograd"
   ]
  },
  {
   "cell_type": "code",
   "execution_count": null,
   "metadata": {
    "collapsed": true
   },
   "outputs": [],
   "source": [
    "import autograd as ag\n",
    "#import numpy as np\n",
    "import autograd.numpy as np\n",
    "\n",
    "def kgauss(X, Y, sigma2=1):\n",
    "    sumx = np.sum(X**2, 1)\n",
    "    sumy = np.sum(Y**2, 1)\n",
    "    D2 = sumx.reshape(-1, 1) - 2*X.dot(Y.T) + sumy.reshape(1, -1)\n",
    "    K = np.exp(-D2/(2.0*sigma2))\n",
    "    return K\n",
    "\n",
    "def exp(X):\n",
    "    Y = X\n",
    "    d = {'a': Y}\n",
    "    return np.exp(-d['a'])[0, :]"
   ]
  },
  {
   "cell_type": "code",
   "execution_count": null,
   "metadata": {
    "collapsed": false
   },
   "outputs": [],
   "source": [
    "n = 3\n",
    "d = 2\n",
    "X = np.random.randn(n, d)\n",
    "\n",
    "#K = kgauss(X, X)\n",
    "#g_kg = ag.grad(kgauss)\n",
    "#g_kg(X, X)\n",
    "\n",
    "E = exp(X)\n",
    "g_exp = ag.elementwise_grad(exp)\n",
    "j_exp = ag.jacobian(exp)"
   ]
  },
  {
   "cell_type": "code",
   "execution_count": null,
   "metadata": {
    "collapsed": false
   },
   "outputs": [],
   "source": [
    "E"
   ]
  },
  {
   "cell_type": "code",
   "execution_count": null,
   "metadata": {
    "collapsed": false
   },
   "outputs": [],
   "source": [
    "g_exp(X)"
   ]
  },
  {
   "cell_type": "code",
   "execution_count": null,
   "metadata": {
    "collapsed": false
   },
   "outputs": [],
   "source": [
    "j_exp(X)"
   ]
  },
  {
   "cell_type": "markdown",
   "metadata": {},
   "source": [
    "## Test autograd with instance variables"
   ]
  },
  {
   "cell_type": "code",
   "execution_count": null,
   "metadata": {
    "collapsed": false
   },
   "outputs": [],
   "source": [
    "import autograd\n",
    "import autograd.numpy as np\n",
    "import copy"
   ]
  },
  {
   "cell_type": "code",
   "execution_count": null,
   "metadata": {
    "collapsed": false
   },
   "outputs": [],
   "source": [
    "seed = 8\n",
    "mean = np.zeros(d)\n",
    "variance = 1\n",
    "isonorm = density.IsotropicNormal(mean, variance)\n",
    "\n",
    "# only one dimension of the mean is shifted\n",
    "#draw_mean = mean + np.hstack((1, np.zeros(d-1)))\n",
    "draw_mean = mean +0\n",
    "draw_variance = variance + 1\n",
    "X = util.randn(n, d, seed=seed)*np.sqrt(draw_variance) + draw_mean\n",
    "dat = data.Data(X)\n"
   ]
  },
  {
   "cell_type": "code",
   "execution_count": null,
   "metadata": {
    "collapsed": false
   },
   "outputs": [],
   "source": [
    "def optimize_obj(p, data, k_cls, k_params, V0):\n",
    "    k = k_cls.from_params(**k_params)\n",
    "    fssd = gof.FSSD(p, k, V0, seed=seed+1)\n",
    "    fea_tensor = fssd.feature_tensor(X)\n",
    "    u_mean, u_variance = gof.FSSD.ustat_h1_mean_variance(fea_tensor, return_variance=True)\n",
    "    # mean/sd criterion \n",
    "    obj = u_mean/np.sqrt(u_variance)\n",
    "    return obj"
   ]
  },
  {
   "cell_type": "code",
   "execution_count": null,
   "metadata": {
    "collapsed": true
   },
   "outputs": [],
   "source": [
    "J = 3\n",
    "sig2 = util.meddistance(X, subsample=1000)**2\n",
    "k_params = {'sigma2': sig2}\n",
    "#k = kernel.KGauss(sig2)\n",
    "\n",
    "# random test locations\n",
    "V = util.fit_gaussian_draw(X, J, seed=seed+1)\n"
   ]
  },
  {
   "cell_type": "markdown",
   "metadata": {},
   "source": [
    "## Autograd + scipy.optimize"
   ]
  },
  {
   "cell_type": "code",
   "execution_count": null,
   "metadata": {
    "collapsed": false
   },
   "outputs": [],
   "source": [
    "def f(X):\n",
    "    n, d = X.shape\n",
    "    mean = np.hstack((2, np.zeros(d-1)))\n",
    "    norm2 = np.sum((X-mean)**2, 1)\n",
    "    return norm2\n",
    "\n",
    "g = autograd.elementwise_grad(f)"
   ]
  },
  {
   "cell_type": "code",
   "execution_count": null,
   "metadata": {
    "collapsed": false
   },
   "outputs": [],
   "source": [
    "with util.NumpySeedContext(seed=2):\n",
    "    X = np.random.randint(1, 4+1, 6).reshape(3, 2)*1.0\n",
    "X"
   ]
  },
  {
   "cell_type": "code",
   "execution_count": null,
   "metadata": {
    "collapsed": false
   },
   "outputs": [],
   "source": [
    "f(X)"
   ]
  },
  {
   "cell_type": "code",
   "execution_count": null,
   "metadata": {
    "collapsed": false
   },
   "outputs": [],
   "source": [
    "g(X)"
   ]
  },
  {
   "cell_type": "code",
   "execution_count": null,
   "metadata": {
    "collapsed": false,
    "scrolled": true
   },
   "outputs": [],
   "source": [
    "import scipy\n",
    "\n",
    "n = 3\n",
    "d = 2\n",
    "\n",
    "obj = lambda X: np.sum(f(X))\n",
    "flat_obj = lambda x: obj(np.reshape(x, (n, d)))\n",
    "g_obj = autograd.elementwise_grad(flat_obj)\n",
    "\n",
    "X0 = np.random.randn(n, d)*20 + 3\n",
    "x0 = np.reshape(X0, -1)\n",
    "opt_result = scipy.optimize.minimize(flat_obj, x0, method='BFGS', jac=g_obj)\n",
    "X_opt = opt_result['x'].reshape(n, d)\n",
    "X_opt"
   ]
  },
  {
   "cell_type": "markdown",
   "metadata": {},
   "source": [
    "## Autograd + scipy.optimize for FSSD"
   ]
  },
  {
   "cell_type": "code",
   "execution_count": null,
   "metadata": {
    "collapsed": false
   },
   "outputs": [],
   "source": [
    "J = 1\n",
    "seed = 8\n",
    "n = 10\n",
    "d = 1\n",
    "mean = np.zeros(d)\n",
    "variance = 1\n",
    "p = density.IsotropicNormal(mean, variance)\n",
    "\n",
    "\n",
    "# only one dimension of the mean is shifted\n",
    "#draw_mean = mean + np.hstack((1, np.zeros(d-1)))\n",
    "draw_mean = mean +1\n",
    "draw_variance = variance + 0\n",
    "X = util.randn(n, d, seed=seed)*np.sqrt(draw_variance) + draw_mean\n",
    "dat = data.Data(X)\n",
    "\n",
    "sig2 = util.meddistance(X, subsample=1000)**2\n",
    "k_params = {'sigma2': sig2}\n",
    "#k = kernel.KGauss(sig2)\n",
    "\n",
    "# random test locations\n",
    "V0 = util.fit_gaussian_draw(X, J, seed=seed+1)\n",
    "tr, te = dat.split_tr_te(tr_proportion=0.5, seed=4)"
   ]
  },
  {
   "cell_type": "code",
   "execution_count": null,
   "metadata": {
    "collapsed": true
   },
   "outputs": [],
   "source": [
    "def obj(sqrt_gwidth, V):\n",
    "    return -gof.GaussFSSD.power_criterion(p, tr, sqrt_gwidth**2, V)\n",
    "\n",
    "flatten = lambda gwidth, V: np.hstack((gwidth, V.reshape(-1)))\n",
    "\n",
    "def unflatten(x):\n",
    "    sqrt_gwidth = x[0]\n",
    "    V = np.reshape(x[1:], (J, d))\n",
    "    return sqrt_gwidth, V\n",
    "\n",
    "def flat_obj(x):\n",
    "    sqrt_gwidth, V = unflatten(x)\n",
    "    return obj(sqrt_gwidth, V)\n",
    "\n",
    "g_obj = autograd.elementwise_grad(flat_obj)\n",
    "x0 = flatten(np.sqrt(sig2), V0)"
   ]
  },
  {
   "cell_type": "code",
   "execution_count": null,
   "metadata": {
    "collapsed": false
   },
   "outputs": [],
   "source": [
    "import autograd.util\n",
    "autograd.util.quick_grad_check(flat_obj, x0)"
   ]
  },
  {
   "cell_type": "code",
   "execution_count": null,
   "metadata": {
    "collapsed": false
   },
   "outputs": [],
   "source": [
    "g_obj(x0)"
   ]
  },
  {
   "cell_type": "code",
   "execution_count": null,
   "metadata": {
    "collapsed": false,
    "scrolled": false
   },
   "outputs": [],
   "source": [
    "opt_result = scipy.optimize.minimize(\n",
    "    flat_obj, x0, method='BFGS', \n",
    "    #jac=g_obj\n",
    ")\n",
    "x_opt = opt_result['x']\n",
    "sq_gw_opt, V_opt = unflatten(x_opt)\n",
    "gw_opt = sq_gw_opt**2"
   ]
  },
  {
   "cell_type": "code",
   "execution_count": null,
   "metadata": {
    "collapsed": false,
    "scrolled": false
   },
   "outputs": [],
   "source": [
    "opt_result"
   ]
  },
  {
   "cell_type": "code",
   "execution_count": null,
   "metadata": {
    "collapsed": false,
    "scrolled": true
   },
   "outputs": [],
   "source": [
    "gw_opt"
   ]
  },
  {
   "cell_type": "code",
   "execution_count": null,
   "metadata": {
    "collapsed": false
   },
   "outputs": [],
   "source": [
    "V_opt"
   ]
  },
  {
   "cell_type": "code",
   "execution_count": null,
   "metadata": {
    "collapsed": false,
    "scrolled": true
   },
   "outputs": [],
   "source": [
    "V0"
   ]
  },
  {
   "cell_type": "markdown",
   "metadata": {},
   "source": [
    "## Stacking"
   ]
  },
  {
   "cell_type": "code",
   "execution_count": null,
   "metadata": {
    "collapsed": false
   },
   "outputs": [],
   "source": [
    "X = np.reshape(range(4*3*2), (4, 3, 2))"
   ]
  },
  {
   "cell_type": "code",
   "execution_count": null,
   "metadata": {
    "collapsed": false
   },
   "outputs": [],
   "source": [
    "X"
   ]
  },
  {
   "cell_type": "code",
   "execution_count": null,
   "metadata": {
    "collapsed": false
   },
   "outputs": [],
   "source": [
    "np.transpose(X, (1, 2, 0))"
   ]
  },
  {
   "cell_type": "code",
   "execution_count": null,
   "metadata": {
    "collapsed": false
   },
   "outputs": [],
   "source": [
    "np.concatenate([mat[:, np.newaxis] for mat in X], axis=2)"
   ]
  },
  {
   "cell_type": "code",
   "execution_count": null,
   "metadata": {
    "collapsed": true
   },
   "outputs": [],
   "source": []
  },
  {
   "cell_type": "code",
   "execution_count": null,
   "metadata": {
    "collapsed": true
   },
   "outputs": [],
   "source": []
  },
  {
   "cell_type": "code",
   "execution_count": null,
   "metadata": {
    "collapsed": true
   },
   "outputs": [],
   "source": []
  }
 ],
 "metadata": {
  "kernelspec": {
   "display_name": "Python [Root]",
   "language": "python",
   "name": "Python [Root]"
  },
  "language_info": {
   "codemirror_mode": {
    "name": "ipython",
    "version": 2
   },
   "file_extension": ".py",
   "mimetype": "text/x-python",
   "name": "python",
   "nbconvert_exporter": "python",
   "pygments_lexer": "ipython2",
   "version": "2.7.12"
  }
 },
 "nbformat": 4,
 "nbformat_minor": 0
}
