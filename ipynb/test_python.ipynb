{
 "cells": [
  {
   "cell_type": "code",
   "execution_count": 1,
   "metadata": {
    "collapsed": false
   },
   "outputs": [],
   "source": [
    "%load_ext autoreload\n",
    "%autoreload 2\n",
    "%matplotlib inline\n",
    "#%config InlineBackend.figure_format = 'svg'\n",
    "#%config InlineBackend.figure_format = 'pdf'\n",
    "\n",
    "import kgof\n",
    "import kgof.data as data\n",
    "import kgof.density as density\n",
    "import kgof.goftest as gof\n",
    "import kgof.kernel as kernel\n",
    "import kgof.util as util\n",
    "import matplotlib\n",
    "import matplotlib.pyplot as plt\n",
    "import autograd.numpy as np\n",
    "import scipy.stats as stats\n",
    "import tensorflow as tf"
   ]
  },
  {
   "cell_type": "code",
   "execution_count": 2,
   "metadata": {
    "collapsed": true
   },
   "outputs": [],
   "source": [
    "# font options\n",
    "font = {\n",
    "    #'family' : 'normal',\n",
    "    #'weight' : 'bold',\n",
    "    'size'   : 18\n",
    "}\n",
    "\n",
    "plt.rc('font', **font)\n",
    "plt.rc('lines', linewidth=2)\n",
    "matplotlib.rcParams['pdf.fonttype'] = 42\n",
    "matplotlib.rcParams['ps.fonttype'] = 42"
   ]
  },
  {
   "cell_type": "markdown",
   "metadata": {},
   "source": [
    "## Shapiro-Wilk"
   ]
  },
  {
   "cell_type": "code",
   "execution_count": 3,
   "metadata": {
    "collapsed": false
   },
   "outputs": [
    {
     "name": "stdout",
     "output_type": "stream",
     "text": [
      "stat: 0.977645576, pval: 0.977645576\n"
     ]
    }
   ],
   "source": [
    "# Can it work for the multivariate case?\n",
    "#x = np.random.randn(200, 2).dot(np.random.rand(2, 2)) + 3\n",
    "x = stats.t.rvs(df=5, size=500) \n",
    "st, pval = stats.shapiro(x)\n",
    "print 'stat: {0}, pval: {0}'.format( st, pval)"
   ]
  },
  {
   "cell_type": "markdown",
   "metadata": {},
   "source": [
    "## Anderson-Darling"
   ]
  },
  {
   "cell_type": "code",
   "execution_count": 4,
   "metadata": {
    "collapsed": false
   },
   "outputs": [
    {
     "data": {
      "text/plain": [
       "AndersonResult(statistic=2.614600187209021, critical_values=array([ 0.571,  0.651,  0.781,  0.911,  1.083]), significance_level=array([ 15. ,  10. ,   5. ,   2.5,   1. ]))"
      ]
     },
     "execution_count": 4,
     "metadata": {},
     "output_type": "execute_result"
    }
   ],
   "source": [
    "result =  stats.anderson(x, dist='norm')\n",
    "result"
   ]
  },
  {
   "cell_type": "code",
   "execution_count": 5,
   "metadata": {
    "collapsed": false
   },
   "outputs": [
    {
     "data": {
      "text/plain": [
       "array([[ 0,  1,  2],\n",
       "       [ 3,  4,  5],\n",
       "       [ 6,  7,  8],\n",
       "       [ 9, 10, 11]])"
      ]
     },
     "execution_count": 5,
     "metadata": {},
     "output_type": "execute_result"
    }
   ],
   "source": [
    "A = np.reshape(range(12), (4, 3))\n",
    "A"
   ]
  },
  {
   "cell_type": "code",
   "execution_count": 6,
   "metadata": {
    "collapsed": false
   },
   "outputs": [
    {
     "data": {
      "text/plain": [
       "array([[ -0.        ,   0.46625675,  -0.50478007],\n",
       "       [ -4.66824543,   1.86502698,  -1.26195018],\n",
       "       [ -9.33649086,   3.26379722,  -2.01912029],\n",
       "       [-14.00473629,   4.66256746,  -2.7762904 ]])"
      ]
     },
     "execution_count": 6,
     "metadata": {},
     "output_type": "execute_result"
    }
   ],
   "source": [
    "A*np.random.randn(3)"
   ]
  },
  {
   "cell_type": "markdown",
   "metadata": {
    "collapsed": true
   },
   "source": [
    "## Hashing function handles"
   ]
  },
  {
   "cell_type": "code",
   "execution_count": 7,
   "metadata": {
    "collapsed": false
   },
   "outputs": [
    {
     "data": {
      "text/plain": [
       "941130003640358038"
      ]
     },
     "execution_count": 7,
     "metadata": {},
     "output_type": "execute_result"
    }
   ],
   "source": [
    "f1 = lambda x: x**2\n",
    "hash(f1.__code__)"
   ]
  },
  {
   "cell_type": "code",
   "execution_count": 8,
   "metadata": {
    "collapsed": false
   },
   "outputs": [
    {
     "data": {
      "text/plain": [
       "8"
      ]
     },
     "execution_count": 8,
     "metadata": {},
     "output_type": "execute_result"
    }
   ],
   "source": [
    "class Func(object):\n",
    "    def __call__(self, x):\n",
    "        return x**3\n",
    "\n",
    "f2 = Func()\n",
    "f2(2)"
   ]
  },
  {
   "cell_type": "code",
   "execution_count": 9,
   "metadata": {
    "collapsed": false
   },
   "outputs": [
    {
     "data": {
      "text/plain": [
       "8793572282521"
      ]
     },
     "execution_count": 9,
     "metadata": {},
     "output_type": "execute_result"
    }
   ],
   "source": [
    "hash(f2)"
   ]
  },
  {
   "cell_type": "code",
   "execution_count": 10,
   "metadata": {
    "collapsed": false
   },
   "outputs": [],
   "source": [
    "import pickle\n",
    "iso = density.IsotropicNormal(np.zeros(2), 1)"
   ]
  },
  {
   "cell_type": "markdown",
   "metadata": {},
   "source": [
    "## Test autograd"
   ]
  },
  {
   "cell_type": "code",
   "execution_count": 11,
   "metadata": {
    "collapsed": true
   },
   "outputs": [],
   "source": [
    "import autograd as ag\n",
    "#import numpy as np\n",
    "import autograd.numpy as np\n",
    "\n",
    "def kgauss(X, Y, sigma2=1):\n",
    "    sumx = np.sum(X**2, 1)\n",
    "    sumy = np.sum(Y**2, 1)\n",
    "    D2 = sumx.reshape(-1, 1) - 2*X.dot(Y.T) + sumy.reshape(1, -1)\n",
    "    K = np.exp(-D2/(2.0*sigma2))\n",
    "    return K\n",
    "\n",
    "def exp(X):\n",
    "    Y = X\n",
    "    d = {'a': Y}\n",
    "    return np.exp(-d['a'])[0, :]"
   ]
  },
  {
   "cell_type": "code",
   "execution_count": 12,
   "metadata": {
    "collapsed": false
   },
   "outputs": [],
   "source": [
    "n = 3\n",
    "d = 2\n",
    "X = np.random.randn(n, d)\n",
    "\n",
    "#K = kgauss(X, X)\n",
    "#g_kg = ag.grad(kgauss)\n",
    "#g_kg(X, X)\n",
    "\n",
    "E = exp(X)\n",
    "g_exp = ag.elementwise_grad(exp)\n",
    "j_exp = ag.jacobian(exp)"
   ]
  },
  {
   "cell_type": "code",
   "execution_count": 13,
   "metadata": {
    "collapsed": false
   },
   "outputs": [
    {
     "data": {
      "text/plain": [
       "array([ 0.40831223,  0.71494586])"
      ]
     },
     "execution_count": 13,
     "metadata": {},
     "output_type": "execute_result"
    }
   ],
   "source": [
    "E"
   ]
  },
  {
   "cell_type": "code",
   "execution_count": 14,
   "metadata": {
    "collapsed": false
   },
   "outputs": [
    {
     "data": {
      "text/plain": [
       "array([[-0.40831223, -0.71494586],\n",
       "       [-0.        , -0.        ],\n",
       "       [-0.        , -0.        ]])"
      ]
     },
     "execution_count": 14,
     "metadata": {},
     "output_type": "execute_result"
    }
   ],
   "source": [
    "g_exp(X)"
   ]
  },
  {
   "cell_type": "code",
   "execution_count": 15,
   "metadata": {
    "collapsed": false
   },
   "outputs": [
    {
     "data": {
      "text/plain": [
       "array([[[-0.40831223, -0.        ],\n",
       "        [-0.        , -0.        ],\n",
       "        [-0.        , -0.        ]],\n",
       "\n",
       "       [[-0.        , -0.71494586],\n",
       "        [-0.        , -0.        ],\n",
       "        [-0.        , -0.        ]]])"
      ]
     },
     "execution_count": 15,
     "metadata": {},
     "output_type": "execute_result"
    }
   ],
   "source": [
    "j_exp(X)"
   ]
  },
  {
   "cell_type": "markdown",
   "metadata": {},
   "source": [
    "## Test autograd with instance variables"
   ]
  },
  {
   "cell_type": "code",
   "execution_count": 16,
   "metadata": {
    "collapsed": false
   },
   "outputs": [],
   "source": [
    "import autograd\n",
    "import autograd.numpy as np\n",
    "import copy"
   ]
  },
  {
   "cell_type": "code",
   "execution_count": 17,
   "metadata": {
    "collapsed": false
   },
   "outputs": [],
   "source": [
    "seed = 8\n",
    "mean = np.zeros(d)\n",
    "variance = 1\n",
    "isonorm = density.IsotropicNormal(mean, variance)\n",
    "\n",
    "# only one dimension of the mean is shifted\n",
    "#draw_mean = mean + np.hstack((1, np.zeros(d-1)))\n",
    "draw_mean = mean +0\n",
    "draw_variance = variance + 1\n",
    "X = util.randn(n, d, seed=seed)*np.sqrt(draw_variance) + draw_mean\n",
    "dat = data.Data(X)\n"
   ]
  },
  {
   "cell_type": "code",
   "execution_count": 18,
   "metadata": {
    "collapsed": false
   },
   "outputs": [],
   "source": [
    "def optimize_obj(p, data, k_cls, k_params, V0):\n",
    "    k = k_cls.from_params(**k_params)\n",
    "    fssd = gof.FSSD(p, k, V0, seed=seed+1)\n",
    "    fea_tensor = fssd.feature_tensor(X)\n",
    "    u_mean, u_variance = gof.FSSD.ustat_h1_mean_variance(fea_tensor, return_variance=True)\n",
    "    # mean/sd criterion \n",
    "    obj = u_mean/np.sqrt(u_variance)\n",
    "    return obj"
   ]
  },
  {
   "cell_type": "code",
   "execution_count": 19,
   "metadata": {
    "collapsed": true
   },
   "outputs": [],
   "source": [
    "J = 3\n",
    "sig2 = util.meddistance(X, subsample=1000)**2\n",
    "k_params = {'sigma2': sig2}\n",
    "#k = kernel.KGauss(sig2)\n",
    "\n",
    "# random test locations\n",
    "V = util.fit_gaussian_draw(X, J, seed=seed+1)\n"
   ]
  },
  {
   "cell_type": "markdown",
   "metadata": {},
   "source": [
    "## Autograd + scipy.optimize"
   ]
  },
  {
   "cell_type": "code",
   "execution_count": 20,
   "metadata": {
    "collapsed": false
   },
   "outputs": [],
   "source": [
    "def f(X):\n",
    "    n, d = X.shape\n",
    "    mean = np.hstack((2, np.zeros(d-1)))\n",
    "    norm2 = np.sum((X-mean)**2, 1)\n",
    "    return norm2\n",
    "\n",
    "g = autograd.elementwise_grad(f)"
   ]
  },
  {
   "cell_type": "code",
   "execution_count": 21,
   "metadata": {
    "collapsed": false
   },
   "outputs": [
    {
     "data": {
      "text/plain": [
       "array([[ 1.,  4.],\n",
       "       [ 2.,  1.],\n",
       "       [ 3.,  4.]])"
      ]
     },
     "execution_count": 21,
     "metadata": {},
     "output_type": "execute_result"
    }
   ],
   "source": [
    "with util.NumpySeedContext(seed=2):\n",
    "    X = np.random.randint(1, 4+1, 6).reshape(3, 2)*1.0\n",
    "X"
   ]
  },
  {
   "cell_type": "code",
   "execution_count": 22,
   "metadata": {
    "collapsed": false
   },
   "outputs": [
    {
     "data": {
      "text/plain": [
       "array([ 17.,   1.,  17.])"
      ]
     },
     "execution_count": 22,
     "metadata": {},
     "output_type": "execute_result"
    }
   ],
   "source": [
    "f(X)"
   ]
  },
  {
   "cell_type": "code",
   "execution_count": 23,
   "metadata": {
    "collapsed": false
   },
   "outputs": [
    {
     "data": {
      "text/plain": [
       "array([[-2.,  8.],\n",
       "       [ 0.,  2.],\n",
       "       [ 2.,  8.]])"
      ]
     },
     "execution_count": 23,
     "metadata": {},
     "output_type": "execute_result"
    }
   ],
   "source": [
    "g(X)"
   ]
  },
  {
   "cell_type": "code",
   "execution_count": 24,
   "metadata": {
    "collapsed": false,
    "scrolled": true
   },
   "outputs": [
    {
     "data": {
      "text/plain": [
       "array([[  2.00000000e+00,   1.06793914e-16],\n",
       "       [  2.00000000e+00,  -1.62196645e-16],\n",
       "       [  2.00000000e+00,  -7.17308157e-16]])"
      ]
     },
     "execution_count": 24,
     "metadata": {},
     "output_type": "execute_result"
    }
   ],
   "source": [
    "import scipy\n",
    "\n",
    "n = 3\n",
    "d = 2\n",
    "\n",
    "obj = lambda X: np.sum(f(X))\n",
    "flat_obj = lambda x: obj(np.reshape(x, (n, d)))\n",
    "g_obj = autograd.elementwise_grad(flat_obj)\n",
    "\n",
    "X0 = np.random.randn(n, d)*20 + 3\n",
    "x0 = np.reshape(X0, -1)\n",
    "opt_result = scipy.optimize.minimize(flat_obj, x0, method='BFGS', jac=g_obj)\n",
    "X_opt = opt_result['x'].reshape(n, d)\n",
    "X_opt"
   ]
  },
  {
   "cell_type": "markdown",
   "metadata": {},
   "source": [
    "## Autograd + scipy.optimize for FSSD"
   ]
  },
  {
   "cell_type": "code",
   "execution_count": 25,
   "metadata": {
    "collapsed": false
   },
   "outputs": [],
   "source": [
    "J = 1\n",
    "seed = 8\n",
    "n = 10\n",
    "d = 1\n",
    "mean = np.zeros(d)\n",
    "variance = 1\n",
    "p = density.IsotropicNormal(mean, variance)\n",
    "\n",
    "\n",
    "# only one dimension of the mean is shifted\n",
    "#draw_mean = mean + np.hstack((1, np.zeros(d-1)))\n",
    "draw_mean = mean +1\n",
    "draw_variance = variance + 0\n",
    "X = util.randn(n, d, seed=seed)*np.sqrt(draw_variance) + draw_mean\n",
    "dat = data.Data(X)\n",
    "\n",
    "sig2 = util.meddistance(X, subsample=1000)**2\n",
    "k_params = {'sigma2': sig2}\n",
    "#k = kernel.KGauss(sig2)\n",
    "\n",
    "# random test locations\n",
    "V0 = util.fit_gaussian_draw(X, J, seed=seed+1)\n",
    "tr, te = dat.split_tr_te(tr_proportion=0.5, seed=4)"
   ]
  },
  {
   "cell_type": "code",
   "execution_count": 26,
   "metadata": {
    "collapsed": true
   },
   "outputs": [],
   "source": [
    "def obj(sqrt_gwidth, V):\n",
    "    return -gof.GaussFSSD.power_criterion(p, tr, sqrt_gwidth**2, V)\n",
    "\n",
    "flatten = lambda gwidth, V: np.hstack((gwidth, V.reshape(-1)))\n",
    "\n",
    "def unflatten(x):\n",
    "    sqrt_gwidth = x[0]\n",
    "    V = np.reshape(x[1:], (J, d))\n",
    "    return sqrt_gwidth, V\n",
    "\n",
    "def flat_obj(x):\n",
    "    sqrt_gwidth, V = unflatten(x)\n",
    "    return obj(sqrt_gwidth, V)\n",
    "\n",
    "g_obj = autograd.elementwise_grad(flat_obj)\n",
    "x0 = flatten(np.sqrt(sig2), V0)"
   ]
  },
  {
   "cell_type": "code",
   "execution_count": 27,
   "metadata": {
    "collapsed": false
   },
   "outputs": [
    {
     "name": "stdout",
     "output_type": "stream",
     "text": [
      "Checking gradient of <function flat_obj at 0x7ff637381758> at [ 1.63663145  1.36850222]\n",
      "Gradient projection OK (numeric grad: -0.294909088998, analytic grad: -0.294909088937)\n"
     ]
    }
   ],
   "source": [
    "import autograd.util\n",
    "autograd.util.quick_grad_check(flat_obj, x0)"
   ]
  },
  {
   "cell_type": "code",
   "execution_count": 28,
   "metadata": {
    "collapsed": false
   },
   "outputs": [
    {
     "data": {
      "text/plain": [
       "array([ 0.37707431, -0.37689997])"
      ]
     },
     "execution_count": 28,
     "metadata": {},
     "output_type": "execute_result"
    }
   ],
   "source": [
    "g_obj(x0)"
   ]
  },
  {
   "cell_type": "code",
   "execution_count": 29,
   "metadata": {
    "collapsed": false,
    "scrolled": false
   },
   "outputs": [],
   "source": [
    "opt_result = scipy.optimize.minimize(\n",
    "    flat_obj, x0, method='BFGS', \n",
    "    #jac=g_obj\n",
    ")\n",
    "x_opt = opt_result['x']\n",
    "sq_gw_opt, V_opt = unflatten(x_opt)\n",
    "gw_opt = sq_gw_opt**2"
   ]
  },
  {
   "cell_type": "code",
   "execution_count": 30,
   "metadata": {
    "collapsed": false,
    "scrolled": false
   },
   "outputs": [
    {
     "data": {
      "text/plain": [
       "      fun: -0.2546053058321977\n",
       " hess_inv: array([[ 2.28831516,  2.67696389],\n",
       "       [ 2.67696389,  3.13504783]])\n",
       "      jac: array([  6.18398190e-07,  -5.28991222e-07])\n",
       "  message: 'Optimization terminated successfully.'\n",
       "     nfev: 112\n",
       "      nit: 21\n",
       "     njev: 28\n",
       "   status: 0\n",
       "  success: True\n",
       "        x: array([ 0.12617789,  2.04414291])"
      ]
     },
     "execution_count": 30,
     "metadata": {},
     "output_type": "execute_result"
    }
   ],
   "source": [
    "opt_result"
   ]
  },
  {
   "cell_type": "code",
   "execution_count": 31,
   "metadata": {
    "collapsed": false,
    "scrolled": true
   },
   "outputs": [
    {
     "data": {
      "text/plain": [
       "0.015920860781117381"
      ]
     },
     "execution_count": 31,
     "metadata": {},
     "output_type": "execute_result"
    }
   ],
   "source": [
    "gw_opt"
   ]
  },
  {
   "cell_type": "code",
   "execution_count": 32,
   "metadata": {
    "collapsed": false
   },
   "outputs": [
    {
     "data": {
      "text/plain": [
       "array([[ 2.04414291]])"
      ]
     },
     "execution_count": 32,
     "metadata": {},
     "output_type": "execute_result"
    }
   ],
   "source": [
    "V_opt"
   ]
  },
  {
   "cell_type": "code",
   "execution_count": 33,
   "metadata": {
    "collapsed": false,
    "scrolled": true
   },
   "outputs": [
    {
     "data": {
      "text/plain": [
       "array([[ 1.36850222]])"
      ]
     },
     "execution_count": 33,
     "metadata": {},
     "output_type": "execute_result"
    }
   ],
   "source": [
    "V0"
   ]
  },
  {
   "cell_type": "markdown",
   "metadata": {},
   "source": [
    "## Stacking"
   ]
  },
  {
   "cell_type": "code",
   "execution_count": 34,
   "metadata": {
    "collapsed": false
   },
   "outputs": [],
   "source": [
    "X = np.reshape(range(4*3*2), (4, 3, 2))"
   ]
  },
  {
   "cell_type": "code",
   "execution_count": 35,
   "metadata": {
    "collapsed": false
   },
   "outputs": [
    {
     "data": {
      "text/plain": [
       "array([[[ 0,  1],\n",
       "        [ 2,  3],\n",
       "        [ 4,  5]],\n",
       "\n",
       "       [[ 6,  7],\n",
       "        [ 8,  9],\n",
       "        [10, 11]],\n",
       "\n",
       "       [[12, 13],\n",
       "        [14, 15],\n",
       "        [16, 17]],\n",
       "\n",
       "       [[18, 19],\n",
       "        [20, 21],\n",
       "        [22, 23]]])"
      ]
     },
     "execution_count": 35,
     "metadata": {},
     "output_type": "execute_result"
    }
   ],
   "source": [
    "X"
   ]
  },
  {
   "cell_type": "code",
   "execution_count": 36,
   "metadata": {
    "collapsed": false,
    "scrolled": true
   },
   "outputs": [
    {
     "data": {
      "text/plain": [
       "array([[[ 0,  6, 12, 18],\n",
       "        [ 1,  7, 13, 19]],\n",
       "\n",
       "       [[ 2,  8, 14, 20],\n",
       "        [ 3,  9, 15, 21]],\n",
       "\n",
       "       [[ 4, 10, 16, 22],\n",
       "        [ 5, 11, 17, 23]]])"
      ]
     },
     "execution_count": 36,
     "metadata": {},
     "output_type": "execute_result"
    }
   ],
   "source": [
    "np.transpose(X, (1, 2, 0))"
   ]
  },
  {
   "cell_type": "code",
   "execution_count": 37,
   "metadata": {
    "collapsed": false
   },
   "outputs": [
    {
     "data": {
      "text/plain": [
       "array([[[ 0,  1,  6,  7, 12, 13, 18, 19]],\n",
       "\n",
       "       [[ 2,  3,  8,  9, 14, 15, 20, 21]],\n",
       "\n",
       "       [[ 4,  5, 10, 11, 16, 17, 22, 23]]])"
      ]
     },
     "execution_count": 37,
     "metadata": {},
     "output_type": "execute_result"
    }
   ],
   "source": [
    "np.concatenate([mat[:, np.newaxis] for mat in X], axis=2)"
   ]
  },
  {
   "cell_type": "markdown",
   "metadata": {
    "collapsed": true
   },
   "source": [
    "## Gaussian-Bernoulli RBM"
   ]
  },
  {
   "cell_type": "code",
   "execution_count": 39,
   "metadata": {
    "collapsed": false
   },
   "outputs": [],
   "source": [
    "dh = 2\n",
    "dx = 5\n",
    "n = 80\n",
    "seed = 55\n",
    "var_perturb = 1e-3\n",
    "with util.NumpySeedContext(seed=seed):\n",
    "    B = np.random.randint(0, 2, (dx, dh))*2-1.0\n",
    "    B_perturb = B + np.random.randn(dx, dh)*np.sqrt(var_perturb)\n",
    "    #B = np.random.randn(dx, dh)\n",
    "    b = np.random.randn(dx)\n",
    "    c = np.random.randn(dh)\n",
    "    gb_rbm = data.DSGaussBernRBM(B_perturb, b, c, burnin=50)\n",
    "    p = density.GaussBernRBM(B, b, c)\n",
    "    \n",
    "    D = gb_rbm.sample(n, seed=seed+3)\n",
    "    X = D.data()"
   ]
  },
  {
   "cell_type": "code",
   "execution_count": 40,
   "metadata": {
    "collapsed": false
   },
   "outputs": [
    {
     "data": {
      "text/plain": [
       "[<matplotlib.lines.Line2D at 0x7ff633288850>]"
      ]
     },
     "execution_count": 40,
     "metadata": {},
     "output_type": "execute_result"
    },
    {
     "data": {
      "image/png": "[encoded data removed]",
      "text/plain": [
       "<matplotlib.figure.Figure at 0x7ff6332de3d0>"
      ]
     },
     "metadata": {},
     "output_type": "display_data"
    }
   ],
   "source": [
    "plt.plot(X[:, 0], X[:, 1], 'b.')"
   ]
  },
  {
   "cell_type": "code",
   "execution_count": 44,
   "metadata": {
    "collapsed": false
   },
   "outputs": [
    {
     "data": {
      "text/plain": [
       "{'alpha': 0.01,\n",
       " 'h0_rejected': False,\n",
       " 'n_simulate': 500,\n",
       " 'pvalue': 0.19800000000000001,\n",
       " 'test_stat': 7.1268087476653141,\n",
       " 'time_secs': 0.03510403633117676}"
      ]
     },
     "execution_count": 44,
     "metadata": {},
     "output_type": "execute_result"
    }
   ],
   "source": [
    "kstein = gof.KernelSteinTest(p, k, alpha=0.01)\n",
    "kstein.perform_test(D)"
   ]
  },
  {
   "cell_type": "markdown",
   "metadata": {
    "collapsed": true
   },
   "source": [
    "## T distribution"
   ]
  },
  {
   "cell_type": "code",
   "execution_count": 47,
   "metadata": {
    "collapsed": false
   },
   "outputs": [
    {
     "data": {
      "text/plain": [
       "array([[-0.87908096],\n",
       "       [-0.15026574],\n",
       "       [-3.29875157],\n",
       "       [-5.53383718],\n",
       "       [-3.43911094],\n",
       "       [ 2.8883013 ],\n",
       "       [ 3.59621931],\n",
       "       [ 0.8697296 ],\n",
       "       [ 1.21405264],\n",
       "       [-0.73102322],\n",
       "       [-0.55142736],\n",
       "       [ 1.68957516],\n",
       "       [ 0.14333762],\n",
       "       [ 0.62751317],\n",
       "       [ 0.34305654],\n",
       "       [-2.25792764],\n",
       "       [ 3.37418581],\n",
       "       [ 0.8703625 ],\n",
       "       [ 0.02772491],\n",
       "       [-0.10468136],\n",
       "       [ 0.01605984],\n",
       "       [-0.09247375],\n",
       "       [ 0.66212361],\n",
       "       [-0.07547758],\n",
       "       [ 4.51992048],\n",
       "       [ 0.12490432],\n",
       "       [-0.13253676],\n",
       "       [-2.63278659],\n",
       "       [-1.09262299],\n",
       "       [-0.97793605],\n",
       "       [ 2.30225629],\n",
       "       [ 1.82481109],\n",
       "       [ 0.15166613],\n",
       "       [ 0.76415826],\n",
       "       [-2.3094217 ],\n",
       "       [ 0.24585178],\n",
       "       [ 1.17783561],\n",
       "       [ 0.12052428],\n",
       "       [ 0.56549722],\n",
       "       [-1.1828179 ],\n",
       "       [ 0.10801365],\n",
       "       [-0.85589054],\n",
       "       [ 1.54098103],\n",
       "       [ 1.74012283],\n",
       "       [ 0.36036757],\n",
       "       [-4.40405173],\n",
       "       [ 0.02189412],\n",
       "       [ 7.48928529],\n",
       "       [-0.44574721],\n",
       "       [ 1.27059005],\n",
       "       [-0.50168804],\n",
       "       [ 1.64617056],\n",
       "       [ 0.53622288],\n",
       "       [ 0.23422068],\n",
       "       [-0.28238227],\n",
       "       [-0.34523582],\n",
       "       [-0.89375928],\n",
       "       [ 2.31071249],\n",
       "       [ 0.79141067],\n",
       "       [ 5.60444924],\n",
       "       [ 0.48617   ],\n",
       "       [ 2.77153177],\n",
       "       [ 1.69139278],\n",
       "       [-0.3856104 ],\n",
       "       [-1.10922036],\n",
       "       [-0.25207282],\n",
       "       [-0.21551959],\n",
       "       [ 0.47059717],\n",
       "       [-0.46644408],\n",
       "       [ 1.97922426],\n",
       "       [-0.28331742],\n",
       "       [-0.61674279],\n",
       "       [-2.01177065],\n",
       "       [ 0.39538959],\n",
       "       [ 0.18076004],\n",
       "       [-0.16687268],\n",
       "       [-0.12735344],\n",
       "       [ 0.16326057],\n",
       "       [ 2.02194759],\n",
       "       [-1.56538568],\n",
       "       [ 0.6352247 ],\n",
       "       [-2.82134899],\n",
       "       [-2.36622417],\n",
       "       [ 0.22293977],\n",
       "       [-3.39346415],\n",
       "       [-0.25148255],\n",
       "       [ 0.01404462],\n",
       "       [-2.89692816],\n",
       "       [ 0.49767946],\n",
       "       [-2.7873641 ],\n",
       "       [-6.59581546],\n",
       "       [ 1.02068451],\n",
       "       [-0.55175112],\n",
       "       [-1.16829504],\n",
       "       [ 0.26023158],\n",
       "       [ 0.49615989],\n",
       "       [ 2.31791722],\n",
       "       [-0.6433836 ],\n",
       "       [ 0.19037224],\n",
       "       [ 0.53788484]])"
      ]
     },
     "execution_count": 47,
     "metadata": {},
     "output_type": "execute_result"
    }
   ],
   "source": [
    "stats.t.rvs(df=2, size=100)[:, np.newaxis]"
   ]
  },
  {
   "cell_type": "code",
   "execution_count": null,
   "metadata": {
    "collapsed": true
   },
   "outputs": [],
   "source": []
  },
  {
   "cell_type": "code",
   "execution_count": null,
   "metadata": {
    "collapsed": true
   },
   "outputs": [],
   "source": []
  },
  {
   "cell_type": "code",
   "execution_count": null,
   "metadata": {
    "collapsed": true
   },
   "outputs": [],
   "source": []
  },
  {
   "cell_type": "code",
   "execution_count": null,
   "metadata": {
    "collapsed": true
   },
   "outputs": [],
   "source": []
  },
  {
   "cell_type": "code",
   "execution_count": null,
   "metadata": {
    "collapsed": true
   },
   "outputs": [],
   "source": []
  },
  {
   "cell_type": "code",
   "execution_count": null,
   "metadata": {
    "collapsed": true
   },
   "outputs": [],
   "source": []
  }
 ],
 "metadata": {
  "kernelspec": {
   "display_name": "Python [Root]",
   "language": "python",
   "name": "Python [Root]"
  },
  "language_info": {
   "codemirror_mode": {
    "name": "ipython",
    "version": 2
   },
   "file_extension": ".py",
   "mimetype": "text/x-python",
   "name": "python",
   "nbconvert_exporter": "python",
   "pygments_lexer": "ipython2",
   "version": "2.7.12"
  }
 },
 "nbformat": 4,
 "nbformat_minor": 0
}
