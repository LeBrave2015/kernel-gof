{
 "cells": [
  {
   "cell_type": "markdown",
   "metadata": {
    "collapsed": true
   },
   "source": [
    "This notebook contains notes, things related to the goodness-of-fit test."
   ]
  },
  {
   "cell_type": "code",
   "execution_count": null,
   "metadata": {
    "collapsed": false
   },
   "outputs": [],
   "source": [
    "%load_ext autoreload\n",
    "%autoreload 2\n",
    "%matplotlib inline\n",
    "#%config InlineBackend.figure_format = 'svg'\n",
    "#%config InlineBackend.figure_format = 'pdf'\n",
    "\n",
    "import autograd.numpy as np\n",
    "\n",
    "import matplotlib\n",
    "import matplotlib.pyplot as plt\n",
    "import kgof.data as data\n",
    "import kgof.density as density\n",
    "import kgof.glo as glo\n",
    "import kgof.goftest as gof\n",
    "import kgof.kernel as kernel\n",
    "import kgof.plot as plot\n",
    "import kgof.util as util\n",
    "\n",
    "import scipy.stats as stats"
   ]
  },
  {
   "cell_type": "code",
   "execution_count": null,
   "metadata": {
    "collapsed": false
   },
   "outputs": [],
   "source": [
    "import kgof.plot\n",
    "kgof.plot.set_default_matplotlib_options()"
   ]
  },
  {
   "cell_type": "markdown",
   "metadata": {
    "collapsed": false
   },
   "source": [
    "## Gaussian-Bernoulli RBM Data\n",
    "\n",
    "Explore how the data from a GB-RBM look like."
   ]
  },
  {
   "cell_type": "code",
   "execution_count": null,
   "metadata": {
    "collapsed": true
   },
   "outputs": [],
   "source": [
    "def gbrbm_perturb(std_perturb_B, dx=50, dh=10, seed=98):\n",
    "    \"\"\"\n",
    "    Get a Gaussian-Bernoulli RBM problem where the first entry of the B matrix\n",
    "    (the matrix linking the latent and the observation) is perturbed.\n",
    "\n",
    "    - var_perturb_B: Gaussian noise variance for perturbing B.\n",
    "    - dx: observed dimension\n",
    "    - dh: latent dimension\n",
    "\n",
    "    Return p (density), data source\n",
    "    \"\"\"\n",
    "    with util.NumpySeedContext(seed=seed):\n",
    "        B = np.random.randint(0, 2, (dx, dh))*2 - 1.0\n",
    "        b = np.random.randn(dx)\n",
    "        c = np.random.randn(dh)\n",
    "        p = density.GaussBernRBM(B, b, c)\n",
    "\n",
    "        B_perturb = B.copy()\n",
    "        if std_perturb_B > 1e-7:\n",
    "            B_perturb[0, 0] = B_perturb[0, 0] + \\\n",
    "                np.random.randn(1)*std_perturb_B\n",
    "        ds = data.DSGaussBernRBM(B_perturb, b, c, burnin=2000)\n",
    "\n",
    "    return p, ds\n"
   ]
  },
  {
   "cell_type": "code",
   "execution_count": null,
   "metadata": {
    "collapsed": false
   },
   "outputs": [],
   "source": [
    "dx=50\n",
    "dh=40\n",
    "n = 1000\n",
    "p, ds = gbrbm_perturb(0.0, dx=dx, dh=dh, seed=78)\n",
    "dat = ds.sample(n, seed=43)"
   ]
  },
  {
   "cell_type": "code",
   "execution_count": null,
   "metadata": {
    "collapsed": false
   },
   "outputs": [],
   "source": [
    "import pandas as pd\n",
    "\n",
    "sub_vars = 4\n",
    "X = dat.data()\n",
    "df = pd.DataFrame(X[:, :sub_vars])\n",
    "# http://stackoverflow.com/questions/7941207/is-there-a-function-to-make-scatterplot-matrices-in-matplotlib\n",
    "Axes = pd.tools.plotting.scatter_matrix(df, alpha=0.2, figsize=(10, 10))\n",
    "\n",
    "#y ticklabels\n",
    "fontsize = 24\n",
    "[plt.setp(item.yaxis.get_majorticklabels(), 'size', fontsize) for item in Axes.ravel()]\n",
    "#x ticklabels\n",
    "[plt.setp(item.xaxis.get_majorticklabels(), 'size', fontsize) for item in Axes.ravel()]\n",
    "#y labels\n",
    "[plt.setp(item.yaxis.get_label(), 'size', fontsize) for item in Axes.ravel()]\n",
    "#x labels\n",
    "[plt.setp(item.xaxis.get_label(), 'size', fontsize) for item in Axes.ravel()]\n",
    "# dimx = 0\n",
    "# dimy = 4\n",
    "# plt.plot(X[:, dimx], X[:, dimy], 'k.')\n",
    "fname = 'rbm_scatter_d{0}_dh{1}_v{2}_n{3}.pdf'.format(dx, dh, sub_vars, n)\n",
    "plt.savefig(fname, bbox_inches='tight')"
   ]
  },
  {
   "cell_type": "markdown",
   "metadata": {},
   "source": [
    "## Plot RBM density"
   ]
  },
  {
   "cell_type": "code",
   "execution_count": null,
   "metadata": {
    "collapsed": false,
    "scrolled": false
   },
   "outputs": [],
   "source": [
    "for s in range(1, 5):\n",
    "    seed = s\n",
    "    p, ds_per = gbrbm_perturb(np.sqrt(0.1), dx=2, dh=10, seed=seed)\n",
    "#     ds = p.get_datasource()\n",
    "    ds = ds_per\n",
    "    dat = ds.sample(1000, seed=seed+3)\n",
    "    X = dat.data()\n",
    "\n",
    "    xmin, ymin = np.min(X, 0)\n",
    "    xmax, ymax = np.max(X, 0)\n",
    "    nx = 50\n",
    "    ny = 50\n",
    "    domx = np.linspace(xmin, xmax, nx)\n",
    "    domy = np.linspace(ymin, ymax, ny)\n",
    "    XX, YY = np.meshgrid(domx, domy)\n",
    "    all_points = np.dstack((XX, YY)).reshape(-1, 2)\n",
    "    flat_den = p.log_den(all_points)\n",
    "    ZZ = flat_den.reshape(ny, nx)\n",
    "\n",
    "    plt.figure(figsize=(8, 5))\n",
    "    plt.contourf(XX, YY, ZZ, 20)\n",
    "    plt.colorbar()\n",
    "    plt.plot(X[:, 0], X[:, 1], 'k.', alpha=0.3)\n",
    "    plt.title('Log density')"
   ]
  },
  {
   "cell_type": "markdown",
   "metadata": {
    "collapsed": true
   },
   "source": [
    "## Test DSGaussCosFreq"
   ]
  },
  {
   "cell_type": "code",
   "execution_count": null,
   "metadata": {
    "collapsed": false,
    "scrolled": false
   },
   "outputs": [],
   "source": [
    "for s in range(1, 3):\n",
    "    sigma2 = 5\n",
    "    freqs = np.array([2.0, 1])\n",
    "    p = density.GaussCosFreqs(sigma2, freqs)\n",
    "    ds = p.get_datasource()\n",
    "\n",
    "    seed = s\n",
    "    dat = ds.sample(1000, seed=seed+3)\n",
    "    X = dat.data()\n",
    "\n",
    "    xmin, ymin = np.min(X, 0)\n",
    "    xmax, ymax = np.max(X, 0)\n",
    "    nx = 50\n",
    "    ny = 50\n",
    "    domx = np.linspace(xmin, xmax, nx)\n",
    "    domy = np.linspace(ymin, ymax, ny)\n",
    "    XX, YY = np.meshgrid(domx, domy)\n",
    "    all_points = np.dstack((XX, YY)).reshape(-1, 2)\n",
    "    flat_den = p.log_den(all_points)\n",
    "    ZZ = flat_den.reshape(ny, nx)\n",
    "\n",
    "    plt.figure(figsize=(8, 5))\n",
    "    plt.contourf(XX, YY, ZZ, 20)\n",
    "    plt.colorbar()\n",
    "    plt.plot(X[:, 0], X[:, 1], 'k.', alpha=0.3)\n",
    "    plt.title('Log density')"
   ]
  },
  {
   "cell_type": "code",
   "execution_count": null,
   "metadata": {
    "collapsed": false
   },
   "outputs": [],
   "source": [
    "p_sigma2 = 10\n",
    "p_freqs = np.array([1.0, 1.0])\n",
    "q_sigma2 = 10\n",
    "q_freqs = np.array([1.0, 1.0])\n",
    "\n",
    "p = density.GaussCosFreqs(p_sigma2, p_freqs)    \n",
    "p_ds = p.get_datasource()\n",
    "p = density.GaussCosFreqs(q_sigma2, q_freqs)    \n",
    "q_ds = p.get_datasource()"
   ]
  },
  {
   "cell_type": "code",
   "execution_count": null,
   "metadata": {
    "collapsed": true
   },
   "outputs": [],
   "source": [
    "n = 1000\n",
    "seed = 8\n",
    "p_dat = p_ds.sample(n, seed=seed)\n",
    "q_dat = q_ds.sample(n, seed=seed+1)\n",
    "\n",
    "X = p_dat.data()\n",
    "Y = q_dat.data()"
   ]
  },
  {
   "cell_type": "code",
   "execution_count": null,
   "metadata": {
    "collapsed": false
   },
   "outputs": [],
   "source": [
    "plt.figure(figsize=(8, 8))\n",
    "plt.plot(X[:, 0], X[:, 1], 'b.', alpha=0.4)\n",
    "plt.plot(Y[:, 0], Y[:, 1], 'r.', alpha=0.4)"
   ]
  },
  {
   "cell_type": "markdown",
   "metadata": {},
   "source": [
    "## Permutation"
   ]
  },
  {
   "cell_type": "code",
   "execution_count": null,
   "metadata": {
    "collapsed": false
   },
   "outputs": [],
   "source": [
    "k = 3\n",
    "means = np.random.randn(k, 2)\n",
    "variances = np.random.rand(k)*4\n",
    "p = density.IsoGaussianMixture(means, variances)\n",
    "\n",
    "grad = p.grad_log(np.zeros((5,2)))"
   ]
  },
  {
   "cell_type": "code",
   "execution_count": null,
   "metadata": {
    "collapsed": false
   },
   "outputs": [],
   "source": [
    "grad"
   ]
  },
  {
   "cell_type": "code",
   "execution_count": null,
   "metadata": {
    "collapsed": true
   },
   "outputs": [],
   "source": []
  },
  {
   "cell_type": "code",
   "execution_count": null,
   "metadata": {
    "collapsed": true
   },
   "outputs": [],
   "source": []
  },
  {
   "cell_type": "code",
   "execution_count": null,
   "metadata": {
    "collapsed": true
   },
   "outputs": [],
   "source": []
  },
  {
   "cell_type": "code",
   "execution_count": null,
   "metadata": {
    "collapsed": true
   },
   "outputs": [],
   "source": []
  },
  {
   "cell_type": "code",
   "execution_count": null,
   "metadata": {
    "collapsed": true
   },
   "outputs": [],
   "source": []
  },
  {
   "cell_type": "code",
   "execution_count": null,
   "metadata": {
    "collapsed": true
   },
   "outputs": [],
   "source": []
  },
  {
   "cell_type": "code",
   "execution_count": null,
   "metadata": {
    "collapsed": true
   },
   "outputs": [],
   "source": []
  }
 ],
 "metadata": {
  "kernelspec": {
   "display_name": "Python 2",
   "language": "python",
   "name": "python2"
  },
  "language_info": {
   "codemirror_mode": {
    "name": "ipython",
    "version": 2
   },
   "file_extension": ".py",
   "mimetype": "text/x-python",
   "name": "python",
   "nbconvert_exporter": "python",
   "pygments_lexer": "ipython2",
   "version": "2.7.13"
  }
 },
 "nbformat": 4,
 "nbformat_minor": 0
}
